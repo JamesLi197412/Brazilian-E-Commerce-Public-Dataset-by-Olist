{
 "cells": [
  {
   "cell_type": "code",
   "execution_count": 1,
   "metadata": {
    "collapsed": true,
    "ExecuteTime": {
     "end_time": "2023-12-14T12:06:20.647796Z",
     "start_time": "2023-12-14T12:06:18.271981Z"
    }
   },
   "outputs": [
    {
     "name": "stderr",
     "output_type": "stream",
     "text": [
      "/var/folders/c3/z8gl7_754n15kcrx5rz7k0840000gn/T/ipykernel_12972/3743164934.py:19: FutureWarning: The pandas.datetime class is deprecated and will be removed from pandas in a future version. Import from datetime module instead.\n",
      "  from pandas import datetime\n"
     ]
    }
   ],
   "source": [
    "# Import essential libraries\n",
    "import warnings\n",
    "\n",
    "import matplotlib.pyplot as plt\n",
    "import numpy as np\n",
    "import pandas as pd\n",
    "import seaborn as sns\n",
    "\n",
    "import statsmodels.api as sm\n",
    "from statsmodels.tsa.seasonal import seasonal_decompose\n",
    "\n",
    "from xgboost import XGBRegressor\n",
    "from mlforecast import MLForecast\n",
    "from window_ops.rolling import rolling_mean,rolling_max,rolling_min\n",
    "\n",
    "from xgboost import plot_importance, plot_tree\n",
    "\n",
    "from statsmodels.tsa.arima_model import ARIMA\n",
    "from pandas import datetime\n",
    "\n",
    "import xgboost as xgb  # xgb stuff\n",
    "from sklearn.model_selection import train_test_split\n",
    "\n",
    "from sklearn.model_selection import GridSearchCV\n",
    "from sklearn.metrics import confusion_matrix, ConfusionMatrixDisplay\n",
    "\n",
    "from statsmodels.tsa.stattools import acf, pacf\n",
    "from statsmodels.graphics.tsaplots import plot_acf, plot_pacf\n",
    "\n",
    "warnings.filterwarnings(\"ignore\")"
   ]
  },
  {
   "cell_type": "markdown",
   "source": [
    "# Access to Local Files"
   ],
   "metadata": {
    "collapsed": false
   }
  },
  {
   "cell_type": "code",
   "execution_count": 3,
   "outputs": [],
   "source": [
    "# access files\n",
    "path = 'dataset/'\n",
    "customers = pd.read_csv(path + 'olist_customers_dataset.csv')\n",
    "geolocation = pd.read_csv(path + 'olist_geolocation_dataset.csv')\n",
    "order_items = pd.read_csv(path + 'olist_order_items_dataset.csv')\n",
    "order_payment = pd.read_csv(path + 'olist_order_payments_dataset.csv')\n",
    "order_reviews = pd.read_csv(path + 'olist_order_reviews_dataset.csv')\n",
    "order_dataset = pd.read_csv(path + 'olist_orders_dataset.csv')\n",
    "products = pd.read_csv(path + 'olist_products_dataset.csv')\n",
    "sellers = pd.read_csv(path + 'olist_sellers_dataset.csv')\n",
    "product_category = pd.read_csv(path + 'product_category_name_translation.csv')\n"
   ],
   "metadata": {
    "collapsed": false,
    "ExecuteTime": {
     "end_time": "2023-12-14T12:06:27.623390Z",
     "start_time": "2023-12-14T12:06:20.567351Z"
    }
   }
  },
  {
   "cell_type": "markdown",
   "source": [
    "# Data Exploration"
   ],
   "metadata": {
    "collapsed": false
   }
  },
  {
   "cell_type": "code",
   "execution_count": 4,
   "outputs": [
    {
     "data": {
      "text/plain": "                        customer_id                customer_unique_id  \\\n0  06b8999e2fba1a1fbc88172c00ba8bc7  861eff4711a542e4b93843c6dd7febb0   \n1  18955e83d337fd6b2def6b18a428ac77  290c77bc529b7ac935b93aa66c333dc3   \n2  4e7b3e00288586ebd08712fdd0374a03  060e732b5b29e8181a18229c7b0b2b5e   \n3  b2b6027bc5c5109e529d4dc6358b12c3  259dac757896d24d7702b9acbbff3f3c   \n4  4f2d8ab171c80ec8364f7c12e35b23ad  345ecd01c38d18a9036ed96c73b8d066   \n\n   customer_zip_code_prefix          customer_city customer_state  \n0                     14409                 franca             SP  \n1                      9790  sao bernardo do campo             SP  \n2                      1151              sao paulo             SP  \n3                      8775        mogi das cruzes             SP  \n4                     13056               campinas             SP  ",
      "text/html": "<div>\n<style scoped>\n    .dataframe tbody tr th:only-of-type {\n        vertical-align: middle;\n    }\n\n    .dataframe tbody tr th {\n        vertical-align: top;\n    }\n\n    .dataframe thead th {\n        text-align: right;\n    }\n</style>\n<table border=\"1\" class=\"dataframe\">\n  <thead>\n    <tr style=\"text-align: right;\">\n      <th></th>\n      <th>customer_id</th>\n      <th>customer_unique_id</th>\n      <th>customer_zip_code_prefix</th>\n      <th>customer_city</th>\n      <th>customer_state</th>\n    </tr>\n  </thead>\n  <tbody>\n    <tr>\n      <th>0</th>\n      <td>06b8999e2fba1a1fbc88172c00ba8bc7</td>\n      <td>861eff4711a542e4b93843c6dd7febb0</td>\n      <td>14409</td>\n      <td>franca</td>\n      <td>SP</td>\n    </tr>\n    <tr>\n      <th>1</th>\n      <td>18955e83d337fd6b2def6b18a428ac77</td>\n      <td>290c77bc529b7ac935b93aa66c333dc3</td>\n      <td>9790</td>\n      <td>sao bernardo do campo</td>\n      <td>SP</td>\n    </tr>\n    <tr>\n      <th>2</th>\n      <td>4e7b3e00288586ebd08712fdd0374a03</td>\n      <td>060e732b5b29e8181a18229c7b0b2b5e</td>\n      <td>1151</td>\n      <td>sao paulo</td>\n      <td>SP</td>\n    </tr>\n    <tr>\n      <th>3</th>\n      <td>b2b6027bc5c5109e529d4dc6358b12c3</td>\n      <td>259dac757896d24d7702b9acbbff3f3c</td>\n      <td>8775</td>\n      <td>mogi das cruzes</td>\n      <td>SP</td>\n    </tr>\n    <tr>\n      <th>4</th>\n      <td>4f2d8ab171c80ec8364f7c12e35b23ad</td>\n      <td>345ecd01c38d18a9036ed96c73b8d066</td>\n      <td>13056</td>\n      <td>campinas</td>\n      <td>SP</td>\n    </tr>\n  </tbody>\n</table>\n</div>"
     },
     "execution_count": 4,
     "metadata": {},
     "output_type": "execute_result"
    }
   ],
   "source": [
    "customers.head()"
   ],
   "metadata": {
    "collapsed": false,
    "ExecuteTime": {
     "end_time": "2023-12-14T12:06:27.661310Z",
     "start_time": "2023-12-14T12:06:27.536714Z"
    }
   }
  },
  {
   "cell_type": "code",
   "execution_count": 5,
   "outputs": [
    {
     "data": {
      "text/plain": "   geolocation_zip_code_prefix  geolocation_lat  geolocation_lng  \\\n0                         1037       -23.545621       -46.639292   \n1                         1046       -23.546081       -46.644820   \n2                         1046       -23.546129       -46.642951   \n3                         1041       -23.544392       -46.639499   \n4                         1035       -23.541578       -46.641607   \n\n  geolocation_city geolocation_state  \n0        sao paulo                SP  \n1        sao paulo                SP  \n2        sao paulo                SP  \n3        sao paulo                SP  \n4        sao paulo                SP  ",
      "text/html": "<div>\n<style scoped>\n    .dataframe tbody tr th:only-of-type {\n        vertical-align: middle;\n    }\n\n    .dataframe tbody tr th {\n        vertical-align: top;\n    }\n\n    .dataframe thead th {\n        text-align: right;\n    }\n</style>\n<table border=\"1\" class=\"dataframe\">\n  <thead>\n    <tr style=\"text-align: right;\">\n      <th></th>\n      <th>geolocation_zip_code_prefix</th>\n      <th>geolocation_lat</th>\n      <th>geolocation_lng</th>\n      <th>geolocation_city</th>\n      <th>geolocation_state</th>\n    </tr>\n  </thead>\n  <tbody>\n    <tr>\n      <th>0</th>\n      <td>1037</td>\n      <td>-23.545621</td>\n      <td>-46.639292</td>\n      <td>sao paulo</td>\n      <td>SP</td>\n    </tr>\n    <tr>\n      <th>1</th>\n      <td>1046</td>\n      <td>-23.546081</td>\n      <td>-46.644820</td>\n      <td>sao paulo</td>\n      <td>SP</td>\n    </tr>\n    <tr>\n      <th>2</th>\n      <td>1046</td>\n      <td>-23.546129</td>\n      <td>-46.642951</td>\n      <td>sao paulo</td>\n      <td>SP</td>\n    </tr>\n    <tr>\n      <th>3</th>\n      <td>1041</td>\n      <td>-23.544392</td>\n      <td>-46.639499</td>\n      <td>sao paulo</td>\n      <td>SP</td>\n    </tr>\n    <tr>\n      <th>4</th>\n      <td>1035</td>\n      <td>-23.541578</td>\n      <td>-46.641607</td>\n      <td>sao paulo</td>\n      <td>SP</td>\n    </tr>\n  </tbody>\n</table>\n</div>"
     },
     "execution_count": 5,
     "metadata": {},
     "output_type": "execute_result"
    }
   ],
   "source": [
    "geolocation.head()"
   ],
   "metadata": {
    "collapsed": false,
    "ExecuteTime": {
     "end_time": "2023-12-14T12:06:27.731118Z",
     "start_time": "2023-12-14T12:06:27.568642Z"
    }
   }
  },
  {
   "cell_type": "code",
   "execution_count": 6,
   "outputs": [
    {
     "data": {
      "text/plain": "                           order_id  payment_sequential payment_type  \\\n0  b81ef226f3fe1789b1e8b2acac839d17                   1  credit_card   \n1  a9810da82917af2d9aefd1278f1dcfa0                   1  credit_card   \n2  25e8ea4e93396b6fa0d3dd708e76c1bd                   1  credit_card   \n3  ba78997921bbcdc1373bb41e913ab953                   1  credit_card   \n4  42fdf880ba16b47b59251dd489d4441a                   1  credit_card   \n\n   payment_installments  payment_value  \n0                     8          99.33  \n1                     1          24.39  \n2                     1          65.71  \n3                     8         107.78  \n4                     2         128.45  ",
      "text/html": "<div>\n<style scoped>\n    .dataframe tbody tr th:only-of-type {\n        vertical-align: middle;\n    }\n\n    .dataframe tbody tr th {\n        vertical-align: top;\n    }\n\n    .dataframe thead th {\n        text-align: right;\n    }\n</style>\n<table border=\"1\" class=\"dataframe\">\n  <thead>\n    <tr style=\"text-align: right;\">\n      <th></th>\n      <th>order_id</th>\n      <th>payment_sequential</th>\n      <th>payment_type</th>\n      <th>payment_installments</th>\n      <th>payment_value</th>\n    </tr>\n  </thead>\n  <tbody>\n    <tr>\n      <th>0</th>\n      <td>b81ef226f3fe1789b1e8b2acac839d17</td>\n      <td>1</td>\n      <td>credit_card</td>\n      <td>8</td>\n      <td>99.33</td>\n    </tr>\n    <tr>\n      <th>1</th>\n      <td>a9810da82917af2d9aefd1278f1dcfa0</td>\n      <td>1</td>\n      <td>credit_card</td>\n      <td>1</td>\n      <td>24.39</td>\n    </tr>\n    <tr>\n      <th>2</th>\n      <td>25e8ea4e93396b6fa0d3dd708e76c1bd</td>\n      <td>1</td>\n      <td>credit_card</td>\n      <td>1</td>\n      <td>65.71</td>\n    </tr>\n    <tr>\n      <th>3</th>\n      <td>ba78997921bbcdc1373bb41e913ab953</td>\n      <td>1</td>\n      <td>credit_card</td>\n      <td>8</td>\n      <td>107.78</td>\n    </tr>\n    <tr>\n      <th>4</th>\n      <td>42fdf880ba16b47b59251dd489d4441a</td>\n      <td>1</td>\n      <td>credit_card</td>\n      <td>2</td>\n      <td>128.45</td>\n    </tr>\n  </tbody>\n</table>\n</div>"
     },
     "execution_count": 6,
     "metadata": {},
     "output_type": "execute_result"
    }
   ],
   "source": [
    "order_payment.head()"
   ],
   "metadata": {
    "collapsed": false,
    "ExecuteTime": {
     "end_time": "2023-12-14T12:06:27.768943Z",
     "start_time": "2023-12-14T12:06:27.588514Z"
    }
   }
  },
  {
   "cell_type": "code",
   "execution_count": 7,
   "outputs": [
    {
     "data": {
      "text/plain": "                           order_id  order_item_id  \\\n0  00010242fe8c5a6d1ba2dd792cb16214              1   \n1  00018f77f2f0320c557190d7a144bdd3              1   \n2  000229ec398224ef6ca0657da4fc703e              1   \n3  00024acbcdf0a6daa1e931b038114c75              1   \n4  00042b26cf59d7ce69dfabb4e55b4fd9              1   \n\n                         product_id                         seller_id  \\\n0  4244733e06e7ecb4970a6e2683c13e61  48436dade18ac8b2bce089ec2a041202   \n1  e5f2d52b802189ee658865ca93d83a8f  dd7ddc04e1b6c2c614352b383efe2d36   \n2  c777355d18b72b67abbeef9df44fd0fd  5b51032eddd242adc84c38acab88f23d   \n3  7634da152a4610f1595efa32f14722fc  9d7a1d34a5052409006425275ba1c2b4   \n4  ac6c3623068f30de03045865e4e10089  df560393f3a51e74553ab94004ba5c87   \n\n   shipping_limit_date   price  freight_value  \n0  2017-09-19 09:45:35   58.90          13.29  \n1  2017-05-03 11:05:13  239.90          19.93  \n2  2018-01-18 14:48:30  199.00          17.87  \n3  2018-08-15 10:10:18   12.99          12.79  \n4  2017-02-13 13:57:51  199.90          18.14  ",
      "text/html": "<div>\n<style scoped>\n    .dataframe tbody tr th:only-of-type {\n        vertical-align: middle;\n    }\n\n    .dataframe tbody tr th {\n        vertical-align: top;\n    }\n\n    .dataframe thead th {\n        text-align: right;\n    }\n</style>\n<table border=\"1\" class=\"dataframe\">\n  <thead>\n    <tr style=\"text-align: right;\">\n      <th></th>\n      <th>order_id</th>\n      <th>order_item_id</th>\n      <th>product_id</th>\n      <th>seller_id</th>\n      <th>shipping_limit_date</th>\n      <th>price</th>\n      <th>freight_value</th>\n    </tr>\n  </thead>\n  <tbody>\n    <tr>\n      <th>0</th>\n      <td>00010242fe8c5a6d1ba2dd792cb16214</td>\n      <td>1</td>\n      <td>4244733e06e7ecb4970a6e2683c13e61</td>\n      <td>48436dade18ac8b2bce089ec2a041202</td>\n      <td>2017-09-19 09:45:35</td>\n      <td>58.90</td>\n      <td>13.29</td>\n    </tr>\n    <tr>\n      <th>1</th>\n      <td>00018f77f2f0320c557190d7a144bdd3</td>\n      <td>1</td>\n      <td>e5f2d52b802189ee658865ca93d83a8f</td>\n      <td>dd7ddc04e1b6c2c614352b383efe2d36</td>\n      <td>2017-05-03 11:05:13</td>\n      <td>239.90</td>\n      <td>19.93</td>\n    </tr>\n    <tr>\n      <th>2</th>\n      <td>000229ec398224ef6ca0657da4fc703e</td>\n      <td>1</td>\n      <td>c777355d18b72b67abbeef9df44fd0fd</td>\n      <td>5b51032eddd242adc84c38acab88f23d</td>\n      <td>2018-01-18 14:48:30</td>\n      <td>199.00</td>\n      <td>17.87</td>\n    </tr>\n    <tr>\n      <th>3</th>\n      <td>00024acbcdf0a6daa1e931b038114c75</td>\n      <td>1</td>\n      <td>7634da152a4610f1595efa32f14722fc</td>\n      <td>9d7a1d34a5052409006425275ba1c2b4</td>\n      <td>2018-08-15 10:10:18</td>\n      <td>12.99</td>\n      <td>12.79</td>\n    </tr>\n    <tr>\n      <th>4</th>\n      <td>00042b26cf59d7ce69dfabb4e55b4fd9</td>\n      <td>1</td>\n      <td>ac6c3623068f30de03045865e4e10089</td>\n      <td>df560393f3a51e74553ab94004ba5c87</td>\n      <td>2017-02-13 13:57:51</td>\n      <td>199.90</td>\n      <td>18.14</td>\n    </tr>\n  </tbody>\n</table>\n</div>"
     },
     "execution_count": 7,
     "metadata": {},
     "output_type": "execute_result"
    }
   ],
   "source": [
    "order_items.head()"
   ],
   "metadata": {
    "collapsed": false,
    "ExecuteTime": {
     "end_time": "2023-12-14T12:06:27.802752Z",
     "start_time": "2023-12-14T12:06:27.618334Z"
    }
   }
  },
  {
   "cell_type": "code",
   "execution_count": 8,
   "outputs": [
    {
     "name": "stdout",
     "output_type": "stream",
     "text": [
      "<class 'pandas.core.frame.DataFrame'>\n",
      "RangeIndex: 112650 entries, 0 to 112649\n",
      "Data columns (total 7 columns):\n",
      " #   Column               Non-Null Count   Dtype  \n",
      "---  ------               --------------   -----  \n",
      " 0   order_id             112650 non-null  object \n",
      " 1   order_item_id        112650 non-null  int64  \n",
      " 2   product_id           112650 non-null  object \n",
      " 3   seller_id            112650 non-null  object \n",
      " 4   shipping_limit_date  112650 non-null  object \n",
      " 5   price                112650 non-null  float64\n",
      " 6   freight_value        112650 non-null  float64\n",
      "dtypes: float64(2), int64(1), object(4)\n",
      "memory usage: 6.0+ MB\n"
     ]
    }
   ],
   "source": [
    "order_items.info()"
   ],
   "metadata": {
    "collapsed": false,
    "ExecuteTime": {
     "end_time": "2023-12-14T12:06:27.979143Z",
     "start_time": "2023-12-14T12:06:27.698283Z"
    }
   }
  },
  {
   "cell_type": "code",
   "execution_count": 9,
   "outputs": [
    {
     "data": {
      "text/plain": "                          review_id                          order_id  \\\n0  7bc2406110b926393aa56f80a40eba40  73fc7af87114b39712e6da79b0a377eb   \n1  80e641a11e56f04c1ad469d5645fdfde  a548910a1c6147796b98fdf73dbeba33   \n2  228ce5500dc1d8e020d8d1322874b6f0  f9e4b658b201a9f2ecdecbb34bed034b   \n3  e64fb393e7b32834bb789ff8bb30750e  658677c97b385a9be170737859d3511b   \n4  f7c4243c7fe1938f181bec41a392bdeb  8e6bfb81e283fa7e4f11123a3fb894f1   \n\n   review_score review_comment_title  \\\n0             4                  NaN   \n1             5                  NaN   \n2             5                  NaN   \n3             5                  NaN   \n4             5                  NaN   \n\n                              review_comment_message review_creation_date  \\\n0                                                NaN  2018-01-18 00:00:00   \n1                                                NaN  2018-03-10 00:00:00   \n2                                                NaN  2018-02-17 00:00:00   \n3              Recebi bem antes do prazo estipulado.  2017-04-21 00:00:00   \n4  Parabéns lojas lannister adorei comprar pela I...  2018-03-01 00:00:00   \n\n  review_answer_timestamp  \n0     2018-01-18 21:46:59  \n1     2018-03-11 03:05:13  \n2     2018-02-18 14:36:24  \n3     2017-04-21 22:02:06  \n4     2018-03-02 10:26:53  ",
      "text/html": "<div>\n<style scoped>\n    .dataframe tbody tr th:only-of-type {\n        vertical-align: middle;\n    }\n\n    .dataframe tbody tr th {\n        vertical-align: top;\n    }\n\n    .dataframe thead th {\n        text-align: right;\n    }\n</style>\n<table border=\"1\" class=\"dataframe\">\n  <thead>\n    <tr style=\"text-align: right;\">\n      <th></th>\n      <th>review_id</th>\n      <th>order_id</th>\n      <th>review_score</th>\n      <th>review_comment_title</th>\n      <th>review_comment_message</th>\n      <th>review_creation_date</th>\n      <th>review_answer_timestamp</th>\n    </tr>\n  </thead>\n  <tbody>\n    <tr>\n      <th>0</th>\n      <td>7bc2406110b926393aa56f80a40eba40</td>\n      <td>73fc7af87114b39712e6da79b0a377eb</td>\n      <td>4</td>\n      <td>NaN</td>\n      <td>NaN</td>\n      <td>2018-01-18 00:00:00</td>\n      <td>2018-01-18 21:46:59</td>\n    </tr>\n    <tr>\n      <th>1</th>\n      <td>80e641a11e56f04c1ad469d5645fdfde</td>\n      <td>a548910a1c6147796b98fdf73dbeba33</td>\n      <td>5</td>\n      <td>NaN</td>\n      <td>NaN</td>\n      <td>2018-03-10 00:00:00</td>\n      <td>2018-03-11 03:05:13</td>\n    </tr>\n    <tr>\n      <th>2</th>\n      <td>228ce5500dc1d8e020d8d1322874b6f0</td>\n      <td>f9e4b658b201a9f2ecdecbb34bed034b</td>\n      <td>5</td>\n      <td>NaN</td>\n      <td>NaN</td>\n      <td>2018-02-17 00:00:00</td>\n      <td>2018-02-18 14:36:24</td>\n    </tr>\n    <tr>\n      <th>3</th>\n      <td>e64fb393e7b32834bb789ff8bb30750e</td>\n      <td>658677c97b385a9be170737859d3511b</td>\n      <td>5</td>\n      <td>NaN</td>\n      <td>Recebi bem antes do prazo estipulado.</td>\n      <td>2017-04-21 00:00:00</td>\n      <td>2017-04-21 22:02:06</td>\n    </tr>\n    <tr>\n      <th>4</th>\n      <td>f7c4243c7fe1938f181bec41a392bdeb</td>\n      <td>8e6bfb81e283fa7e4f11123a3fb894f1</td>\n      <td>5</td>\n      <td>NaN</td>\n      <td>Parabéns lojas lannister adorei comprar pela I...</td>\n      <td>2018-03-01 00:00:00</td>\n      <td>2018-03-02 10:26:53</td>\n    </tr>\n  </tbody>\n</table>\n</div>"
     },
     "execution_count": 9,
     "metadata": {},
     "output_type": "execute_result"
    }
   ],
   "source": [
    "order_reviews.head()"
   ],
   "metadata": {
    "collapsed": false,
    "ExecuteTime": {
     "end_time": "2023-12-14T12:06:28.018098Z",
     "start_time": "2023-12-14T12:06:27.745948Z"
    }
   }
  },
  {
   "cell_type": "code",
   "execution_count": 10,
   "outputs": [
    {
     "data": {
      "text/plain": "    product_category_name product_category_name_english\n0            beleza_saude                 health_beauty\n1  informatica_acessorios         computers_accessories\n2              automotivo                          auto\n3         cama_mesa_banho                bed_bath_table\n4        moveis_decoracao               furniture_decor",
      "text/html": "<div>\n<style scoped>\n    .dataframe tbody tr th:only-of-type {\n        vertical-align: middle;\n    }\n\n    .dataframe tbody tr th {\n        vertical-align: top;\n    }\n\n    .dataframe thead th {\n        text-align: right;\n    }\n</style>\n<table border=\"1\" class=\"dataframe\">\n  <thead>\n    <tr style=\"text-align: right;\">\n      <th></th>\n      <th>product_category_name</th>\n      <th>product_category_name_english</th>\n    </tr>\n  </thead>\n  <tbody>\n    <tr>\n      <th>0</th>\n      <td>beleza_saude</td>\n      <td>health_beauty</td>\n    </tr>\n    <tr>\n      <th>1</th>\n      <td>informatica_acessorios</td>\n      <td>computers_accessories</td>\n    </tr>\n    <tr>\n      <th>2</th>\n      <td>automotivo</td>\n      <td>auto</td>\n    </tr>\n    <tr>\n      <th>3</th>\n      <td>cama_mesa_banho</td>\n      <td>bed_bath_table</td>\n    </tr>\n    <tr>\n      <th>4</th>\n      <td>moveis_decoracao</td>\n      <td>furniture_decor</td>\n    </tr>\n  </tbody>\n</table>\n</div>"
     },
     "execution_count": 10,
     "metadata": {},
     "output_type": "execute_result"
    }
   ],
   "source": [
    "product_category.head()"
   ],
   "metadata": {
    "collapsed": false,
    "ExecuteTime": {
     "end_time": "2023-12-14T12:06:28.071163Z",
     "start_time": "2023-12-14T12:06:27.766573Z"
    }
   }
  },
  {
   "cell_type": "code",
   "execution_count": 11,
   "outputs": [
    {
     "data": {
      "text/plain": "                         product_id  product_category_name  \\\n0  1e9e8ef04dbcff4541ed26657ea517e5             perfumaria   \n1  3aa071139cb16b67ca9e5dea641aaa2f                  artes   \n2  96bd76ec8810374ed1b65e291975717f          esporte_lazer   \n3  cef67bcfe19066a932b7673e239eb23d                  bebes   \n4  9dc1a7de274444849c219cff195d0b71  utilidades_domesticas   \n\n   product_name_lenght  product_description_lenght  product_photos_qty  \\\n0                 40.0                       287.0                 1.0   \n1                 44.0                       276.0                 1.0   \n2                 46.0                       250.0                 1.0   \n3                 27.0                       261.0                 1.0   \n4                 37.0                       402.0                 4.0   \n\n   product_weight_g  product_length_cm  product_height_cm  product_width_cm  \n0             225.0               16.0               10.0              14.0  \n1            1000.0               30.0               18.0              20.0  \n2             154.0               18.0                9.0              15.0  \n3             371.0               26.0                4.0              26.0  \n4             625.0               20.0               17.0              13.0  ",
      "text/html": "<div>\n<style scoped>\n    .dataframe tbody tr th:only-of-type {\n        vertical-align: middle;\n    }\n\n    .dataframe tbody tr th {\n        vertical-align: top;\n    }\n\n    .dataframe thead th {\n        text-align: right;\n    }\n</style>\n<table border=\"1\" class=\"dataframe\">\n  <thead>\n    <tr style=\"text-align: right;\">\n      <th></th>\n      <th>product_id</th>\n      <th>product_category_name</th>\n      <th>product_name_lenght</th>\n      <th>product_description_lenght</th>\n      <th>product_photos_qty</th>\n      <th>product_weight_g</th>\n      <th>product_length_cm</th>\n      <th>product_height_cm</th>\n      <th>product_width_cm</th>\n    </tr>\n  </thead>\n  <tbody>\n    <tr>\n      <th>0</th>\n      <td>1e9e8ef04dbcff4541ed26657ea517e5</td>\n      <td>perfumaria</td>\n      <td>40.0</td>\n      <td>287.0</td>\n      <td>1.0</td>\n      <td>225.0</td>\n      <td>16.0</td>\n      <td>10.0</td>\n      <td>14.0</td>\n    </tr>\n    <tr>\n      <th>1</th>\n      <td>3aa071139cb16b67ca9e5dea641aaa2f</td>\n      <td>artes</td>\n      <td>44.0</td>\n      <td>276.0</td>\n      <td>1.0</td>\n      <td>1000.0</td>\n      <td>30.0</td>\n      <td>18.0</td>\n      <td>20.0</td>\n    </tr>\n    <tr>\n      <th>2</th>\n      <td>96bd76ec8810374ed1b65e291975717f</td>\n      <td>esporte_lazer</td>\n      <td>46.0</td>\n      <td>250.0</td>\n      <td>1.0</td>\n      <td>154.0</td>\n      <td>18.0</td>\n      <td>9.0</td>\n      <td>15.0</td>\n    </tr>\n    <tr>\n      <th>3</th>\n      <td>cef67bcfe19066a932b7673e239eb23d</td>\n      <td>bebes</td>\n      <td>27.0</td>\n      <td>261.0</td>\n      <td>1.0</td>\n      <td>371.0</td>\n      <td>26.0</td>\n      <td>4.0</td>\n      <td>26.0</td>\n    </tr>\n    <tr>\n      <th>4</th>\n      <td>9dc1a7de274444849c219cff195d0b71</td>\n      <td>utilidades_domesticas</td>\n      <td>37.0</td>\n      <td>402.0</td>\n      <td>4.0</td>\n      <td>625.0</td>\n      <td>20.0</td>\n      <td>17.0</td>\n      <td>13.0</td>\n    </tr>\n  </tbody>\n</table>\n</div>"
     },
     "execution_count": 11,
     "metadata": {},
     "output_type": "execute_result"
    }
   ],
   "source": [
    "products.head()"
   ],
   "metadata": {
    "collapsed": false,
    "ExecuteTime": {
     "end_time": "2023-12-14T12:06:28.079551Z",
     "start_time": "2023-12-14T12:06:27.803123Z"
    }
   }
  },
  {
   "cell_type": "code",
   "execution_count": 12,
   "outputs": [
    {
     "data": {
      "text/plain": "                           order_id                       customer_id  \\\n0  e481f51cbdc54678b7cc49136f2d6af7  9ef432eb6251297304e76186b10a928d   \n1  53cdb2fc8bc7dce0b6741e2150273451  b0830fb4747a6c6d20dea0b8c802d7ef   \n2  47770eb9100c2d0c44946d9cf07ec65d  41ce2a54c0b03bf3443c3d931a367089   \n3  949d5b44dbf5de918fe9c16f97b45f8a  f88197465ea7920adcdbec7375364d82   \n4  ad21c59c0840e6cb83a9ceb5573f8159  8ab97904e6daea8866dbdbc4fb7aad2c   \n\n  order_status order_purchase_timestamp    order_approved_at  \\\n0    delivered      2017-10-02 10:56:33  2017-10-02 11:07:15   \n1    delivered      2018-07-24 20:41:37  2018-07-26 03:24:27   \n2    delivered      2018-08-08 08:38:49  2018-08-08 08:55:23   \n3    delivered      2017-11-18 19:28:06  2017-11-18 19:45:59   \n4    delivered      2018-02-13 21:18:39  2018-02-13 22:20:29   \n\n  order_delivered_carrier_date order_delivered_customer_date  \\\n0          2017-10-04 19:55:00           2017-10-10 21:25:13   \n1          2018-07-26 14:31:00           2018-08-07 15:27:45   \n2          2018-08-08 13:50:00           2018-08-17 18:06:29   \n3          2017-11-22 13:39:59           2017-12-02 00:28:42   \n4          2018-02-14 19:46:34           2018-02-16 18:17:02   \n\n  order_estimated_delivery_date  \n0           2017-10-18 00:00:00  \n1           2018-08-13 00:00:00  \n2           2018-09-04 00:00:00  \n3           2017-12-15 00:00:00  \n4           2018-02-26 00:00:00  ",
      "text/html": "<div>\n<style scoped>\n    .dataframe tbody tr th:only-of-type {\n        vertical-align: middle;\n    }\n\n    .dataframe tbody tr th {\n        vertical-align: top;\n    }\n\n    .dataframe thead th {\n        text-align: right;\n    }\n</style>\n<table border=\"1\" class=\"dataframe\">\n  <thead>\n    <tr style=\"text-align: right;\">\n      <th></th>\n      <th>order_id</th>\n      <th>customer_id</th>\n      <th>order_status</th>\n      <th>order_purchase_timestamp</th>\n      <th>order_approved_at</th>\n      <th>order_delivered_carrier_date</th>\n      <th>order_delivered_customer_date</th>\n      <th>order_estimated_delivery_date</th>\n    </tr>\n  </thead>\n  <tbody>\n    <tr>\n      <th>0</th>\n      <td>e481f51cbdc54678b7cc49136f2d6af7</td>\n      <td>9ef432eb6251297304e76186b10a928d</td>\n      <td>delivered</td>\n      <td>2017-10-02 10:56:33</td>\n      <td>2017-10-02 11:07:15</td>\n      <td>2017-10-04 19:55:00</td>\n      <td>2017-10-10 21:25:13</td>\n      <td>2017-10-18 00:00:00</td>\n    </tr>\n    <tr>\n      <th>1</th>\n      <td>53cdb2fc8bc7dce0b6741e2150273451</td>\n      <td>b0830fb4747a6c6d20dea0b8c802d7ef</td>\n      <td>delivered</td>\n      <td>2018-07-24 20:41:37</td>\n      <td>2018-07-26 03:24:27</td>\n      <td>2018-07-26 14:31:00</td>\n      <td>2018-08-07 15:27:45</td>\n      <td>2018-08-13 00:00:00</td>\n    </tr>\n    <tr>\n      <th>2</th>\n      <td>47770eb9100c2d0c44946d9cf07ec65d</td>\n      <td>41ce2a54c0b03bf3443c3d931a367089</td>\n      <td>delivered</td>\n      <td>2018-08-08 08:38:49</td>\n      <td>2018-08-08 08:55:23</td>\n      <td>2018-08-08 13:50:00</td>\n      <td>2018-08-17 18:06:29</td>\n      <td>2018-09-04 00:00:00</td>\n    </tr>\n    <tr>\n      <th>3</th>\n      <td>949d5b44dbf5de918fe9c16f97b45f8a</td>\n      <td>f88197465ea7920adcdbec7375364d82</td>\n      <td>delivered</td>\n      <td>2017-11-18 19:28:06</td>\n      <td>2017-11-18 19:45:59</td>\n      <td>2017-11-22 13:39:59</td>\n      <td>2017-12-02 00:28:42</td>\n      <td>2017-12-15 00:00:00</td>\n    </tr>\n    <tr>\n      <th>4</th>\n      <td>ad21c59c0840e6cb83a9ceb5573f8159</td>\n      <td>8ab97904e6daea8866dbdbc4fb7aad2c</td>\n      <td>delivered</td>\n      <td>2018-02-13 21:18:39</td>\n      <td>2018-02-13 22:20:29</td>\n      <td>2018-02-14 19:46:34</td>\n      <td>2018-02-16 18:17:02</td>\n      <td>2018-02-26 00:00:00</td>\n    </tr>\n  </tbody>\n</table>\n</div>"
     },
     "execution_count": 12,
     "metadata": {},
     "output_type": "execute_result"
    }
   ],
   "source": [
    "order_dataset.head()"
   ],
   "metadata": {
    "collapsed": false,
    "ExecuteTime": {
     "end_time": "2023-12-14T12:06:28.083730Z",
     "start_time": "2023-12-14T12:06:27.839863Z"
    }
   }
  },
  {
   "cell_type": "code",
   "execution_count": 13,
   "outputs": [],
   "source": [
    "def missing_col(df):\n",
    "    missing_values = df.isnull().sum()\n",
    "    missing_values = missing_values.sort_values(ascending = False)\n",
    "\n",
    "    return missing_values\n",
    "\n",
    "def df_info_(df):\n",
    "    \"\"\"\n",
    "        Information about the DataFrame\n",
    "    \"\"\"\n",
    "\n",
    "    features_dtypes = df.dtypes\n",
    "    rows,columns = df.shape\n",
    "\n",
    "    missing_cols = missing_col(df)\n",
    "    features_names = missing_cols.index.values\n",
    "    missing_values = missing_cols.values\n",
    "\n",
    "    print('=' * 50)\n",
    "    print('===> This data frame contains {} rows and {} columns'.format(rows,columns))\n",
    "    print('=' * 50)\n",
    "\n",
    "    print(\"{:13}{:13}{:30}{:15}\".format('Feature Name'.upper(),\n",
    "                                        'Data Format'.upper(),\n",
    "                                        'Number of Missing Values'.upper(),\n",
    "                                        'The first few samples'.upper()))\n",
    "\n",
    "    for features_names, features_dtypes, missing_values in zip(features_names,features_dtypes[features_names],missing_values):\n",
    "        print('{:15} {:14} {:20}'.format(features_names, str(features_dtypes), str(missing_values) + '-' +\n",
    "                                         str(round(100*missing_values/sum(missing_cols),3))+' %'), end=\" \")\n",
    "\n",
    "        for i in range(5):\n",
    "            print(df[features_names].iloc[i], end=\",\")\n",
    "\n",
    "        print(\"=\"*50)"
   ],
   "metadata": {
    "collapsed": false,
    "ExecuteTime": {
     "end_time": "2023-12-14T12:06:28.166134Z",
     "start_time": "2023-12-14T12:06:27.861955Z"
    }
   }
  },
  {
   "cell_type": "code",
   "execution_count": 14,
   "outputs": [
    {
     "name": "stdout",
     "output_type": "stream",
     "text": [
      "==================================================\n",
      "===> This data frame contains 99441 rows and 5 columns\n",
      "==================================================\n",
      "FEATURE NAME DATA FORMAT  NUMBER OF MISSING VALUES      THE FIRST FEW SAMPLES\n",
      "customer_id     object         0-nan %              06b8999e2fba1a1fbc88172c00ba8bc7,18955e83d337fd6b2def6b18a428ac77,4e7b3e00288586ebd08712fdd0374a03,b2b6027bc5c5109e529d4dc6358b12c3,4f2d8ab171c80ec8364f7c12e35b23ad,==================================================\n",
      "customer_unique_id object         0-nan %              861eff4711a542e4b93843c6dd7febb0,290c77bc529b7ac935b93aa66c333dc3,060e732b5b29e8181a18229c7b0b2b5e,259dac757896d24d7702b9acbbff3f3c,345ecd01c38d18a9036ed96c73b8d066,==================================================\n",
      "customer_zip_code_prefix int64          0-nan %              14409,9790,1151,8775,13056,==================================================\n",
      "customer_city   object         0-nan %              franca,sao bernardo do campo,sao paulo,mogi das cruzes,campinas,==================================================\n",
      "customer_state  object         0-nan %              SP,SP,SP,SP,SP,==================================================\n"
     ]
    }
   ],
   "source": [
    "df_info_(customers)"
   ],
   "metadata": {
    "collapsed": false,
    "ExecuteTime": {
     "end_time": "2023-12-14T12:06:28.262482Z",
     "start_time": "2023-12-14T12:06:27.869066Z"
    }
   }
  },
  {
   "cell_type": "code",
   "execution_count": 15,
   "outputs": [
    {
     "name": "stdout",
     "output_type": "stream",
     "text": [
      "==================================================\n",
      "===> This data frame contains 32951 rows and 9 columns\n",
      "==================================================\n",
      "FEATURE NAME DATA FORMAT  NUMBER OF MISSING VALUES      THE FIRST FEW SAMPLES\n",
      "product_category_name object         610-24.918 %         perfumaria,artes,esporte_lazer,bebes,utilidades_domesticas,==================================================\n",
      "product_name_lenght float64        610-24.918 %         40.0,44.0,46.0,27.0,37.0,==================================================\n",
      "product_description_lenght float64        610-24.918 %         287.0,276.0,250.0,261.0,402.0,==================================================\n",
      "product_photos_qty float64        610-24.918 %         1.0,1.0,1.0,1.0,4.0,==================================================\n",
      "product_weight_g float64        2-0.082 %            225.0,1000.0,154.0,371.0,625.0,==================================================\n",
      "product_length_cm float64        2-0.082 %            16.0,30.0,18.0,26.0,20.0,==================================================\n",
      "product_height_cm float64        2-0.082 %            10.0,18.0,9.0,4.0,17.0,==================================================\n",
      "product_width_cm float64        2-0.082 %            14.0,20.0,15.0,26.0,13.0,==================================================\n",
      "product_id      object         0-0.0 %              1e9e8ef04dbcff4541ed26657ea517e5,3aa071139cb16b67ca9e5dea641aaa2f,96bd76ec8810374ed1b65e291975717f,cef67bcfe19066a932b7673e239eb23d,9dc1a7de274444849c219cff195d0b71,==================================================\n"
     ]
    }
   ],
   "source": [
    "df_info_(products)"
   ],
   "metadata": {
    "collapsed": false,
    "ExecuteTime": {
     "end_time": "2023-12-14T12:06:28.301202Z",
     "start_time": "2023-12-14T12:06:27.946330Z"
    }
   }
  },
  {
   "cell_type": "code",
   "execution_count": 16,
   "outputs": [
    {
     "name": "stdout",
     "output_type": "stream",
     "text": [
      "==================================================\n",
      "===> This data frame contains 3095 rows and 4 columns\n",
      "==================================================\n",
      "FEATURE NAME DATA FORMAT  NUMBER OF MISSING VALUES      THE FIRST FEW SAMPLES\n",
      "seller_id       object         0-nan %              3442f8959a84dea7ee197c632cb2df15,d1b65fc7debc3361ea86b5f14c68d2e2,ce3ad9de960102d0677a81f5d0bb7b2d,c0f3eea2e14555b6faeea3dd58c1b1c3,51a04a8a6bdcb23deccc82b0b80742cf,==================================================\n",
      "seller_zip_code_prefix int64          0-nan %              13023,13844,20031,4195,12914,==================================================\n",
      "seller_city     object         0-nan %              campinas,mogi guacu,rio de janeiro,sao paulo,braganca paulista,==================================================\n",
      "seller_state    object         0-nan %              SP,SP,RJ,SP,SP,==================================================\n"
     ]
    }
   ],
   "source": [
    "df_info_(sellers)"
   ],
   "metadata": {
    "collapsed": false,
    "ExecuteTime": {
     "end_time": "2023-12-14T12:06:28.475816Z",
     "start_time": "2023-12-14T12:06:27.966784Z"
    }
   }
  },
  {
   "cell_type": "code",
   "execution_count": 17,
   "outputs": [
    {
     "name": "stdout",
     "output_type": "stream",
     "text": [
      "==================================================\n",
      "===> This data frame contains 99441 rows and 8 columns\n",
      "==================================================\n",
      "FEATURE NAME DATA FORMAT  NUMBER OF MISSING VALUES      THE FIRST FEW SAMPLES\n",
      "order_delivered_customer_date object         2965-60.412 %        2017-10-10 21:25:13,2018-08-07 15:27:45,2018-08-17 18:06:29,2017-12-02 00:28:42,2018-02-16 18:17:02,==================================================\n",
      "order_delivered_carrier_date object         1783-36.328 %        2017-10-04 19:55:00,2018-07-26 14:31:00,2018-08-08 13:50:00,2017-11-22 13:39:59,2018-02-14 19:46:34,==================================================\n",
      "order_approved_at object         160-3.26 %           2017-10-02 11:07:15,2018-07-26 03:24:27,2018-08-08 08:55:23,2017-11-18 19:45:59,2018-02-13 22:20:29,==================================================\n",
      "order_id        object         0-0.0 %              e481f51cbdc54678b7cc49136f2d6af7,53cdb2fc8bc7dce0b6741e2150273451,47770eb9100c2d0c44946d9cf07ec65d,949d5b44dbf5de918fe9c16f97b45f8a,ad21c59c0840e6cb83a9ceb5573f8159,==================================================\n",
      "customer_id     object         0-0.0 %              9ef432eb6251297304e76186b10a928d,b0830fb4747a6c6d20dea0b8c802d7ef,41ce2a54c0b03bf3443c3d931a367089,f88197465ea7920adcdbec7375364d82,8ab97904e6daea8866dbdbc4fb7aad2c,==================================================\n",
      "order_status    object         0-0.0 %              delivered,delivered,delivered,delivered,delivered,==================================================\n",
      "order_purchase_timestamp object         0-0.0 %              2017-10-02 10:56:33,2018-07-24 20:41:37,2018-08-08 08:38:49,2017-11-18 19:28:06,2018-02-13 21:18:39,==================================================\n",
      "order_estimated_delivery_date object         0-0.0 %              2017-10-18 00:00:00,2018-08-13 00:00:00,2018-09-04 00:00:00,2017-12-15 00:00:00,2018-02-26 00:00:00,==================================================\n"
     ]
    }
   ],
   "source": [
    "df_info_(order_dataset)"
   ],
   "metadata": {
    "collapsed": false,
    "ExecuteTime": {
     "end_time": "2023-12-14T12:06:28.560643Z",
     "start_time": "2023-12-14T12:06:28.067054Z"
    }
   }
  },
  {
   "cell_type": "markdown",
   "source": [
    "# Data Processing"
   ],
   "metadata": {
    "collapsed": false
   }
  },
  {
   "cell_type": "raw",
   "source": [
    "Attention\n",
    "\n",
    "An order might have multiple items.\n",
    "Each item might be fulfilled by a distinct seller.\n",
    "All text identifying stores and partners where replaced by the names of Game of Thrones great houses."
   ],
   "metadata": {
    "collapsed": false
   }
  },
  {
   "cell_type": "code",
   "execution_count": 61,
   "outputs": [
    {
     "name": "stdout",
     "output_type": "stream",
     "text": [
      "(117329, 35)\n"
     ]
    }
   ],
   "source": [
    "# Data Merge by relationship chart\n",
    "orders = order_dataset.merge(order_items, on = 'order_id', how = 'left')  # 1 to many relationship because 1 order might have multiple items.\n",
    "orders = orders.merge(order_payment, how = 'inner', on = 'order_id')\n",
    "orders = orders.merge(order_reviews, how = 'inner', on = 'order_id')\n",
    "orders = orders.merge(products, how = 'inner', on = 'product_id')\n",
    "orders = orders.merge(sellers, how = 'inner', on = 'seller_id')\n",
    "\n",
    "print(orders.shape)"
   ],
   "metadata": {
    "collapsed": false,
    "ExecuteTime": {
     "end_time": "2023-12-14T13:01:53.537866Z",
     "start_time": "2023-12-14T13:01:52.926853Z"
    }
   }
  },
  {
   "cell_type": "code",
   "execution_count": 80,
   "outputs": [
    {
     "data": {
      "text/plain": "                            order_id                       customer_id  \\\n0   e481f51cbdc54678b7cc49136f2d6af7  9ef432eb6251297304e76186b10a928d   \n1   e481f51cbdc54678b7cc49136f2d6af7  9ef432eb6251297304e76186b10a928d   \n2   e481f51cbdc54678b7cc49136f2d6af7  9ef432eb6251297304e76186b10a928d   \n3   128e10d95713541c87cd1a2e48201934  a20e8105f23924cd00833fd87daa0831   \n4   0e7e841ddf8f8f2de2bad69267ecfbcf  26c7ac168e1433912a51b924fbd34d34   \n5   bfc39df4f36c3693ff3b63fcbea9e90a  53904ddbea91e1e92b2b3f1d09a7af86   \n6   8736140c61ea584cb4250074756d8f3b  ab8844663ae049fda8baf15fc928f47f   \n7   88407c8c6e12493ff6e845df39540112  e902cb9d9992a69a267f69dec57aa3a3   \n8   4f2acff0b7d2bcc4a408abe5a223d407  d67b6cca5a87299f711a6961f579fe67   \n9   019aaee09698daf81dcffe9d94a18b5c  e3893e579755de4feb1a4d0313c103fa   \n10  e37531db8933bdce0f86e9dc3768759e  74380820e581b5e8585abc1b5e11c079   \n11  a0151737f2f0c6c0a5fd69d45f66ceea  fc2697314ab7fbeda62bb6f1afa4efcd   \n12  a3bf941183211246f0d42ad757cba127  3718e1873d5dc3e8d96c0ab783278b02   \n13  e8f1a30189522698bfce82adf60472e7  945080eedd200e670d94e8b707422871   \n14  e71fb32bec49dd4112bcbcc19126d388  f6c383cc79b182ce1550bc57504941c3   \n15  e71fb32bec49dd4112bcbcc19126d388  f6c383cc79b182ce1550bc57504941c3   \n16  03eae39a27aeab0f8c9ad5b84555a6d1  d91337c4d268a8a9f17bef015ce9af3d   \n17  de01100645b731556de153cfbebc35b1  94602ee2b2723266d391c94e7d1f4d89   \n18  1f201b2bf1eecbd0ad32c3f430846b84  856f3263eb7af3a48765c85d4d0eea1d   \n19  84aaa1a774e37a0a7c1a5413dc49e168  7cc4123da344ba5ca2fa23c0f7903fce   \n20  9ac4df93702b3a7d40156ef4b6c81417  a2f0e5f633e77e713c7e49a836876c78   \n21  fed5e295c5412218d84f60a3d09717f4  6751d1c35a37bfc06df3bd73a8abfdd7   \n22  f37bdf37547266e7d6760e52bc87dfe3  8860eda9f0c775c17cf854564eab3418   \n23  f37bdf37547266e7d6760e52bc87dfe3  8860eda9f0c775c17cf854564eab3418   \n24  ff12a8872c437666ba0b1df5812a956e  60c2cececa9f77296d64e5a4def548e6   \n25  0c511eb6cecb1f110a807dad27440c81  915411390c6b557e49b9cf369572d189   \n26  f72af8df59fdbc3f45aeb2df4e1e9ca1  3f564a14c326f9a681d340e75246b775   \n27  1462290799412b71be32dd880eaf4e1b  220e4b027f0294fd79d2869ef67e7db6   \n28  60d13096e69ace88a0c5b8c3805010ca  54bd7edf8250e9e67794e9df507e3720   \n29  5cd9658ba9e8ad15b491928fd7ec370d  cf54331ed702f203f23da3cf5a0de4d2   \n\n   order_status order_purchase_timestamp    order_approved_at  \\\n0     delivered      2017-10-02 10:56:33  2017-10-02 11:07:15   \n1     delivered      2017-10-02 10:56:33  2017-10-02 11:07:15   \n2     delivered      2017-10-02 10:56:33  2017-10-02 11:07:15   \n3     delivered      2017-08-15 18:29:31  2017-08-15 20:05:16   \n4     delivered      2017-08-02 18:24:47  2017-08-02 18:43:15   \n5     delivered      2017-10-23 23:26:46  2017-10-25 02:14:11   \n6     delivered      2017-08-10 13:35:55  2017-08-10 13:50:09   \n7     delivered      2017-08-15 02:03:01  2017-08-15 02:15:13   \n8     delivered      2017-08-01 16:31:35  2017-08-02 02:50:25   \n9     delivered      2017-08-10 14:04:58  2017-08-10 14:23:38   \n10    delivered      2017-08-07 21:48:23  2017-08-07 22:25:11   \n11    delivered      2017-07-12 14:11:58  2017-07-12 14:30:18   \n12    delivered      2017-07-24 22:16:25  2017-07-25 22:25:11   \n13    delivered      2017-07-05 11:58:33  2017-07-05 17:38:31   \n14    delivered      2017-08-02 22:12:03  2017-08-02 22:25:18   \n15    delivered      2017-08-02 22:12:03  2017-08-02 22:25:18   \n16    delivered      2017-08-15 10:23:57  2017-08-15 10:45:49   \n17    delivered      2017-08-07 12:13:26  2017-08-07 12:43:37   \n18    delivered      2017-09-26 21:32:17  2017-09-26 21:49:42   \n19    delivered      2017-07-21 10:03:34  2017-07-21 10:23:25   \n20    delivered      2017-07-05 14:23:53  2017-07-05 17:34:44   \n21    delivered      2017-10-13 10:59:41  2017-10-13 11:14:23   \n22    delivered      2017-07-25 16:49:56  2017-07-25 17:03:22   \n23    delivered      2017-07-25 16:49:56  2017-07-25 17:03:22   \n24    delivered      2017-08-02 14:19:54  2017-08-02 14:30:20   \n25    delivered      2017-09-26 14:45:50  2017-09-26 15:04:42   \n26    delivered      2017-08-18 09:17:25  2017-08-19 09:24:56   \n27    delivered      2017-08-19 14:06:58  2017-08-22 04:10:55   \n28    delivered      2017-11-06 13:48:10  2017-11-07 07:30:35   \n29    delivered      2017-08-30 19:43:57  2017-08-30 19:55:20   \n\n   order_delivered_carrier_date order_delivered_customer_date  \\\n0           2017-10-04 19:55:00           2017-10-10 21:25:13   \n1           2017-10-04 19:55:00           2017-10-10 21:25:13   \n2           2017-10-04 19:55:00           2017-10-10 21:25:13   \n3           2017-08-17 15:28:33           2017-08-18 14:44:43   \n4           2017-08-04 17:35:43           2017-08-07 18:30:01   \n5           2017-10-27 16:48:46           2017-11-07 18:04:59   \n6           2017-08-11 13:52:35           2017-08-16 19:03:36   \n7           2017-08-16 15:52:29           2017-08-25 21:59:26   \n8           2017-08-03 14:36:34           2017-08-09 19:56:50   \n9           2017-08-11 13:52:35           2017-08-12 11:56:49   \n10          2017-08-08 13:00:00           2017-08-16 11:42:26   \n11          2017-07-13 12:47:05           2017-07-18 16:24:42   \n12          2017-07-26 14:57:42           2017-07-28 19:06:46   \n13          2017-07-06 11:04:07           2017-07-07 20:44:41   \n14          2017-08-04 13:39:51           2017-08-08 17:56:12   \n15          2017-08-04 13:39:51           2017-08-08 17:56:12   \n16          2017-08-16 15:52:28           2017-08-19 16:06:37   \n17          2017-08-08 13:32:49           2017-08-17 18:24:38   \n18          2017-09-28 15:28:03           2017-10-03 13:38:04   \n19          2017-07-25 19:45:28           2017-07-26 21:13:05   \n20          2017-07-06 11:16:52           2017-07-12 17:21:33   \n21          2017-10-16 18:05:17           2017-10-19 19:33:21   \n22          2017-07-26 14:37:38           2017-07-27 21:34:07   \n23          2017-07-26 14:37:38           2017-07-27 21:34:07   \n24          2017-08-04 17:35:43           2017-08-11 19:34:06   \n25          2017-09-28 15:28:02           2017-10-10 20:36:53   \n26          2017-08-21 16:32:45           2017-08-23 15:38:10   \n27          2017-08-23 13:54:29           2017-08-29 19:35:06   \n28          2017-11-10 14:24:33           2017-11-18 12:21:41   \n29          2017-08-31 18:37:38           2017-09-04 20:04:42   \n\n   order_estimated_delivery_date  order_item_id  \\\n0            2017-10-18 00:00:00            1.0   \n1            2017-10-18 00:00:00            1.0   \n2            2017-10-18 00:00:00            1.0   \n3            2017-08-28 00:00:00            1.0   \n4            2017-08-15 00:00:00            1.0   \n5            2017-11-13 00:00:00            1.0   \n6            2017-08-23 00:00:00            1.0   \n7            2017-08-28 00:00:00            1.0   \n8            2017-08-23 00:00:00            1.0   \n9            2017-08-23 00:00:00            1.0   \n10           2017-08-29 00:00:00            1.0   \n11           2017-07-25 00:00:00            1.0   \n12           2017-08-04 00:00:00            1.0   \n13           2017-07-18 00:00:00            1.0   \n14           2017-08-15 00:00:00            1.0   \n15           2017-08-15 00:00:00            1.0   \n16           2017-08-28 00:00:00            1.0   \n17           2017-08-29 00:00:00            1.0   \n18           2017-10-11 00:00:00            1.0   \n19           2017-08-03 00:00:00            1.0   \n20           2017-07-25 00:00:00            1.0   \n21           2017-10-25 00:00:00            1.0   \n22           2017-08-07 00:00:00            1.0   \n23           2017-08-07 00:00:00            1.0   \n24           2017-08-24 00:00:00            1.0   \n25           2017-10-25 00:00:00            1.0   \n26           2017-08-31 00:00:00            1.0   \n27           2017-09-15 00:00:00            1.0   \n28           2017-11-28 00:00:00            1.0   \n29           2017-09-18 00:00:00            1.0   \n\n                          product_id  ... product_name_lenght  \\\n0   87285b34884572647811a353c7ac498a  ...                40.0   \n1   87285b34884572647811a353c7ac498a  ...                40.0   \n2   87285b34884572647811a353c7ac498a  ...                40.0   \n3   87285b34884572647811a353c7ac498a  ...                40.0   \n4   87285b34884572647811a353c7ac498a  ...                40.0   \n5   87285b34884572647811a353c7ac498a  ...                40.0   \n6   b00a32a0b42fd65efb58a5822009f629  ...                58.0   \n7   b00a32a0b42fd65efb58a5822009f629  ...                58.0   \n8   b00a32a0b42fd65efb58a5822009f629  ...                58.0   \n9   b00a32a0b42fd65efb58a5822009f629  ...                58.0   \n10  b00a32a0b42fd65efb58a5822009f629  ...                58.0   \n11  725cbfcaff95a4d43742fdf13cf43c75  ...                58.0   \n12  725cbfcaff95a4d43742fdf13cf43c75  ...                58.0   \n13  725cbfcaff95a4d43742fdf13cf43c75  ...                58.0   \n14  725cbfcaff95a4d43742fdf13cf43c75  ...                58.0   \n15  725cbfcaff95a4d43742fdf13cf43c75  ...                58.0   \n16  725cbfcaff95a4d43742fdf13cf43c75  ...                58.0   \n17  725cbfcaff95a4d43742fdf13cf43c75  ...                58.0   \n18  725cbfcaff95a4d43742fdf13cf43c75  ...                58.0   \n19  725cbfcaff95a4d43742fdf13cf43c75  ...                58.0   \n20  725cbfcaff95a4d43742fdf13cf43c75  ...                58.0   \n21  725cbfcaff95a4d43742fdf13cf43c75  ...                58.0   \n22  725cbfcaff95a4d43742fdf13cf43c75  ...                58.0   \n23  725cbfcaff95a4d43742fdf13cf43c75  ...                58.0   \n24  725cbfcaff95a4d43742fdf13cf43c75  ...                58.0   \n25  725cbfcaff95a4d43742fdf13cf43c75  ...                58.0   \n26  725cbfcaff95a4d43742fdf13cf43c75  ...                58.0   \n27  d7faab3fa0091d1220a8ada9cae1bab3  ...                60.0   \n28  605050407239c811cf987c99fbabaf4d  ...                60.0   \n29  605050407239c811cf987c99fbabaf4d  ...                60.0   \n\n   product_description_lenght  product_photos_qty  product_weight_g  \\\n0                       268.0                 4.0             500.0   \n1                       268.0                 4.0             500.0   \n2                       268.0                 4.0             500.0   \n3                       268.0                 4.0             500.0   \n4                       268.0                 4.0             500.0   \n5                       268.0                 4.0             500.0   \n6                       398.0                 3.0             238.0   \n7                       398.0                 3.0             238.0   \n8                       398.0                 3.0             238.0   \n9                       398.0                 3.0             238.0   \n10                      398.0                 3.0             238.0   \n11                      537.0                 2.0            1850.0   \n12                      537.0                 2.0            1850.0   \n13                      537.0                 2.0            1850.0   \n14                      537.0                 2.0            1850.0   \n15                      537.0                 2.0            1850.0   \n16                      537.0                 2.0            1850.0   \n17                      537.0                 2.0            1850.0   \n18                      537.0                 2.0            1850.0   \n19                      537.0                 2.0            1850.0   \n20                      537.0                 2.0            1850.0   \n21                      537.0                 2.0            1850.0   \n22                      537.0                 2.0            1850.0   \n23                      537.0                 2.0            1850.0   \n24                      537.0                 2.0            1850.0   \n25                      537.0                 2.0            1850.0   \n26                      537.0                 2.0            1850.0   \n27                      251.0                 1.0             600.0   \n28                      562.0                 2.0             700.0   \n29                      562.0                 2.0             700.0   \n\n    product_length_cm product_height_cm  product_width_cm  \\\n0                19.0               8.0              13.0   \n1                19.0               8.0              13.0   \n2                19.0               8.0              13.0   \n3                19.0               8.0              13.0   \n4                19.0               8.0              13.0   \n5                19.0               8.0              13.0   \n6                20.0              10.0              15.0   \n7                20.0              10.0              15.0   \n8                20.0              10.0              15.0   \n9                20.0              10.0              15.0   \n10               20.0              10.0              15.0   \n11               34.0               5.0              34.0   \n12               34.0               5.0              34.0   \n13               34.0               5.0              34.0   \n14               34.0               5.0              34.0   \n15               34.0               5.0              34.0   \n16               34.0               5.0              34.0   \n17               34.0               5.0              34.0   \n18               34.0               5.0              34.0   \n19               34.0               5.0              34.0   \n20               34.0               5.0              34.0   \n21               34.0               5.0              34.0   \n22               34.0               5.0              34.0   \n23               34.0               5.0              34.0   \n24               34.0               5.0              34.0   \n25               34.0               5.0              34.0   \n26               34.0               5.0              34.0   \n27               22.0               5.0              20.0   \n28               24.0               6.0              19.0   \n29               24.0               6.0              19.0   \n\n    seller_zip_code_prefix seller_city  seller_state  \n0                     9350        maua            SP  \n1                     9350        maua            SP  \n2                     9350        maua            SP  \n3                     9350        maua            SP  \n4                     9350        maua            SP  \n5                     9350        maua            SP  \n6                     9350        maua            SP  \n7                     9350        maua            SP  \n8                     9350        maua            SP  \n9                     9350        maua            SP  \n10                    9350        maua            SP  \n11                    9350        maua            SP  \n12                    9350        maua            SP  \n13                    9350        maua            SP  \n14                    9350        maua            SP  \n15                    9350        maua            SP  \n16                    9350        maua            SP  \n17                    9350        maua            SP  \n18                    9350        maua            SP  \n19                    9350        maua            SP  \n20                    9350        maua            SP  \n21                    9350        maua            SP  \n22                    9350        maua            SP  \n23                    9350        maua            SP  \n24                    9350        maua            SP  \n25                    9350        maua            SP  \n26                    9350        maua            SP  \n27                    9350        maua            SP  \n28                    9350        maua            SP  \n29                    9350        maua            SP  \n\n[30 rows x 35 columns]",
      "text/html": "<div>\n<style scoped>\n    .dataframe tbody tr th:only-of-type {\n        vertical-align: middle;\n    }\n\n    .dataframe tbody tr th {\n        vertical-align: top;\n    }\n\n    .dataframe thead th {\n        text-align: right;\n    }\n</style>\n<table border=\"1\" class=\"dataframe\">\n  <thead>\n    <tr style=\"text-align: right;\">\n      <th></th>\n      <th>order_id</th>\n      <th>customer_id</th>\n      <th>order_status</th>\n      <th>order_purchase_timestamp</th>\n      <th>order_approved_at</th>\n      <th>order_delivered_carrier_date</th>\n      <th>order_delivered_customer_date</th>\n      <th>order_estimated_delivery_date</th>\n      <th>order_item_id</th>\n      <th>product_id</th>\n      <th>...</th>\n      <th>product_name_lenght</th>\n      <th>product_description_lenght</th>\n      <th>product_photos_qty</th>\n      <th>product_weight_g</th>\n      <th>product_length_cm</th>\n      <th>product_height_cm</th>\n      <th>product_width_cm</th>\n      <th>seller_zip_code_prefix</th>\n      <th>seller_city</th>\n      <th>seller_state</th>\n    </tr>\n  </thead>\n  <tbody>\n    <tr>\n      <th>0</th>\n      <td>e481f51cbdc54678b7cc49136f2d6af7</td>\n      <td>9ef432eb6251297304e76186b10a928d</td>\n      <td>delivered</td>\n      <td>2017-10-02 10:56:33</td>\n      <td>2017-10-02 11:07:15</td>\n      <td>2017-10-04 19:55:00</td>\n      <td>2017-10-10 21:25:13</td>\n      <td>2017-10-18 00:00:00</td>\n      <td>1.0</td>\n      <td>87285b34884572647811a353c7ac498a</td>\n      <td>...</td>\n      <td>40.0</td>\n      <td>268.0</td>\n      <td>4.0</td>\n      <td>500.0</td>\n      <td>19.0</td>\n      <td>8.0</td>\n      <td>13.0</td>\n      <td>9350</td>\n      <td>maua</td>\n      <td>SP</td>\n    </tr>\n    <tr>\n      <th>1</th>\n      <td>e481f51cbdc54678b7cc49136f2d6af7</td>\n      <td>9ef432eb6251297304e76186b10a928d</td>\n      <td>delivered</td>\n      <td>2017-10-02 10:56:33</td>\n      <td>2017-10-02 11:07:15</td>\n      <td>2017-10-04 19:55:00</td>\n      <td>2017-10-10 21:25:13</td>\n      <td>2017-10-18 00:00:00</td>\n      <td>1.0</td>\n      <td>87285b34884572647811a353c7ac498a</td>\n      <td>...</td>\n      <td>40.0</td>\n      <td>268.0</td>\n      <td>4.0</td>\n      <td>500.0</td>\n      <td>19.0</td>\n      <td>8.0</td>\n      <td>13.0</td>\n      <td>9350</td>\n      <td>maua</td>\n      <td>SP</td>\n    </tr>\n    <tr>\n      <th>2</th>\n      <td>e481f51cbdc54678b7cc49136f2d6af7</td>\n      <td>9ef432eb6251297304e76186b10a928d</td>\n      <td>delivered</td>\n      <td>2017-10-02 10:56:33</td>\n      <td>2017-10-02 11:07:15</td>\n      <td>2017-10-04 19:55:00</td>\n      <td>2017-10-10 21:25:13</td>\n      <td>2017-10-18 00:00:00</td>\n      <td>1.0</td>\n      <td>87285b34884572647811a353c7ac498a</td>\n      <td>...</td>\n      <td>40.0</td>\n      <td>268.0</td>\n      <td>4.0</td>\n      <td>500.0</td>\n      <td>19.0</td>\n      <td>8.0</td>\n      <td>13.0</td>\n      <td>9350</td>\n      <td>maua</td>\n      <td>SP</td>\n    </tr>\n    <tr>\n      <th>3</th>\n      <td>128e10d95713541c87cd1a2e48201934</td>\n      <td>a20e8105f23924cd00833fd87daa0831</td>\n      <td>delivered</td>\n      <td>2017-08-15 18:29:31</td>\n      <td>2017-08-15 20:05:16</td>\n      <td>2017-08-17 15:28:33</td>\n      <td>2017-08-18 14:44:43</td>\n      <td>2017-08-28 00:00:00</td>\n      <td>1.0</td>\n      <td>87285b34884572647811a353c7ac498a</td>\n      <td>...</td>\n      <td>40.0</td>\n      <td>268.0</td>\n      <td>4.0</td>\n      <td>500.0</td>\n      <td>19.0</td>\n      <td>8.0</td>\n      <td>13.0</td>\n      <td>9350</td>\n      <td>maua</td>\n      <td>SP</td>\n    </tr>\n    <tr>\n      <th>4</th>\n      <td>0e7e841ddf8f8f2de2bad69267ecfbcf</td>\n      <td>26c7ac168e1433912a51b924fbd34d34</td>\n      <td>delivered</td>\n      <td>2017-08-02 18:24:47</td>\n      <td>2017-08-02 18:43:15</td>\n      <td>2017-08-04 17:35:43</td>\n      <td>2017-08-07 18:30:01</td>\n      <td>2017-08-15 00:00:00</td>\n      <td>1.0</td>\n      <td>87285b34884572647811a353c7ac498a</td>\n      <td>...</td>\n      <td>40.0</td>\n      <td>268.0</td>\n      <td>4.0</td>\n      <td>500.0</td>\n      <td>19.0</td>\n      <td>8.0</td>\n      <td>13.0</td>\n      <td>9350</td>\n      <td>maua</td>\n      <td>SP</td>\n    </tr>\n    <tr>\n      <th>5</th>\n      <td>bfc39df4f36c3693ff3b63fcbea9e90a</td>\n      <td>53904ddbea91e1e92b2b3f1d09a7af86</td>\n      <td>delivered</td>\n      <td>2017-10-23 23:26:46</td>\n      <td>2017-10-25 02:14:11</td>\n      <td>2017-10-27 16:48:46</td>\n      <td>2017-11-07 18:04:59</td>\n      <td>2017-11-13 00:00:00</td>\n      <td>1.0</td>\n      <td>87285b34884572647811a353c7ac498a</td>\n      <td>...</td>\n      <td>40.0</td>\n      <td>268.0</td>\n      <td>4.0</td>\n      <td>500.0</td>\n      <td>19.0</td>\n      <td>8.0</td>\n      <td>13.0</td>\n      <td>9350</td>\n      <td>maua</td>\n      <td>SP</td>\n    </tr>\n    <tr>\n      <th>6</th>\n      <td>8736140c61ea584cb4250074756d8f3b</td>\n      <td>ab8844663ae049fda8baf15fc928f47f</td>\n      <td>delivered</td>\n      <td>2017-08-10 13:35:55</td>\n      <td>2017-08-10 13:50:09</td>\n      <td>2017-08-11 13:52:35</td>\n      <td>2017-08-16 19:03:36</td>\n      <td>2017-08-23 00:00:00</td>\n      <td>1.0</td>\n      <td>b00a32a0b42fd65efb58a5822009f629</td>\n      <td>...</td>\n      <td>58.0</td>\n      <td>398.0</td>\n      <td>3.0</td>\n      <td>238.0</td>\n      <td>20.0</td>\n      <td>10.0</td>\n      <td>15.0</td>\n      <td>9350</td>\n      <td>maua</td>\n      <td>SP</td>\n    </tr>\n    <tr>\n      <th>7</th>\n      <td>88407c8c6e12493ff6e845df39540112</td>\n      <td>e902cb9d9992a69a267f69dec57aa3a3</td>\n      <td>delivered</td>\n      <td>2017-08-15 02:03:01</td>\n      <td>2017-08-15 02:15:13</td>\n      <td>2017-08-16 15:52:29</td>\n      <td>2017-08-25 21:59:26</td>\n      <td>2017-08-28 00:00:00</td>\n      <td>1.0</td>\n      <td>b00a32a0b42fd65efb58a5822009f629</td>\n      <td>...</td>\n      <td>58.0</td>\n      <td>398.0</td>\n      <td>3.0</td>\n      <td>238.0</td>\n      <td>20.0</td>\n      <td>10.0</td>\n      <td>15.0</td>\n      <td>9350</td>\n      <td>maua</td>\n      <td>SP</td>\n    </tr>\n    <tr>\n      <th>8</th>\n      <td>4f2acff0b7d2bcc4a408abe5a223d407</td>\n      <td>d67b6cca5a87299f711a6961f579fe67</td>\n      <td>delivered</td>\n      <td>2017-08-01 16:31:35</td>\n      <td>2017-08-02 02:50:25</td>\n      <td>2017-08-03 14:36:34</td>\n      <td>2017-08-09 19:56:50</td>\n      <td>2017-08-23 00:00:00</td>\n      <td>1.0</td>\n      <td>b00a32a0b42fd65efb58a5822009f629</td>\n      <td>...</td>\n      <td>58.0</td>\n      <td>398.0</td>\n      <td>3.0</td>\n      <td>238.0</td>\n      <td>20.0</td>\n      <td>10.0</td>\n      <td>15.0</td>\n      <td>9350</td>\n      <td>maua</td>\n      <td>SP</td>\n    </tr>\n    <tr>\n      <th>9</th>\n      <td>019aaee09698daf81dcffe9d94a18b5c</td>\n      <td>e3893e579755de4feb1a4d0313c103fa</td>\n      <td>delivered</td>\n      <td>2017-08-10 14:04:58</td>\n      <td>2017-08-10 14:23:38</td>\n      <td>2017-08-11 13:52:35</td>\n      <td>2017-08-12 11:56:49</td>\n      <td>2017-08-23 00:00:00</td>\n      <td>1.0</td>\n      <td>b00a32a0b42fd65efb58a5822009f629</td>\n      <td>...</td>\n      <td>58.0</td>\n      <td>398.0</td>\n      <td>3.0</td>\n      <td>238.0</td>\n      <td>20.0</td>\n      <td>10.0</td>\n      <td>15.0</td>\n      <td>9350</td>\n      <td>maua</td>\n      <td>SP</td>\n    </tr>\n    <tr>\n      <th>10</th>\n      <td>e37531db8933bdce0f86e9dc3768759e</td>\n      <td>74380820e581b5e8585abc1b5e11c079</td>\n      <td>delivered</td>\n      <td>2017-08-07 21:48:23</td>\n      <td>2017-08-07 22:25:11</td>\n      <td>2017-08-08 13:00:00</td>\n      <td>2017-08-16 11:42:26</td>\n      <td>2017-08-29 00:00:00</td>\n      <td>1.0</td>\n      <td>b00a32a0b42fd65efb58a5822009f629</td>\n      <td>...</td>\n      <td>58.0</td>\n      <td>398.0</td>\n      <td>3.0</td>\n      <td>238.0</td>\n      <td>20.0</td>\n      <td>10.0</td>\n      <td>15.0</td>\n      <td>9350</td>\n      <td>maua</td>\n      <td>SP</td>\n    </tr>\n    <tr>\n      <th>11</th>\n      <td>a0151737f2f0c6c0a5fd69d45f66ceea</td>\n      <td>fc2697314ab7fbeda62bb6f1afa4efcd</td>\n      <td>delivered</td>\n      <td>2017-07-12 14:11:58</td>\n      <td>2017-07-12 14:30:18</td>\n      <td>2017-07-13 12:47:05</td>\n      <td>2017-07-18 16:24:42</td>\n      <td>2017-07-25 00:00:00</td>\n      <td>1.0</td>\n      <td>725cbfcaff95a4d43742fdf13cf43c75</td>\n      <td>...</td>\n      <td>58.0</td>\n      <td>537.0</td>\n      <td>2.0</td>\n      <td>1850.0</td>\n      <td>34.0</td>\n      <td>5.0</td>\n      <td>34.0</td>\n      <td>9350</td>\n      <td>maua</td>\n      <td>SP</td>\n    </tr>\n    <tr>\n      <th>12</th>\n      <td>a3bf941183211246f0d42ad757cba127</td>\n      <td>3718e1873d5dc3e8d96c0ab783278b02</td>\n      <td>delivered</td>\n      <td>2017-07-24 22:16:25</td>\n      <td>2017-07-25 22:25:11</td>\n      <td>2017-07-26 14:57:42</td>\n      <td>2017-07-28 19:06:46</td>\n      <td>2017-08-04 00:00:00</td>\n      <td>1.0</td>\n      <td>725cbfcaff95a4d43742fdf13cf43c75</td>\n      <td>...</td>\n      <td>58.0</td>\n      <td>537.0</td>\n      <td>2.0</td>\n      <td>1850.0</td>\n      <td>34.0</td>\n      <td>5.0</td>\n      <td>34.0</td>\n      <td>9350</td>\n      <td>maua</td>\n      <td>SP</td>\n    </tr>\n    <tr>\n      <th>13</th>\n      <td>e8f1a30189522698bfce82adf60472e7</td>\n      <td>945080eedd200e670d94e8b707422871</td>\n      <td>delivered</td>\n      <td>2017-07-05 11:58:33</td>\n      <td>2017-07-05 17:38:31</td>\n      <td>2017-07-06 11:04:07</td>\n      <td>2017-07-07 20:44:41</td>\n      <td>2017-07-18 00:00:00</td>\n      <td>1.0</td>\n      <td>725cbfcaff95a4d43742fdf13cf43c75</td>\n      <td>...</td>\n      <td>58.0</td>\n      <td>537.0</td>\n      <td>2.0</td>\n      <td>1850.0</td>\n      <td>34.0</td>\n      <td>5.0</td>\n      <td>34.0</td>\n      <td>9350</td>\n      <td>maua</td>\n      <td>SP</td>\n    </tr>\n    <tr>\n      <th>14</th>\n      <td>e71fb32bec49dd4112bcbcc19126d388</td>\n      <td>f6c383cc79b182ce1550bc57504941c3</td>\n      <td>delivered</td>\n      <td>2017-08-02 22:12:03</td>\n      <td>2017-08-02 22:25:18</td>\n      <td>2017-08-04 13:39:51</td>\n      <td>2017-08-08 17:56:12</td>\n      <td>2017-08-15 00:00:00</td>\n      <td>1.0</td>\n      <td>725cbfcaff95a4d43742fdf13cf43c75</td>\n      <td>...</td>\n      <td>58.0</td>\n      <td>537.0</td>\n      <td>2.0</td>\n      <td>1850.0</td>\n      <td>34.0</td>\n      <td>5.0</td>\n      <td>34.0</td>\n      <td>9350</td>\n      <td>maua</td>\n      <td>SP</td>\n    </tr>\n    <tr>\n      <th>15</th>\n      <td>e71fb32bec49dd4112bcbcc19126d388</td>\n      <td>f6c383cc79b182ce1550bc57504941c3</td>\n      <td>delivered</td>\n      <td>2017-08-02 22:12:03</td>\n      <td>2017-08-02 22:25:18</td>\n      <td>2017-08-04 13:39:51</td>\n      <td>2017-08-08 17:56:12</td>\n      <td>2017-08-15 00:00:00</td>\n      <td>1.0</td>\n      <td>725cbfcaff95a4d43742fdf13cf43c75</td>\n      <td>...</td>\n      <td>58.0</td>\n      <td>537.0</td>\n      <td>2.0</td>\n      <td>1850.0</td>\n      <td>34.0</td>\n      <td>5.0</td>\n      <td>34.0</td>\n      <td>9350</td>\n      <td>maua</td>\n      <td>SP</td>\n    </tr>\n    <tr>\n      <th>16</th>\n      <td>03eae39a27aeab0f8c9ad5b84555a6d1</td>\n      <td>d91337c4d268a8a9f17bef015ce9af3d</td>\n      <td>delivered</td>\n      <td>2017-08-15 10:23:57</td>\n      <td>2017-08-15 10:45:49</td>\n      <td>2017-08-16 15:52:28</td>\n      <td>2017-08-19 16:06:37</td>\n      <td>2017-08-28 00:00:00</td>\n      <td>1.0</td>\n      <td>725cbfcaff95a4d43742fdf13cf43c75</td>\n      <td>...</td>\n      <td>58.0</td>\n      <td>537.0</td>\n      <td>2.0</td>\n      <td>1850.0</td>\n      <td>34.0</td>\n      <td>5.0</td>\n      <td>34.0</td>\n      <td>9350</td>\n      <td>maua</td>\n      <td>SP</td>\n    </tr>\n    <tr>\n      <th>17</th>\n      <td>de01100645b731556de153cfbebc35b1</td>\n      <td>94602ee2b2723266d391c94e7d1f4d89</td>\n      <td>delivered</td>\n      <td>2017-08-07 12:13:26</td>\n      <td>2017-08-07 12:43:37</td>\n      <td>2017-08-08 13:32:49</td>\n      <td>2017-08-17 18:24:38</td>\n      <td>2017-08-29 00:00:00</td>\n      <td>1.0</td>\n      <td>725cbfcaff95a4d43742fdf13cf43c75</td>\n      <td>...</td>\n      <td>58.0</td>\n      <td>537.0</td>\n      <td>2.0</td>\n      <td>1850.0</td>\n      <td>34.0</td>\n      <td>5.0</td>\n      <td>34.0</td>\n      <td>9350</td>\n      <td>maua</td>\n      <td>SP</td>\n    </tr>\n    <tr>\n      <th>18</th>\n      <td>1f201b2bf1eecbd0ad32c3f430846b84</td>\n      <td>856f3263eb7af3a48765c85d4d0eea1d</td>\n      <td>delivered</td>\n      <td>2017-09-26 21:32:17</td>\n      <td>2017-09-26 21:49:42</td>\n      <td>2017-09-28 15:28:03</td>\n      <td>2017-10-03 13:38:04</td>\n      <td>2017-10-11 00:00:00</td>\n      <td>1.0</td>\n      <td>725cbfcaff95a4d43742fdf13cf43c75</td>\n      <td>...</td>\n      <td>58.0</td>\n      <td>537.0</td>\n      <td>2.0</td>\n      <td>1850.0</td>\n      <td>34.0</td>\n      <td>5.0</td>\n      <td>34.0</td>\n      <td>9350</td>\n      <td>maua</td>\n      <td>SP</td>\n    </tr>\n    <tr>\n      <th>19</th>\n      <td>84aaa1a774e37a0a7c1a5413dc49e168</td>\n      <td>7cc4123da344ba5ca2fa23c0f7903fce</td>\n      <td>delivered</td>\n      <td>2017-07-21 10:03:34</td>\n      <td>2017-07-21 10:23:25</td>\n      <td>2017-07-25 19:45:28</td>\n      <td>2017-07-26 21:13:05</td>\n      <td>2017-08-03 00:00:00</td>\n      <td>1.0</td>\n      <td>725cbfcaff95a4d43742fdf13cf43c75</td>\n      <td>...</td>\n      <td>58.0</td>\n      <td>537.0</td>\n      <td>2.0</td>\n      <td>1850.0</td>\n      <td>34.0</td>\n      <td>5.0</td>\n      <td>34.0</td>\n      <td>9350</td>\n      <td>maua</td>\n      <td>SP</td>\n    </tr>\n    <tr>\n      <th>20</th>\n      <td>9ac4df93702b3a7d40156ef4b6c81417</td>\n      <td>a2f0e5f633e77e713c7e49a836876c78</td>\n      <td>delivered</td>\n      <td>2017-07-05 14:23:53</td>\n      <td>2017-07-05 17:34:44</td>\n      <td>2017-07-06 11:16:52</td>\n      <td>2017-07-12 17:21:33</td>\n      <td>2017-07-25 00:00:00</td>\n      <td>1.0</td>\n      <td>725cbfcaff95a4d43742fdf13cf43c75</td>\n      <td>...</td>\n      <td>58.0</td>\n      <td>537.0</td>\n      <td>2.0</td>\n      <td>1850.0</td>\n      <td>34.0</td>\n      <td>5.0</td>\n      <td>34.0</td>\n      <td>9350</td>\n      <td>maua</td>\n      <td>SP</td>\n    </tr>\n    <tr>\n      <th>21</th>\n      <td>fed5e295c5412218d84f60a3d09717f4</td>\n      <td>6751d1c35a37bfc06df3bd73a8abfdd7</td>\n      <td>delivered</td>\n      <td>2017-10-13 10:59:41</td>\n      <td>2017-10-13 11:14:23</td>\n      <td>2017-10-16 18:05:17</td>\n      <td>2017-10-19 19:33:21</td>\n      <td>2017-10-25 00:00:00</td>\n      <td>1.0</td>\n      <td>725cbfcaff95a4d43742fdf13cf43c75</td>\n      <td>...</td>\n      <td>58.0</td>\n      <td>537.0</td>\n      <td>2.0</td>\n      <td>1850.0</td>\n      <td>34.0</td>\n      <td>5.0</td>\n      <td>34.0</td>\n      <td>9350</td>\n      <td>maua</td>\n      <td>SP</td>\n    </tr>\n    <tr>\n      <th>22</th>\n      <td>f37bdf37547266e7d6760e52bc87dfe3</td>\n      <td>8860eda9f0c775c17cf854564eab3418</td>\n      <td>delivered</td>\n      <td>2017-07-25 16:49:56</td>\n      <td>2017-07-25 17:03:22</td>\n      <td>2017-07-26 14:37:38</td>\n      <td>2017-07-27 21:34:07</td>\n      <td>2017-08-07 00:00:00</td>\n      <td>1.0</td>\n      <td>725cbfcaff95a4d43742fdf13cf43c75</td>\n      <td>...</td>\n      <td>58.0</td>\n      <td>537.0</td>\n      <td>2.0</td>\n      <td>1850.0</td>\n      <td>34.0</td>\n      <td>5.0</td>\n      <td>34.0</td>\n      <td>9350</td>\n      <td>maua</td>\n      <td>SP</td>\n    </tr>\n    <tr>\n      <th>23</th>\n      <td>f37bdf37547266e7d6760e52bc87dfe3</td>\n      <td>8860eda9f0c775c17cf854564eab3418</td>\n      <td>delivered</td>\n      <td>2017-07-25 16:49:56</td>\n      <td>2017-07-25 17:03:22</td>\n      <td>2017-07-26 14:37:38</td>\n      <td>2017-07-27 21:34:07</td>\n      <td>2017-08-07 00:00:00</td>\n      <td>1.0</td>\n      <td>725cbfcaff95a4d43742fdf13cf43c75</td>\n      <td>...</td>\n      <td>58.0</td>\n      <td>537.0</td>\n      <td>2.0</td>\n      <td>1850.0</td>\n      <td>34.0</td>\n      <td>5.0</td>\n      <td>34.0</td>\n      <td>9350</td>\n      <td>maua</td>\n      <td>SP</td>\n    </tr>\n    <tr>\n      <th>24</th>\n      <td>ff12a8872c437666ba0b1df5812a956e</td>\n      <td>60c2cececa9f77296d64e5a4def548e6</td>\n      <td>delivered</td>\n      <td>2017-08-02 14:19:54</td>\n      <td>2017-08-02 14:30:20</td>\n      <td>2017-08-04 17:35:43</td>\n      <td>2017-08-11 19:34:06</td>\n      <td>2017-08-24 00:00:00</td>\n      <td>1.0</td>\n      <td>725cbfcaff95a4d43742fdf13cf43c75</td>\n      <td>...</td>\n      <td>58.0</td>\n      <td>537.0</td>\n      <td>2.0</td>\n      <td>1850.0</td>\n      <td>34.0</td>\n      <td>5.0</td>\n      <td>34.0</td>\n      <td>9350</td>\n      <td>maua</td>\n      <td>SP</td>\n    </tr>\n    <tr>\n      <th>25</th>\n      <td>0c511eb6cecb1f110a807dad27440c81</td>\n      <td>915411390c6b557e49b9cf369572d189</td>\n      <td>delivered</td>\n      <td>2017-09-26 14:45:50</td>\n      <td>2017-09-26 15:04:42</td>\n      <td>2017-09-28 15:28:02</td>\n      <td>2017-10-10 20:36:53</td>\n      <td>2017-10-25 00:00:00</td>\n      <td>1.0</td>\n      <td>725cbfcaff95a4d43742fdf13cf43c75</td>\n      <td>...</td>\n      <td>58.0</td>\n      <td>537.0</td>\n      <td>2.0</td>\n      <td>1850.0</td>\n      <td>34.0</td>\n      <td>5.0</td>\n      <td>34.0</td>\n      <td>9350</td>\n      <td>maua</td>\n      <td>SP</td>\n    </tr>\n    <tr>\n      <th>26</th>\n      <td>f72af8df59fdbc3f45aeb2df4e1e9ca1</td>\n      <td>3f564a14c326f9a681d340e75246b775</td>\n      <td>delivered</td>\n      <td>2017-08-18 09:17:25</td>\n      <td>2017-08-19 09:24:56</td>\n      <td>2017-08-21 16:32:45</td>\n      <td>2017-08-23 15:38:10</td>\n      <td>2017-08-31 00:00:00</td>\n      <td>1.0</td>\n      <td>725cbfcaff95a4d43742fdf13cf43c75</td>\n      <td>...</td>\n      <td>58.0</td>\n      <td>537.0</td>\n      <td>2.0</td>\n      <td>1850.0</td>\n      <td>34.0</td>\n      <td>5.0</td>\n      <td>34.0</td>\n      <td>9350</td>\n      <td>maua</td>\n      <td>SP</td>\n    </tr>\n    <tr>\n      <th>27</th>\n      <td>1462290799412b71be32dd880eaf4e1b</td>\n      <td>220e4b027f0294fd79d2869ef67e7db6</td>\n      <td>delivered</td>\n      <td>2017-08-19 14:06:58</td>\n      <td>2017-08-22 04:10:55</td>\n      <td>2017-08-23 13:54:29</td>\n      <td>2017-08-29 19:35:06</td>\n      <td>2017-09-15 00:00:00</td>\n      <td>1.0</td>\n      <td>d7faab3fa0091d1220a8ada9cae1bab3</td>\n      <td>...</td>\n      <td>60.0</td>\n      <td>251.0</td>\n      <td>1.0</td>\n      <td>600.0</td>\n      <td>22.0</td>\n      <td>5.0</td>\n      <td>20.0</td>\n      <td>9350</td>\n      <td>maua</td>\n      <td>SP</td>\n    </tr>\n    <tr>\n      <th>28</th>\n      <td>60d13096e69ace88a0c5b8c3805010ca</td>\n      <td>54bd7edf8250e9e67794e9df507e3720</td>\n      <td>delivered</td>\n      <td>2017-11-06 13:48:10</td>\n      <td>2017-11-07 07:30:35</td>\n      <td>2017-11-10 14:24:33</td>\n      <td>2017-11-18 12:21:41</td>\n      <td>2017-11-28 00:00:00</td>\n      <td>1.0</td>\n      <td>605050407239c811cf987c99fbabaf4d</td>\n      <td>...</td>\n      <td>60.0</td>\n      <td>562.0</td>\n      <td>2.0</td>\n      <td>700.0</td>\n      <td>24.0</td>\n      <td>6.0</td>\n      <td>19.0</td>\n      <td>9350</td>\n      <td>maua</td>\n      <td>SP</td>\n    </tr>\n    <tr>\n      <th>29</th>\n      <td>5cd9658ba9e8ad15b491928fd7ec370d</td>\n      <td>cf54331ed702f203f23da3cf5a0de4d2</td>\n      <td>delivered</td>\n      <td>2017-08-30 19:43:57</td>\n      <td>2017-08-30 19:55:20</td>\n      <td>2017-08-31 18:37:38</td>\n      <td>2017-09-04 20:04:42</td>\n      <td>2017-09-18 00:00:00</td>\n      <td>1.0</td>\n      <td>605050407239c811cf987c99fbabaf4d</td>\n      <td>...</td>\n      <td>60.0</td>\n      <td>562.0</td>\n      <td>2.0</td>\n      <td>700.0</td>\n      <td>24.0</td>\n      <td>6.0</td>\n      <td>19.0</td>\n      <td>9350</td>\n      <td>maua</td>\n      <td>SP</td>\n    </tr>\n  </tbody>\n</table>\n<p>30 rows × 35 columns</p>\n</div>"
     },
     "execution_count": 80,
     "metadata": {},
     "output_type": "execute_result"
    }
   ],
   "source": [
    "orders.head(30)"
   ],
   "metadata": {
    "collapsed": false,
    "ExecuteTime": {
     "end_time": "2023-12-14T13:33:58.323017Z",
     "start_time": "2023-12-14T13:33:58.270340Z"
    }
   }
  },
  {
   "cell_type": "code",
   "execution_count": 82,
   "outputs": [],
   "source": [
    "# adjust column _date from object to datetime\n",
    "cols = ['order_delivered_carrier_date','order_delivered_customer_date','order_estimated_delivery_date','shipping_limit_date','review_creation_date']\n",
    "for col in cols:\n",
    "    orders[col] = pd.to_datetime(orders[col])"
   ],
   "metadata": {
    "collapsed": false,
    "ExecuteTime": {
     "end_time": "2023-12-14T13:38:56.081953Z",
     "start_time": "2023-12-14T13:38:55.930618Z"
    }
   }
  },
  {
   "cell_type": "code",
   "execution_count": 83,
   "outputs": [
    {
     "name": "stdout",
     "output_type": "stream",
     "text": [
      "<class 'pandas.core.frame.DataFrame'>\n",
      "Int64Index: 117329 entries, 0 to 117328\n",
      "Data columns (total 35 columns):\n",
      " #   Column                         Non-Null Count   Dtype         \n",
      "---  ------                         --------------   -----         \n",
      " 0   order_id                       117329 non-null  object        \n",
      " 1   customer_id                    117329 non-null  object        \n",
      " 2   order_status                   117329 non-null  object        \n",
      " 3   order_purchase_timestamp       117329 non-null  object        \n",
      " 4   order_approved_at              117314 non-null  object        \n",
      " 5   order_delivered_carrier_date   116094 non-null  datetime64[ns]\n",
      " 6   order_delivered_customer_date  114858 non-null  datetime64[ns]\n",
      " 7   order_estimated_delivery_date  117329 non-null  datetime64[ns]\n",
      " 8   order_item_id                  117329 non-null  float64       \n",
      " 9   product_id                     117329 non-null  object        \n",
      " 10  seller_id                      117329 non-null  object        \n",
      " 11  shipping_limit_date            117329 non-null  datetime64[ns]\n",
      " 12  price                          117329 non-null  float64       \n",
      " 13  freight_value                  117329 non-null  float64       \n",
      " 14  payment_sequential             117329 non-null  int64         \n",
      " 15  payment_type                   117329 non-null  object        \n",
      " 16  payment_installments           117329 non-null  int64         \n",
      " 17  payment_value                  117329 non-null  float64       \n",
      " 18  review_id                      117329 non-null  object        \n",
      " 19  review_score                   117329 non-null  int64         \n",
      " 20  review_comment_title           13892 non-null   object        \n",
      " 21  review_comment_message         49679 non-null   object        \n",
      " 22  review_creation_date           117329 non-null  datetime64[ns]\n",
      " 23  review_answer_timestamp        117329 non-null  object        \n",
      " 24  product_category_name          115634 non-null  object        \n",
      " 25  product_name_lenght            115634 non-null  float64       \n",
      " 26  product_description_lenght     115634 non-null  float64       \n",
      " 27  product_photos_qty             115634 non-null  float64       \n",
      " 28  product_weight_g               117309 non-null  float64       \n",
      " 29  product_length_cm              117309 non-null  float64       \n",
      " 30  product_height_cm              117309 non-null  float64       \n",
      " 31  product_width_cm               117309 non-null  float64       \n",
      " 32  seller_zip_code_prefix         117329 non-null  int64         \n",
      " 33  seller_city                    117329 non-null  object        \n",
      " 34  seller_state                   117329 non-null  object        \n",
      "dtypes: datetime64[ns](5), float64(11), int64(4), object(15)\n",
      "memory usage: 32.2+ MB\n"
     ]
    }
   ],
   "source": [
    "orders.info()"
   ],
   "metadata": {
    "collapsed": false,
    "ExecuteTime": {
     "end_time": "2023-12-14T13:39:08.419148Z",
     "start_time": "2023-12-14T13:39:08.305377Z"
    }
   }
  },
  {
   "cell_type": "code",
   "execution_count": 65,
   "outputs": [],
   "source": [
    "# rename geolocation column geolocation_zip_code - > customer_zip_code\n",
    "temp = geolocation.copy(deep = True)\n",
    "temp.rename(columns = {'geolocation_zip_code_prefix':'customer_zip_code_prefix'},inplace = True)\n",
    "customers_loc = customers.merge(temp, how ='left', on = 'customer_zip_code_prefix')\n",
    "customers_order = customers_loc.merge(orders, how = 'left', on = 'customer_id')\n",
    "del temp"
   ],
   "metadata": {
    "collapsed": false,
    "ExecuteTime": {
     "end_time": "2023-12-14T13:05:59.006611Z",
     "start_time": "2023-12-14T13:04:33.769788Z"
    }
   }
  },
  {
   "cell_type": "code",
   "execution_count": 66,
   "outputs": [
    {
     "data": {
      "text/plain": "                        customer_id                customer_unique_id  \\\n0  06b8999e2fba1a1fbc88172c00ba8bc7  861eff4711a542e4b93843c6dd7febb0   \n1  06b8999e2fba1a1fbc88172c00ba8bc7  861eff4711a542e4b93843c6dd7febb0   \n2  06b8999e2fba1a1fbc88172c00ba8bc7  861eff4711a542e4b93843c6dd7febb0   \n3  06b8999e2fba1a1fbc88172c00ba8bc7  861eff4711a542e4b93843c6dd7febb0   \n4  06b8999e2fba1a1fbc88172c00ba8bc7  861eff4711a542e4b93843c6dd7febb0   \n\n   customer_zip_code_prefix customer_city customer_state  geolocation_lat  \\\n0                     14409        franca             SP       -20.509897   \n1                     14409        franca             SP       -20.497396   \n2                     14409        franca             SP       -20.510459   \n3                     14409        franca             SP       -20.480940   \n4                     14409        franca             SP       -20.515413   \n\n   geolocation_lng geolocation_city geolocation_state  \\\n0       -47.397866           franca                SP   \n1       -47.399241           franca                SP   \n2       -47.399553           franca                SP   \n3       -47.394161           franca                SP   \n4       -47.398194           franca                SP   \n\n                           order_id  ... product_name_lenght  \\\n0  00e7ee1b050b8499577073aeb2a297a1  ...                41.0   \n1  00e7ee1b050b8499577073aeb2a297a1  ...                41.0   \n2  00e7ee1b050b8499577073aeb2a297a1  ...                41.0   \n3  00e7ee1b050b8499577073aeb2a297a1  ...                41.0   \n4  00e7ee1b050b8499577073aeb2a297a1  ...                41.0   \n\n  product_description_lenght product_photos_qty product_weight_g  \\\n0                     1141.0                1.0           8683.0   \n1                     1141.0                1.0           8683.0   \n2                     1141.0                1.0           8683.0   \n3                     1141.0                1.0           8683.0   \n4                     1141.0                1.0           8683.0   \n\n  product_length_cm product_height_cm  product_width_cm  \\\n0              54.0              64.0              31.0   \n1              54.0              64.0              31.0   \n2              54.0              64.0              31.0   \n3              54.0              64.0              31.0   \n4              54.0              64.0              31.0   \n\n  seller_zip_code_prefix      seller_city seller_state  \n0                 8577.0  itaquaquecetuba           SP  \n1                 8577.0  itaquaquecetuba           SP  \n2                 8577.0  itaquaquecetuba           SP  \n3                 8577.0  itaquaquecetuba           SP  \n4                 8577.0  itaquaquecetuba           SP  \n\n[5 rows x 43 columns]",
      "text/html": "<div>\n<style scoped>\n    .dataframe tbody tr th:only-of-type {\n        vertical-align: middle;\n    }\n\n    .dataframe tbody tr th {\n        vertical-align: top;\n    }\n\n    .dataframe thead th {\n        text-align: right;\n    }\n</style>\n<table border=\"1\" class=\"dataframe\">\n  <thead>\n    <tr style=\"text-align: right;\">\n      <th></th>\n      <th>customer_id</th>\n      <th>customer_unique_id</th>\n      <th>customer_zip_code_prefix</th>\n      <th>customer_city</th>\n      <th>customer_state</th>\n      <th>geolocation_lat</th>\n      <th>geolocation_lng</th>\n      <th>geolocation_city</th>\n      <th>geolocation_state</th>\n      <th>order_id</th>\n      <th>...</th>\n      <th>product_name_lenght</th>\n      <th>product_description_lenght</th>\n      <th>product_photos_qty</th>\n      <th>product_weight_g</th>\n      <th>product_length_cm</th>\n      <th>product_height_cm</th>\n      <th>product_width_cm</th>\n      <th>seller_zip_code_prefix</th>\n      <th>seller_city</th>\n      <th>seller_state</th>\n    </tr>\n  </thead>\n  <tbody>\n    <tr>\n      <th>0</th>\n      <td>06b8999e2fba1a1fbc88172c00ba8bc7</td>\n      <td>861eff4711a542e4b93843c6dd7febb0</td>\n      <td>14409</td>\n      <td>franca</td>\n      <td>SP</td>\n      <td>-20.509897</td>\n      <td>-47.397866</td>\n      <td>franca</td>\n      <td>SP</td>\n      <td>00e7ee1b050b8499577073aeb2a297a1</td>\n      <td>...</td>\n      <td>41.0</td>\n      <td>1141.0</td>\n      <td>1.0</td>\n      <td>8683.0</td>\n      <td>54.0</td>\n      <td>64.0</td>\n      <td>31.0</td>\n      <td>8577.0</td>\n      <td>itaquaquecetuba</td>\n      <td>SP</td>\n    </tr>\n    <tr>\n      <th>1</th>\n      <td>06b8999e2fba1a1fbc88172c00ba8bc7</td>\n      <td>861eff4711a542e4b93843c6dd7febb0</td>\n      <td>14409</td>\n      <td>franca</td>\n      <td>SP</td>\n      <td>-20.497396</td>\n      <td>-47.399241</td>\n      <td>franca</td>\n      <td>SP</td>\n      <td>00e7ee1b050b8499577073aeb2a297a1</td>\n      <td>...</td>\n      <td>41.0</td>\n      <td>1141.0</td>\n      <td>1.0</td>\n      <td>8683.0</td>\n      <td>54.0</td>\n      <td>64.0</td>\n      <td>31.0</td>\n      <td>8577.0</td>\n      <td>itaquaquecetuba</td>\n      <td>SP</td>\n    </tr>\n    <tr>\n      <th>2</th>\n      <td>06b8999e2fba1a1fbc88172c00ba8bc7</td>\n      <td>861eff4711a542e4b93843c6dd7febb0</td>\n      <td>14409</td>\n      <td>franca</td>\n      <td>SP</td>\n      <td>-20.510459</td>\n      <td>-47.399553</td>\n      <td>franca</td>\n      <td>SP</td>\n      <td>00e7ee1b050b8499577073aeb2a297a1</td>\n      <td>...</td>\n      <td>41.0</td>\n      <td>1141.0</td>\n      <td>1.0</td>\n      <td>8683.0</td>\n      <td>54.0</td>\n      <td>64.0</td>\n      <td>31.0</td>\n      <td>8577.0</td>\n      <td>itaquaquecetuba</td>\n      <td>SP</td>\n    </tr>\n    <tr>\n      <th>3</th>\n      <td>06b8999e2fba1a1fbc88172c00ba8bc7</td>\n      <td>861eff4711a542e4b93843c6dd7febb0</td>\n      <td>14409</td>\n      <td>franca</td>\n      <td>SP</td>\n      <td>-20.480940</td>\n      <td>-47.394161</td>\n      <td>franca</td>\n      <td>SP</td>\n      <td>00e7ee1b050b8499577073aeb2a297a1</td>\n      <td>...</td>\n      <td>41.0</td>\n      <td>1141.0</td>\n      <td>1.0</td>\n      <td>8683.0</td>\n      <td>54.0</td>\n      <td>64.0</td>\n      <td>31.0</td>\n      <td>8577.0</td>\n      <td>itaquaquecetuba</td>\n      <td>SP</td>\n    </tr>\n    <tr>\n      <th>4</th>\n      <td>06b8999e2fba1a1fbc88172c00ba8bc7</td>\n      <td>861eff4711a542e4b93843c6dd7febb0</td>\n      <td>14409</td>\n      <td>franca</td>\n      <td>SP</td>\n      <td>-20.515413</td>\n      <td>-47.398194</td>\n      <td>franca</td>\n      <td>SP</td>\n      <td>00e7ee1b050b8499577073aeb2a297a1</td>\n      <td>...</td>\n      <td>41.0</td>\n      <td>1141.0</td>\n      <td>1.0</td>\n      <td>8683.0</td>\n      <td>54.0</td>\n      <td>64.0</td>\n      <td>31.0</td>\n      <td>8577.0</td>\n      <td>itaquaquecetuba</td>\n      <td>SP</td>\n    </tr>\n  </tbody>\n</table>\n<p>5 rows × 43 columns</p>\n</div>"
     },
     "execution_count": 66,
     "metadata": {},
     "output_type": "execute_result"
    }
   ],
   "source": [
    "customers_order.head()"
   ],
   "metadata": {
    "collapsed": false,
    "ExecuteTime": {
     "end_time": "2023-12-14T13:05:59.047385Z",
     "start_time": "2023-12-14T13:05:59.017654Z"
    }
   }
  },
  {
   "cell_type": "code",
   "execution_count": 67,
   "outputs": [
    {
     "data": {
      "text/plain": "(15083733, 9)"
     },
     "execution_count": 67,
     "metadata": {},
     "output_type": "execute_result"
    }
   ],
   "source": [
    "customers_loc.shape"
   ],
   "metadata": {
    "collapsed": false,
    "ExecuteTime": {
     "end_time": "2023-12-14T13:05:59.050167Z",
     "start_time": "2023-12-14T13:05:59.042474Z"
    }
   }
  },
  {
   "cell_type": "markdown",
   "source": [
    "# Data Visualisation"
   ],
   "metadata": {
    "collapsed": false
   }
  },
  {
   "cell_type": "code",
   "execution_count": 73,
   "outputs": [
    {
     "data": {
      "text/plain": "<Figure size 720x720 with 1 Axes>",
      "image/png": "[encoded data removed]"
     },
     "metadata": {},
     "output_type": "display_data"
    }
   ],
   "source": [
    "# order_payment values\n",
    "payments = order_payment.groupby(['payment_type'])['payment_value'].agg(['count','sum']).reset_index()\n",
    "#f, axes = plt.subplots(1,1,figsize=(10, 10), sharex=False, sharey = False)\n",
    "''''\n",
    "plt.subplot(1, 2, 1)\n",
    "plt.pie(payments['count'],labels = payments['payment_type'],autopct = '%.2f %%')\n",
    "plt.title('Payment Type in count')\n",
    "\n",
    "plt.subplot(1,2,2)\n",
    "plt.pie(payments['sum'],labels = payments['payment_type'],autopct = '%.2f %%')\n",
    "plt.title('Payment Type in Summary')\n",
    "\n",
    "plt.show()\n",
    "'''\n",
    "sns.set(font_scale = 1.2)\n",
    "plt.figure(figsize=(10,10))\n",
    "\n",
    "plt.pie(\n",
    "    x=payments['count'], labels=payments['payment_type'],\n",
    "    colors=sns.color_palette('Set2'),\n",
    "    startangle=90,\n",
    "    # show percentages\n",
    "    autopct='%1.2f%%',\n",
    "    # move the percentage inside the arcs\n",
    "    pctdistance=0.80,\n",
    "    # add space between the arcs\n",
    "    explode=[0.05, 0.05, 0.05, 0.05, 0.05]\n",
    ")\n",
    "\n",
    "### Add a hole in the pie  \n",
    "hole = plt.Circle((0, 0), 0.65, facecolor='white')\n",
    "plt.gcf().gca().add_artist(hole)\n",
    "\n",
    "plt.show()"
   ],
   "metadata": {
    "collapsed": false,
    "ExecuteTime": {
     "end_time": "2023-12-14T13:18:38.364610Z",
     "start_time": "2023-12-14T13:18:38.230301Z"
    }
   }
  },
  {
   "cell_type": "code",
   "execution_count": 78,
   "outputs": [
    {
     "data": {
      "text/plain": "<Figure size 720x720 with 1 Axes>",
      "image/png": "[encoded data removed]"
     },
     "metadata": {},
     "output_type": "display_data"
    }
   ],
   "source": [
    "# Payment total value by payment method\n",
    "sns.set(font_scale = 1.2)\n",
    "plt.figure(figsize=(10, 10))\n",
    "\n",
    "patches, texts, autotexts = plt.pie(\n",
    "    x=payments['sum'], labels=payments['payment_type'], autopct='%1.2f%%',\n",
    "    colors=sns.color_palette('Set1'),    labeldistance=0.75,\n",
    "    # Distance of percent labels from the center\n",
    "    pctdistance=0.6\n",
    ")\n",
    "\n",
    "# Customize text labels\n",
    "for text in texts:\n",
    "    text.set_horizontalalignment('center')\n",
    "\n",
    "# Customize percent labels\n",
    "for autotext in autotexts:\n",
    "    autotext.set_horizontalalignment('center')\n",
    "    autotext.set_fontstyle('normal')\n",
    "\n",
    "plt.show()"
   ],
   "metadata": {
    "collapsed": false,
    "ExecuteTime": {
     "end_time": "2023-12-14T13:21:10.929538Z",
     "start_time": "2023-12-14T13:21:10.799354Z"
    }
   }
  },
  {
   "cell_type": "code",
   "execution_count": 49,
   "outputs": [
    {
     "data": {
      "text/plain": "            customer_city  count\n3950       valao do barro      1\n3998             vermelho      1\n3655   serra dos dourados      1\n846    carnaiba do sertao      1\n3538  sao mateus de minas      1",
      "text/html": "<div>\n<style scoped>\n    .dataframe tbody tr th:only-of-type {\n        vertical-align: middle;\n    }\n\n    .dataframe tbody tr th {\n        vertical-align: top;\n    }\n\n    .dataframe thead th {\n        text-align: right;\n    }\n</style>\n<table border=\"1\" class=\"dataframe\">\n  <thead>\n    <tr style=\"text-align: right;\">\n      <th></th>\n      <th>customer_city</th>\n      <th>count</th>\n    </tr>\n  </thead>\n  <tbody>\n    <tr>\n      <th>3950</th>\n      <td>valao do barro</td>\n      <td>1</td>\n    </tr>\n    <tr>\n      <th>3998</th>\n      <td>vermelho</td>\n      <td>1</td>\n    </tr>\n    <tr>\n      <th>3655</th>\n      <td>serra dos dourados</td>\n      <td>1</td>\n    </tr>\n    <tr>\n      <th>846</th>\n      <td>carnaiba do sertao</td>\n      <td>1</td>\n    </tr>\n    <tr>\n      <th>3538</th>\n      <td>sao mateus de minas</td>\n      <td>1</td>\n    </tr>\n  </tbody>\n</table>\n</div>"
     },
     "execution_count": 49,
     "metadata": {},
     "output_type": "execute_result"
    }
   ],
   "source": [
    "# which city customer comes the most\n",
    "customer_city = customers_loc.groupby(['customer_city'])['customer_id'].agg(['count']).reset_index().sort_values(by = 'count', ascending = True)\n",
    "customer_city.head()\n",
    "# Bar chart to show cities count\n",
    "#sns.factorplot(x=\"count\", y=\"customer_city\", data = customer_city, kind=\"bar\", size=8, aspect=1.9,row_order = 'count')\n",
    "#plt.title('# of Record by Country')"
   ],
   "metadata": {
    "collapsed": false,
    "ExecuteTime": {
     "end_time": "2023-12-14T12:38:38.376433Z",
     "start_time": "2023-12-14T12:38:36.363247Z"
    }
   }
  },
  {
   "cell_type": "code",
   "execution_count": 33,
   "outputs": [
    {
     "data": {
      "text/plain": "            customer_city  count\n2059               lagoao      1\n2779          pedro gomes      1\n814              caraibas      1\n1930              japoata      1\n2783          pedro velho      1\n2784                peixe      1\n810               caracol      1\n1346           flora rica      1\n1348             florania      1\n807       capivari do sul      1\n1928                 japi      1\n1926           japaratuba      1\n2794                pequi      1\n2795           pequizeiro      1\n2800             pereiras      1\n808             capoeiras      1\n1934            jaquirana      1\n2769         pedras altas      1\n2768               pedrao      1\n1943        jardim olinda      1\n1941   jardim de piranhas      1\n2737           pau brasil      1\n1939  jardim abc de goias      1\n2741        paula candido      1\n830              caridade      1\n2742        paula freitas      1\n2745        paulino neves      1\n2748          paulistania      1\n1343           filadelfia      1\n2754                pavao      1",
      "text/html": "<div>\n<style scoped>\n    .dataframe tbody tr th:only-of-type {\n        vertical-align: middle;\n    }\n\n    .dataframe tbody tr th {\n        vertical-align: top;\n    }\n\n    .dataframe thead th {\n        text-align: right;\n    }\n</style>\n<table border=\"1\" class=\"dataframe\">\n  <thead>\n    <tr style=\"text-align: right;\">\n      <th></th>\n      <th>customer_city</th>\n      <th>count</th>\n    </tr>\n  </thead>\n  <tbody>\n    <tr>\n      <th>2059</th>\n      <td>lagoao</td>\n      <td>1</td>\n    </tr>\n    <tr>\n      <th>2779</th>\n      <td>pedro gomes</td>\n      <td>1</td>\n    </tr>\n    <tr>\n      <th>814</th>\n      <td>caraibas</td>\n      <td>1</td>\n    </tr>\n    <tr>\n      <th>1930</th>\n      <td>japoata</td>\n      <td>1</td>\n    </tr>\n    <tr>\n      <th>2783</th>\n      <td>pedro velho</td>\n      <td>1</td>\n    </tr>\n    <tr>\n      <th>2784</th>\n      <td>peixe</td>\n      <td>1</td>\n    </tr>\n    <tr>\n      <th>810</th>\n      <td>caracol</td>\n      <td>1</td>\n    </tr>\n    <tr>\n      <th>1346</th>\n      <td>flora rica</td>\n      <td>1</td>\n    </tr>\n    <tr>\n      <th>1348</th>\n      <td>florania</td>\n      <td>1</td>\n    </tr>\n    <tr>\n      <th>807</th>\n      <td>capivari do sul</td>\n      <td>1</td>\n    </tr>\n    <tr>\n      <th>1928</th>\n      <td>japi</td>\n      <td>1</td>\n    </tr>\n    <tr>\n      <th>1926</th>\n      <td>japaratuba</td>\n      <td>1</td>\n    </tr>\n    <tr>\n      <th>2794</th>\n      <td>pequi</td>\n      <td>1</td>\n    </tr>\n    <tr>\n      <th>2795</th>\n      <td>pequizeiro</td>\n      <td>1</td>\n    </tr>\n    <tr>\n      <th>2800</th>\n      <td>pereiras</td>\n      <td>1</td>\n    </tr>\n    <tr>\n      <th>808</th>\n      <td>capoeiras</td>\n      <td>1</td>\n    </tr>\n    <tr>\n      <th>1934</th>\n      <td>jaquirana</td>\n      <td>1</td>\n    </tr>\n    <tr>\n      <th>2769</th>\n      <td>pedras altas</td>\n      <td>1</td>\n    </tr>\n    <tr>\n      <th>2768</th>\n      <td>pedrao</td>\n      <td>1</td>\n    </tr>\n    <tr>\n      <th>1943</th>\n      <td>jardim olinda</td>\n      <td>1</td>\n    </tr>\n    <tr>\n      <th>1941</th>\n      <td>jardim de piranhas</td>\n      <td>1</td>\n    </tr>\n    <tr>\n      <th>2737</th>\n      <td>pau brasil</td>\n      <td>1</td>\n    </tr>\n    <tr>\n      <th>1939</th>\n      <td>jardim abc de goias</td>\n      <td>1</td>\n    </tr>\n    <tr>\n      <th>2741</th>\n      <td>paula candido</td>\n      <td>1</td>\n    </tr>\n    <tr>\n      <th>830</th>\n      <td>caridade</td>\n      <td>1</td>\n    </tr>\n    <tr>\n      <th>2742</th>\n      <td>paula freitas</td>\n      <td>1</td>\n    </tr>\n    <tr>\n      <th>2745</th>\n      <td>paulino neves</td>\n      <td>1</td>\n    </tr>\n    <tr>\n      <th>2748</th>\n      <td>paulistania</td>\n      <td>1</td>\n    </tr>\n    <tr>\n      <th>1343</th>\n      <td>filadelfia</td>\n      <td>1</td>\n    </tr>\n    <tr>\n      <th>2754</th>\n      <td>pavao</td>\n      <td>1</td>\n    </tr>\n  </tbody>\n</table>\n</div>"
     },
     "execution_count": 33,
     "metadata": {},
     "output_type": "execute_result"
    }
   ],
   "source": [
    "customer_city.head(30)"
   ],
   "metadata": {
    "collapsed": false,
    "ExecuteTime": {
     "end_time": "2023-12-14T04:08:06.758111Z",
     "start_time": "2023-12-14T04:08:06.721952Z"
    }
   }
  },
  {
   "cell_type": "code",
   "execution_count": null,
   "outputs": [],
   "source": [],
   "metadata": {
    "collapsed": false
   }
  },
  {
   "cell_type": "code",
   "execution_count": null,
   "outputs": [],
   "source": [],
   "metadata": {
    "collapsed": false
   }
  },
  {
   "cell_type": "code",
   "execution_count": null,
   "outputs": [],
   "source": [],
   "metadata": {
    "collapsed": false
   }
  },
  {
   "cell_type": "code",
   "execution_count": null,
   "outputs": [],
   "source": [],
   "metadata": {
    "collapsed": false
   }
  },
  {
   "cell_type": "code",
   "execution_count": null,
   "outputs": [],
   "source": [],
   "metadata": {
    "collapsed": false
   }
  },
  {
   "cell_type": "code",
   "execution_count": null,
   "outputs": [],
   "source": [],
   "metadata": {
    "collapsed": false
   }
  },
  {
   "cell_type": "code",
   "execution_count": null,
   "outputs": [],
   "source": [],
   "metadata": {
    "collapsed": false
   }
  },
  {
   "cell_type": "code",
   "execution_count": null,
   "outputs": [],
   "source": [],
   "metadata": {
    "collapsed": false
   }
  },
  {
   "cell_type": "code",
   "execution_count": null,
   "outputs": [],
   "source": [],
   "metadata": {
    "collapsed": false
   }
  },
  {
   "cell_type": "code",
   "execution_count": null,
   "outputs": [],
   "source": [],
   "metadata": {
    "collapsed": false
   }
  },
  {
   "cell_type": "code",
   "execution_count": null,
   "outputs": [],
   "source": [],
   "metadata": {
    "collapsed": false
   }
  },
  {
   "cell_type": "code",
   "execution_count": null,
   "outputs": [],
   "source": [],
   "metadata": {
    "collapsed": false
   }
  },
  {
   "cell_type": "code",
   "execution_count": null,
   "outputs": [],
   "source": [],
   "metadata": {
    "collapsed": false
   }
  },
  {
   "cell_type": "code",
   "execution_count": null,
   "outputs": [],
   "source": [],
   "metadata": {
    "collapsed": false
   }
  },
  {
   "cell_type": "code",
   "execution_count": null,
   "outputs": [],
   "source": [],
   "metadata": {
    "collapsed": false
   }
  },
  {
   "cell_type": "code",
   "execution_count": null,
   "outputs": [],
   "source": [],
   "metadata": {
    "collapsed": false
   }
  },
  {
   "cell_type": "code",
   "execution_count": null,
   "outputs": [],
   "source": [],
   "metadata": {
    "collapsed": false
   }
  },
  {
   "cell_type": "code",
   "execution_count": null,
   "outputs": [],
   "source": [],
   "metadata": {
    "collapsed": false
   }
  },
  {
   "cell_type": "code",
   "execution_count": null,
   "outputs": [],
   "source": [],
   "metadata": {
    "collapsed": false
   }
  },
  {
   "cell_type": "code",
   "execution_count": null,
   "outputs": [],
   "source": [],
   "metadata": {
    "collapsed": false
   }
  },
  {
   "cell_type": "code",
   "execution_count": null,
   "outputs": [],
   "source": [],
   "metadata": {
    "collapsed": false
   }
  },
  {
   "cell_type": "code",
   "execution_count": null,
   "outputs": [],
   "source": [],
   "metadata": {
    "collapsed": false
   }
  },
  {
   "cell_type": "markdown",
   "source": [
    "## Time Series Analysis"
   ],
   "metadata": {
    "collapsed": false
   }
  },
  {
   "cell_type": "code",
   "execution_count": null,
   "outputs": [],
   "source": [],
   "metadata": {
    "collapsed": false
   }
  },
  {
   "cell_type": "code",
   "execution_count": null,
   "outputs": [],
   "source": [],
   "metadata": {
    "collapsed": false
   }
  }
 ],
 "metadata": {
  "kernelspec": {
   "display_name": "Python 3",
   "language": "python",
   "name": "python3"
  },
  "language_info": {
   "codemirror_mode": {
    "name": "ipython",
    "version": 2
   },
   "file_extension": ".py",
   "mimetype": "text/x-python",
   "name": "python",
   "nbconvert_exporter": "python",
   "pygments_lexer": "ipython2",
   "version": "2.7.6"
  }
 },
 "nbformat": 4,
 "nbformat_minor": 0
}
