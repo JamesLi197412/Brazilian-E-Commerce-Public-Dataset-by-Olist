{
 "cells": [
  {
   "cell_type": "code",
   "execution_count": 1,
   "metadata": {
    "collapsed": true,
    "ExecuteTime": {
     "end_time": "2023-12-23T14:31:52.593348Z",
     "start_time": "2023-12-23T14:31:50.035043Z"
    }
   },
   "outputs": [
    {
     "name": "stderr",
     "output_type": "stream",
     "text": [
      "/var/folders/c3/z8gl7_754n15kcrx5rz7k0840000gn/T/ipykernel_62832/466060786.py:19: FutureWarning: The pandas.datetime class is deprecated and will be removed from pandas in a future version. Import from datetime module instead.\n",
      "  from pandas import datetime\n"
     ]
    }
   ],
   "source": [
    "# Import essential libraries\n",
    "import warnings\n",
    "\n",
    "import matplotlib.pyplot as plt\n",
    "import numpy as np\n",
    "import pandas as pd\n",
    "import seaborn as sns\n",
    "\n",
    "import statsmodels.api as sm\n",
    "from statsmodels.tsa.seasonal import seasonal_decompose\n",
    "\n",
    "from xgboost import XGBRegressor\n",
    "from mlforecast import MLForecast\n",
    "from window_ops.rolling import rolling_mean,rolling_max,rolling_min\n",
    "\n",
    "from xgboost import plot_importance, plot_tree\n",
    "\n",
    "from statsmodels.tsa.arima_model import ARIMA\n",
    "from pandas import datetime\n",
    "\n",
    "import xgboost as xgb \n",
    "from sklearn.model_selection import train_test_split\n",
    "\n",
    "from sklearn.model_selection import GridSearchCV\n",
    "from sklearn.metrics import confusion_matrix, ConfusionMatrixDisplay\n",
    "\n",
    "from statsmodels.tsa.stattools import acf, pacf\n",
    "from statsmodels.graphics.tsaplots import plot_acf, plot_pacf\n",
    "\n",
    "warnings.filterwarnings(\"ignore\")"
   ]
  },
  {
   "cell_type": "markdown",
   "source": [
    "# Access to Local Files"
   ],
   "metadata": {
    "collapsed": false
   }
  },
  {
   "cell_type": "code",
   "execution_count": 2,
   "outputs": [],
   "source": [
    "# access files\n",
    "path = 'dataset/'\n",
    "customers = pd.read_csv(path + 'olist_customers_dataset.csv')\n",
    "geolocation = pd.read_csv(path + 'olist_geolocation_dataset.csv')\n",
    "order_items = pd.read_csv(path + 'olist_order_items_dataset.csv')\n",
    "order_payment = pd.read_csv(path + 'olist_order_payments_dataset.csv')\n",
    "order_reviews = pd.read_csv(path + 'olist_order_reviews_dataset.csv')\n",
    "order_dataset = pd.read_csv(path + 'olist_orders_dataset.csv')\n",
    "products = pd.read_csv(path + 'olist_products_dataset.csv')\n",
    "sellers = pd.read_csv(path + 'olist_sellers_dataset.csv')\n",
    "product_category = pd.read_csv(path + 'product_category_name_translation.csv')\n"
   ],
   "metadata": {
    "collapsed": false,
    "ExecuteTime": {
     "end_time": "2023-12-23T14:31:53.932936Z",
     "start_time": "2023-12-23T14:31:52.597300Z"
    }
   }
  },
  {
   "cell_type": "markdown",
   "source": [
    "# Data Exploration(EDA)"
   ],
   "metadata": {
    "collapsed": false
   }
  },
  {
   "cell_type": "code",
   "execution_count": 3,
   "outputs": [
    {
     "data": {
      "text/plain": "                        customer_id                customer_unique_id  \\\n0  06b8999e2fba1a1fbc88172c00ba8bc7  861eff4711a542e4b93843c6dd7febb0   \n1  18955e83d337fd6b2def6b18a428ac77  290c77bc529b7ac935b93aa66c333dc3   \n2  4e7b3e00288586ebd08712fdd0374a03  060e732b5b29e8181a18229c7b0b2b5e   \n3  b2b6027bc5c5109e529d4dc6358b12c3  259dac757896d24d7702b9acbbff3f3c   \n4  4f2d8ab171c80ec8364f7c12e35b23ad  345ecd01c38d18a9036ed96c73b8d066   \n\n   customer_zip_code_prefix          customer_city customer_state  \n0                     14409                 franca             SP  \n1                      9790  sao bernardo do campo             SP  \n2                      1151              sao paulo             SP  \n3                      8775        mogi das cruzes             SP  \n4                     13056               campinas             SP  ",
      "text/html": "<div>\n<style scoped>\n    .dataframe tbody tr th:only-of-type {\n        vertical-align: middle;\n    }\n\n    .dataframe tbody tr th {\n        vertical-align: top;\n    }\n\n    .dataframe thead th {\n        text-align: right;\n    }\n</style>\n<table border=\"1\" class=\"dataframe\">\n  <thead>\n    <tr style=\"text-align: right;\">\n      <th></th>\n      <th>customer_id</th>\n      <th>customer_unique_id</th>\n      <th>customer_zip_code_prefix</th>\n      <th>customer_city</th>\n      <th>customer_state</th>\n    </tr>\n  </thead>\n  <tbody>\n    <tr>\n      <th>0</th>\n      <td>06b8999e2fba1a1fbc88172c00ba8bc7</td>\n      <td>861eff4711a542e4b93843c6dd7febb0</td>\n      <td>14409</td>\n      <td>franca</td>\n      <td>SP</td>\n    </tr>\n    <tr>\n      <th>1</th>\n      <td>18955e83d337fd6b2def6b18a428ac77</td>\n      <td>290c77bc529b7ac935b93aa66c333dc3</td>\n      <td>9790</td>\n      <td>sao bernardo do campo</td>\n      <td>SP</td>\n    </tr>\n    <tr>\n      <th>2</th>\n      <td>4e7b3e00288586ebd08712fdd0374a03</td>\n      <td>060e732b5b29e8181a18229c7b0b2b5e</td>\n      <td>1151</td>\n      <td>sao paulo</td>\n      <td>SP</td>\n    </tr>\n    <tr>\n      <th>3</th>\n      <td>b2b6027bc5c5109e529d4dc6358b12c3</td>\n      <td>259dac757896d24d7702b9acbbff3f3c</td>\n      <td>8775</td>\n      <td>mogi das cruzes</td>\n      <td>SP</td>\n    </tr>\n    <tr>\n      <th>4</th>\n      <td>4f2d8ab171c80ec8364f7c12e35b23ad</td>\n      <td>345ecd01c38d18a9036ed96c73b8d066</td>\n      <td>13056</td>\n      <td>campinas</td>\n      <td>SP</td>\n    </tr>\n  </tbody>\n</table>\n</div>"
     },
     "execution_count": 3,
     "metadata": {},
     "output_type": "execute_result"
    }
   ],
   "source": [
    "customers.head()"
   ],
   "metadata": {
    "collapsed": false,
    "ExecuteTime": {
     "end_time": "2023-12-23T14:32:03.093640Z",
     "start_time": "2023-12-23T14:32:03.039596Z"
    }
   }
  },
  {
   "cell_type": "code",
   "execution_count": 4,
   "outputs": [
    {
     "data": {
      "text/plain": "   geolocation_zip_code_prefix  geolocation_lat  geolocation_lng  \\\n0                         1037       -23.545621       -46.639292   \n1                         1046       -23.546081       -46.644820   \n2                         1046       -23.546129       -46.642951   \n3                         1041       -23.544392       -46.639499   \n4                         1035       -23.541578       -46.641607   \n\n  geolocation_city geolocation_state  \n0        sao paulo                SP  \n1        sao paulo                SP  \n2        sao paulo                SP  \n3        sao paulo                SP  \n4        sao paulo                SP  ",
      "text/html": "<div>\n<style scoped>\n    .dataframe tbody tr th:only-of-type {\n        vertical-align: middle;\n    }\n\n    .dataframe tbody tr th {\n        vertical-align: top;\n    }\n\n    .dataframe thead th {\n        text-align: right;\n    }\n</style>\n<table border=\"1\" class=\"dataframe\">\n  <thead>\n    <tr style=\"text-align: right;\">\n      <th></th>\n      <th>geolocation_zip_code_prefix</th>\n      <th>geolocation_lat</th>\n      <th>geolocation_lng</th>\n      <th>geolocation_city</th>\n      <th>geolocation_state</th>\n    </tr>\n  </thead>\n  <tbody>\n    <tr>\n      <th>0</th>\n      <td>1037</td>\n      <td>-23.545621</td>\n      <td>-46.639292</td>\n      <td>sao paulo</td>\n      <td>SP</td>\n    </tr>\n    <tr>\n      <th>1</th>\n      <td>1046</td>\n      <td>-23.546081</td>\n      <td>-46.644820</td>\n      <td>sao paulo</td>\n      <td>SP</td>\n    </tr>\n    <tr>\n      <th>2</th>\n      <td>1046</td>\n      <td>-23.546129</td>\n      <td>-46.642951</td>\n      <td>sao paulo</td>\n      <td>SP</td>\n    </tr>\n    <tr>\n      <th>3</th>\n      <td>1041</td>\n      <td>-23.544392</td>\n      <td>-46.639499</td>\n      <td>sao paulo</td>\n      <td>SP</td>\n    </tr>\n    <tr>\n      <th>4</th>\n      <td>1035</td>\n      <td>-23.541578</td>\n      <td>-46.641607</td>\n      <td>sao paulo</td>\n      <td>SP</td>\n    </tr>\n  </tbody>\n</table>\n</div>"
     },
     "execution_count": 4,
     "metadata": {},
     "output_type": "execute_result"
    }
   ],
   "source": [
    "geolocation.head()"
   ],
   "metadata": {
    "collapsed": false,
    "ExecuteTime": {
     "end_time": "2023-12-23T14:32:03.722968Z",
     "start_time": "2023-12-23T14:32:03.694391Z"
    }
   }
  },
  {
   "cell_type": "code",
   "execution_count": 5,
   "outputs": [
    {
     "data": {
      "text/plain": "                           order_id  payment_sequential payment_type  \\\n0  b81ef226f3fe1789b1e8b2acac839d17                   1  credit_card   \n1  a9810da82917af2d9aefd1278f1dcfa0                   1  credit_card   \n2  25e8ea4e93396b6fa0d3dd708e76c1bd                   1  credit_card   \n3  ba78997921bbcdc1373bb41e913ab953                   1  credit_card   \n4  42fdf880ba16b47b59251dd489d4441a                   1  credit_card   \n\n   payment_installments  payment_value  \n0                     8          99.33  \n1                     1          24.39  \n2                     1          65.71  \n3                     8         107.78  \n4                     2         128.45  ",
      "text/html": "<div>\n<style scoped>\n    .dataframe tbody tr th:only-of-type {\n        vertical-align: middle;\n    }\n\n    .dataframe tbody tr th {\n        vertical-align: top;\n    }\n\n    .dataframe thead th {\n        text-align: right;\n    }\n</style>\n<table border=\"1\" class=\"dataframe\">\n  <thead>\n    <tr style=\"text-align: right;\">\n      <th></th>\n      <th>order_id</th>\n      <th>payment_sequential</th>\n      <th>payment_type</th>\n      <th>payment_installments</th>\n      <th>payment_value</th>\n    </tr>\n  </thead>\n  <tbody>\n    <tr>\n      <th>0</th>\n      <td>b81ef226f3fe1789b1e8b2acac839d17</td>\n      <td>1</td>\n      <td>credit_card</td>\n      <td>8</td>\n      <td>99.33</td>\n    </tr>\n    <tr>\n      <th>1</th>\n      <td>a9810da82917af2d9aefd1278f1dcfa0</td>\n      <td>1</td>\n      <td>credit_card</td>\n      <td>1</td>\n      <td>24.39</td>\n    </tr>\n    <tr>\n      <th>2</th>\n      <td>25e8ea4e93396b6fa0d3dd708e76c1bd</td>\n      <td>1</td>\n      <td>credit_card</td>\n      <td>1</td>\n      <td>65.71</td>\n    </tr>\n    <tr>\n      <th>3</th>\n      <td>ba78997921bbcdc1373bb41e913ab953</td>\n      <td>1</td>\n      <td>credit_card</td>\n      <td>8</td>\n      <td>107.78</td>\n    </tr>\n    <tr>\n      <th>4</th>\n      <td>42fdf880ba16b47b59251dd489d4441a</td>\n      <td>1</td>\n      <td>credit_card</td>\n      <td>2</td>\n      <td>128.45</td>\n    </tr>\n  </tbody>\n</table>\n</div>"
     },
     "execution_count": 5,
     "metadata": {},
     "output_type": "execute_result"
    }
   ],
   "source": [
    "order_payment.head()"
   ],
   "metadata": {
    "collapsed": false,
    "ExecuteTime": {
     "end_time": "2023-12-23T14:32:04.579731Z",
     "start_time": "2023-12-23T14:32:04.572511Z"
    }
   }
  },
  {
   "cell_type": "code",
   "execution_count": 6,
   "outputs": [
    {
     "data": {
      "text/plain": "                           order_id  order_item_id  \\\n0  00010242fe8c5a6d1ba2dd792cb16214              1   \n1  00018f77f2f0320c557190d7a144bdd3              1   \n2  000229ec398224ef6ca0657da4fc703e              1   \n3  00024acbcdf0a6daa1e931b038114c75              1   \n4  00042b26cf59d7ce69dfabb4e55b4fd9              1   \n\n                         product_id                         seller_id  \\\n0  4244733e06e7ecb4970a6e2683c13e61  48436dade18ac8b2bce089ec2a041202   \n1  e5f2d52b802189ee658865ca93d83a8f  dd7ddc04e1b6c2c614352b383efe2d36   \n2  c777355d18b72b67abbeef9df44fd0fd  5b51032eddd242adc84c38acab88f23d   \n3  7634da152a4610f1595efa32f14722fc  9d7a1d34a5052409006425275ba1c2b4   \n4  ac6c3623068f30de03045865e4e10089  df560393f3a51e74553ab94004ba5c87   \n\n   shipping_limit_date   price  freight_value  \n0  2017-09-19 09:45:35   58.90          13.29  \n1  2017-05-03 11:05:13  239.90          19.93  \n2  2018-01-18 14:48:30  199.00          17.87  \n3  2018-08-15 10:10:18   12.99          12.79  \n4  2017-02-13 13:57:51  199.90          18.14  ",
      "text/html": "<div>\n<style scoped>\n    .dataframe tbody tr th:only-of-type {\n        vertical-align: middle;\n    }\n\n    .dataframe tbody tr th {\n        vertical-align: top;\n    }\n\n    .dataframe thead th {\n        text-align: right;\n    }\n</style>\n<table border=\"1\" class=\"dataframe\">\n  <thead>\n    <tr style=\"text-align: right;\">\n      <th></th>\n      <th>order_id</th>\n      <th>order_item_id</th>\n      <th>product_id</th>\n      <th>seller_id</th>\n      <th>shipping_limit_date</th>\n      <th>price</th>\n      <th>freight_value</th>\n    </tr>\n  </thead>\n  <tbody>\n    <tr>\n      <th>0</th>\n      <td>00010242fe8c5a6d1ba2dd792cb16214</td>\n      <td>1</td>\n      <td>4244733e06e7ecb4970a6e2683c13e61</td>\n      <td>48436dade18ac8b2bce089ec2a041202</td>\n      <td>2017-09-19 09:45:35</td>\n      <td>58.90</td>\n      <td>13.29</td>\n    </tr>\n    <tr>\n      <th>1</th>\n      <td>00018f77f2f0320c557190d7a144bdd3</td>\n      <td>1</td>\n      <td>e5f2d52b802189ee658865ca93d83a8f</td>\n      <td>dd7ddc04e1b6c2c614352b383efe2d36</td>\n      <td>2017-05-03 11:05:13</td>\n      <td>239.90</td>\n      <td>19.93</td>\n    </tr>\n    <tr>\n      <th>2</th>\n      <td>000229ec398224ef6ca0657da4fc703e</td>\n      <td>1</td>\n      <td>c777355d18b72b67abbeef9df44fd0fd</td>\n      <td>5b51032eddd242adc84c38acab88f23d</td>\n      <td>2018-01-18 14:48:30</td>\n      <td>199.00</td>\n      <td>17.87</td>\n    </tr>\n    <tr>\n      <th>3</th>\n      <td>00024acbcdf0a6daa1e931b038114c75</td>\n      <td>1</td>\n      <td>7634da152a4610f1595efa32f14722fc</td>\n      <td>9d7a1d34a5052409006425275ba1c2b4</td>\n      <td>2018-08-15 10:10:18</td>\n      <td>12.99</td>\n      <td>12.79</td>\n    </tr>\n    <tr>\n      <th>4</th>\n      <td>00042b26cf59d7ce69dfabb4e55b4fd9</td>\n      <td>1</td>\n      <td>ac6c3623068f30de03045865e4e10089</td>\n      <td>df560393f3a51e74553ab94004ba5c87</td>\n      <td>2017-02-13 13:57:51</td>\n      <td>199.90</td>\n      <td>18.14</td>\n    </tr>\n  </tbody>\n</table>\n</div>"
     },
     "execution_count": 6,
     "metadata": {},
     "output_type": "execute_result"
    }
   ],
   "source": [
    "order_items.head()"
   ],
   "metadata": {
    "collapsed": false,
    "ExecuteTime": {
     "end_time": "2023-12-23T14:32:05.191033Z",
     "start_time": "2023-12-23T14:32:05.177940Z"
    }
   }
  },
  {
   "cell_type": "code",
   "execution_count": 7,
   "outputs": [
    {
     "name": "stdout",
     "output_type": "stream",
     "text": [
      "<class 'pandas.core.frame.DataFrame'>\n",
      "RangeIndex: 112650 entries, 0 to 112649\n",
      "Data columns (total 7 columns):\n",
      " #   Column               Non-Null Count   Dtype  \n",
      "---  ------               --------------   -----  \n",
      " 0   order_id             112650 non-null  object \n",
      " 1   order_item_id        112650 non-null  int64  \n",
      " 2   product_id           112650 non-null  object \n",
      " 3   seller_id            112650 non-null  object \n",
      " 4   shipping_limit_date  112650 non-null  object \n",
      " 5   price                112650 non-null  float64\n",
      " 6   freight_value        112650 non-null  float64\n",
      "dtypes: float64(2), int64(1), object(4)\n",
      "memory usage: 6.0+ MB\n"
     ]
    }
   ],
   "source": [
    "order_items.info()"
   ],
   "metadata": {
    "collapsed": false,
    "ExecuteTime": {
     "end_time": "2023-12-23T14:32:05.762455Z",
     "start_time": "2023-12-23T14:32:05.740825Z"
    }
   }
  },
  {
   "cell_type": "code",
   "execution_count": 8,
   "outputs": [
    {
     "data": {
      "text/plain": "                          review_id                          order_id  \\\n0  7bc2406110b926393aa56f80a40eba40  73fc7af87114b39712e6da79b0a377eb   \n1  80e641a11e56f04c1ad469d5645fdfde  a548910a1c6147796b98fdf73dbeba33   \n2  228ce5500dc1d8e020d8d1322874b6f0  f9e4b658b201a9f2ecdecbb34bed034b   \n3  e64fb393e7b32834bb789ff8bb30750e  658677c97b385a9be170737859d3511b   \n4  f7c4243c7fe1938f181bec41a392bdeb  8e6bfb81e283fa7e4f11123a3fb894f1   \n\n   review_score review_comment_title  \\\n0             4                  NaN   \n1             5                  NaN   \n2             5                  NaN   \n3             5                  NaN   \n4             5                  NaN   \n\n                              review_comment_message review_creation_date  \\\n0                                                NaN  2018-01-18 00:00:00   \n1                                                NaN  2018-03-10 00:00:00   \n2                                                NaN  2018-02-17 00:00:00   \n3              Recebi bem antes do prazo estipulado.  2017-04-21 00:00:00   \n4  Parabéns lojas lannister adorei comprar pela I...  2018-03-01 00:00:00   \n\n  review_answer_timestamp  \n0     2018-01-18 21:46:59  \n1     2018-03-11 03:05:13  \n2     2018-02-18 14:36:24  \n3     2017-04-21 22:02:06  \n4     2018-03-02 10:26:53  ",
      "text/html": "<div>\n<style scoped>\n    .dataframe tbody tr th:only-of-type {\n        vertical-align: middle;\n    }\n\n    .dataframe tbody tr th {\n        vertical-align: top;\n    }\n\n    .dataframe thead th {\n        text-align: right;\n    }\n</style>\n<table border=\"1\" class=\"dataframe\">\n  <thead>\n    <tr style=\"text-align: right;\">\n      <th></th>\n      <th>review_id</th>\n      <th>order_id</th>\n      <th>review_score</th>\n      <th>review_comment_title</th>\n      <th>review_comment_message</th>\n      <th>review_creation_date</th>\n      <th>review_answer_timestamp</th>\n    </tr>\n  </thead>\n  <tbody>\n    <tr>\n      <th>0</th>\n      <td>7bc2406110b926393aa56f80a40eba40</td>\n      <td>73fc7af87114b39712e6da79b0a377eb</td>\n      <td>4</td>\n      <td>NaN</td>\n      <td>NaN</td>\n      <td>2018-01-18 00:00:00</td>\n      <td>2018-01-18 21:46:59</td>\n    </tr>\n    <tr>\n      <th>1</th>\n      <td>80e641a11e56f04c1ad469d5645fdfde</td>\n      <td>a548910a1c6147796b98fdf73dbeba33</td>\n      <td>5</td>\n      <td>NaN</td>\n      <td>NaN</td>\n      <td>2018-03-10 00:00:00</td>\n      <td>2018-03-11 03:05:13</td>\n    </tr>\n    <tr>\n      <th>2</th>\n      <td>228ce5500dc1d8e020d8d1322874b6f0</td>\n      <td>f9e4b658b201a9f2ecdecbb34bed034b</td>\n      <td>5</td>\n      <td>NaN</td>\n      <td>NaN</td>\n      <td>2018-02-17 00:00:00</td>\n      <td>2018-02-18 14:36:24</td>\n    </tr>\n    <tr>\n      <th>3</th>\n      <td>e64fb393e7b32834bb789ff8bb30750e</td>\n      <td>658677c97b385a9be170737859d3511b</td>\n      <td>5</td>\n      <td>NaN</td>\n      <td>Recebi bem antes do prazo estipulado.</td>\n      <td>2017-04-21 00:00:00</td>\n      <td>2017-04-21 22:02:06</td>\n    </tr>\n    <tr>\n      <th>4</th>\n      <td>f7c4243c7fe1938f181bec41a392bdeb</td>\n      <td>8e6bfb81e283fa7e4f11123a3fb894f1</td>\n      <td>5</td>\n      <td>NaN</td>\n      <td>Parabéns lojas lannister adorei comprar pela I...</td>\n      <td>2018-03-01 00:00:00</td>\n      <td>2018-03-02 10:26:53</td>\n    </tr>\n  </tbody>\n</table>\n</div>"
     },
     "execution_count": 8,
     "metadata": {},
     "output_type": "execute_result"
    }
   ],
   "source": [
    "order_reviews.head()"
   ],
   "metadata": {
    "collapsed": false,
    "ExecuteTime": {
     "end_time": "2023-12-23T14:32:06.227438Z",
     "start_time": "2023-12-23T14:32:06.222453Z"
    }
   }
  },
  {
   "cell_type": "code",
   "execution_count": 9,
   "outputs": [
    {
     "data": {
      "text/plain": "    product_category_name product_category_name_english\n0            beleza_saude                 health_beauty\n1  informatica_acessorios         computers_accessories\n2              automotivo                          auto\n3         cama_mesa_banho                bed_bath_table\n4        moveis_decoracao               furniture_decor",
      "text/html": "<div>\n<style scoped>\n    .dataframe tbody tr th:only-of-type {\n        vertical-align: middle;\n    }\n\n    .dataframe tbody tr th {\n        vertical-align: top;\n    }\n\n    .dataframe thead th {\n        text-align: right;\n    }\n</style>\n<table border=\"1\" class=\"dataframe\">\n  <thead>\n    <tr style=\"text-align: right;\">\n      <th></th>\n      <th>product_category_name</th>\n      <th>product_category_name_english</th>\n    </tr>\n  </thead>\n  <tbody>\n    <tr>\n      <th>0</th>\n      <td>beleza_saude</td>\n      <td>health_beauty</td>\n    </tr>\n    <tr>\n      <th>1</th>\n      <td>informatica_acessorios</td>\n      <td>computers_accessories</td>\n    </tr>\n    <tr>\n      <th>2</th>\n      <td>automotivo</td>\n      <td>auto</td>\n    </tr>\n    <tr>\n      <th>3</th>\n      <td>cama_mesa_banho</td>\n      <td>bed_bath_table</td>\n    </tr>\n    <tr>\n      <th>4</th>\n      <td>moveis_decoracao</td>\n      <td>furniture_decor</td>\n    </tr>\n  </tbody>\n</table>\n</div>"
     },
     "execution_count": 9,
     "metadata": {},
     "output_type": "execute_result"
    }
   ],
   "source": [
    "product_category.head()"
   ],
   "metadata": {
    "collapsed": false,
    "ExecuteTime": {
     "end_time": "2023-12-23T14:32:06.864761Z",
     "start_time": "2023-12-23T14:32:06.857285Z"
    }
   }
  },
  {
   "cell_type": "code",
   "execution_count": 10,
   "outputs": [
    {
     "data": {
      "text/plain": "                         product_id  product_category_name  \\\n0  1e9e8ef04dbcff4541ed26657ea517e5             perfumaria   \n1  3aa071139cb16b67ca9e5dea641aaa2f                  artes   \n2  96bd76ec8810374ed1b65e291975717f          esporte_lazer   \n3  cef67bcfe19066a932b7673e239eb23d                  bebes   \n4  9dc1a7de274444849c219cff195d0b71  utilidades_domesticas   \n\n   product_name_lenght  product_description_lenght  product_photos_qty  \\\n0                 40.0                       287.0                 1.0   \n1                 44.0                       276.0                 1.0   \n2                 46.0                       250.0                 1.0   \n3                 27.0                       261.0                 1.0   \n4                 37.0                       402.0                 4.0   \n\n   product_weight_g  product_length_cm  product_height_cm  product_width_cm  \n0             225.0               16.0               10.0              14.0  \n1            1000.0               30.0               18.0              20.0  \n2             154.0               18.0                9.0              15.0  \n3             371.0               26.0                4.0              26.0  \n4             625.0               20.0               17.0              13.0  ",
      "text/html": "<div>\n<style scoped>\n    .dataframe tbody tr th:only-of-type {\n        vertical-align: middle;\n    }\n\n    .dataframe tbody tr th {\n        vertical-align: top;\n    }\n\n    .dataframe thead th {\n        text-align: right;\n    }\n</style>\n<table border=\"1\" class=\"dataframe\">\n  <thead>\n    <tr style=\"text-align: right;\">\n      <th></th>\n      <th>product_id</th>\n      <th>product_category_name</th>\n      <th>product_name_lenght</th>\n      <th>product_description_lenght</th>\n      <th>product_photos_qty</th>\n      <th>product_weight_g</th>\n      <th>product_length_cm</th>\n      <th>product_height_cm</th>\n      <th>product_width_cm</th>\n    </tr>\n  </thead>\n  <tbody>\n    <tr>\n      <th>0</th>\n      <td>1e9e8ef04dbcff4541ed26657ea517e5</td>\n      <td>perfumaria</td>\n      <td>40.0</td>\n      <td>287.0</td>\n      <td>1.0</td>\n      <td>225.0</td>\n      <td>16.0</td>\n      <td>10.0</td>\n      <td>14.0</td>\n    </tr>\n    <tr>\n      <th>1</th>\n      <td>3aa071139cb16b67ca9e5dea641aaa2f</td>\n      <td>artes</td>\n      <td>44.0</td>\n      <td>276.0</td>\n      <td>1.0</td>\n      <td>1000.0</td>\n      <td>30.0</td>\n      <td>18.0</td>\n      <td>20.0</td>\n    </tr>\n    <tr>\n      <th>2</th>\n      <td>96bd76ec8810374ed1b65e291975717f</td>\n      <td>esporte_lazer</td>\n      <td>46.0</td>\n      <td>250.0</td>\n      <td>1.0</td>\n      <td>154.0</td>\n      <td>18.0</td>\n      <td>9.0</td>\n      <td>15.0</td>\n    </tr>\n    <tr>\n      <th>3</th>\n      <td>cef67bcfe19066a932b7673e239eb23d</td>\n      <td>bebes</td>\n      <td>27.0</td>\n      <td>261.0</td>\n      <td>1.0</td>\n      <td>371.0</td>\n      <td>26.0</td>\n      <td>4.0</td>\n      <td>26.0</td>\n    </tr>\n    <tr>\n      <th>4</th>\n      <td>9dc1a7de274444849c219cff195d0b71</td>\n      <td>utilidades_domesticas</td>\n      <td>37.0</td>\n      <td>402.0</td>\n      <td>4.0</td>\n      <td>625.0</td>\n      <td>20.0</td>\n      <td>17.0</td>\n      <td>13.0</td>\n    </tr>\n  </tbody>\n</table>\n</div>"
     },
     "execution_count": 10,
     "metadata": {},
     "output_type": "execute_result"
    }
   ],
   "source": [
    "products.head()"
   ],
   "metadata": {
    "collapsed": false,
    "ExecuteTime": {
     "end_time": "2023-12-23T14:32:07.460093Z",
     "start_time": "2023-12-23T14:32:07.427633Z"
    }
   }
  },
  {
   "cell_type": "code",
   "execution_count": 11,
   "outputs": [
    {
     "data": {
      "text/plain": "                           order_id                       customer_id  \\\n0  e481f51cbdc54678b7cc49136f2d6af7  9ef432eb6251297304e76186b10a928d   \n1  53cdb2fc8bc7dce0b6741e2150273451  b0830fb4747a6c6d20dea0b8c802d7ef   \n2  47770eb9100c2d0c44946d9cf07ec65d  41ce2a54c0b03bf3443c3d931a367089   \n3  949d5b44dbf5de918fe9c16f97b45f8a  f88197465ea7920adcdbec7375364d82   \n4  ad21c59c0840e6cb83a9ceb5573f8159  8ab97904e6daea8866dbdbc4fb7aad2c   \n\n  order_status order_purchase_timestamp    order_approved_at  \\\n0    delivered      2017-10-02 10:56:33  2017-10-02 11:07:15   \n1    delivered      2018-07-24 20:41:37  2018-07-26 03:24:27   \n2    delivered      2018-08-08 08:38:49  2018-08-08 08:55:23   \n3    delivered      2017-11-18 19:28:06  2017-11-18 19:45:59   \n4    delivered      2018-02-13 21:18:39  2018-02-13 22:20:29   \n\n  order_delivered_carrier_date order_delivered_customer_date  \\\n0          2017-10-04 19:55:00           2017-10-10 21:25:13   \n1          2018-07-26 14:31:00           2018-08-07 15:27:45   \n2          2018-08-08 13:50:00           2018-08-17 18:06:29   \n3          2017-11-22 13:39:59           2017-12-02 00:28:42   \n4          2018-02-14 19:46:34           2018-02-16 18:17:02   \n\n  order_estimated_delivery_date  \n0           2017-10-18 00:00:00  \n1           2018-08-13 00:00:00  \n2           2018-09-04 00:00:00  \n3           2017-12-15 00:00:00  \n4           2018-02-26 00:00:00  ",
      "text/html": "<div>\n<style scoped>\n    .dataframe tbody tr th:only-of-type {\n        vertical-align: middle;\n    }\n\n    .dataframe tbody tr th {\n        vertical-align: top;\n    }\n\n    .dataframe thead th {\n        text-align: right;\n    }\n</style>\n<table border=\"1\" class=\"dataframe\">\n  <thead>\n    <tr style=\"text-align: right;\">\n      <th></th>\n      <th>order_id</th>\n      <th>customer_id</th>\n      <th>order_status</th>\n      <th>order_purchase_timestamp</th>\n      <th>order_approved_at</th>\n      <th>order_delivered_carrier_date</th>\n      <th>order_delivered_customer_date</th>\n      <th>order_estimated_delivery_date</th>\n    </tr>\n  </thead>\n  <tbody>\n    <tr>\n      <th>0</th>\n      <td>e481f51cbdc54678b7cc49136f2d6af7</td>\n      <td>9ef432eb6251297304e76186b10a928d</td>\n      <td>delivered</td>\n      <td>2017-10-02 10:56:33</td>\n      <td>2017-10-02 11:07:15</td>\n      <td>2017-10-04 19:55:00</td>\n      <td>2017-10-10 21:25:13</td>\n      <td>2017-10-18 00:00:00</td>\n    </tr>\n    <tr>\n      <th>1</th>\n      <td>53cdb2fc8bc7dce0b6741e2150273451</td>\n      <td>b0830fb4747a6c6d20dea0b8c802d7ef</td>\n      <td>delivered</td>\n      <td>2018-07-24 20:41:37</td>\n      <td>2018-07-26 03:24:27</td>\n      <td>2018-07-26 14:31:00</td>\n      <td>2018-08-07 15:27:45</td>\n      <td>2018-08-13 00:00:00</td>\n    </tr>\n    <tr>\n      <th>2</th>\n      <td>47770eb9100c2d0c44946d9cf07ec65d</td>\n      <td>41ce2a54c0b03bf3443c3d931a367089</td>\n      <td>delivered</td>\n      <td>2018-08-08 08:38:49</td>\n      <td>2018-08-08 08:55:23</td>\n      <td>2018-08-08 13:50:00</td>\n      <td>2018-08-17 18:06:29</td>\n      <td>2018-09-04 00:00:00</td>\n    </tr>\n    <tr>\n      <th>3</th>\n      <td>949d5b44dbf5de918fe9c16f97b45f8a</td>\n      <td>f88197465ea7920adcdbec7375364d82</td>\n      <td>delivered</td>\n      <td>2017-11-18 19:28:06</td>\n      <td>2017-11-18 19:45:59</td>\n      <td>2017-11-22 13:39:59</td>\n      <td>2017-12-02 00:28:42</td>\n      <td>2017-12-15 00:00:00</td>\n    </tr>\n    <tr>\n      <th>4</th>\n      <td>ad21c59c0840e6cb83a9ceb5573f8159</td>\n      <td>8ab97904e6daea8866dbdbc4fb7aad2c</td>\n      <td>delivered</td>\n      <td>2018-02-13 21:18:39</td>\n      <td>2018-02-13 22:20:29</td>\n      <td>2018-02-14 19:46:34</td>\n      <td>2018-02-16 18:17:02</td>\n      <td>2018-02-26 00:00:00</td>\n    </tr>\n  </tbody>\n</table>\n</div>"
     },
     "execution_count": 11,
     "metadata": {},
     "output_type": "execute_result"
    }
   ],
   "source": [
    "order_dataset.head()"
   ],
   "metadata": {
    "collapsed": false,
    "ExecuteTime": {
     "end_time": "2023-12-23T14:32:07.853717Z",
     "start_time": "2023-12-23T14:32:07.823975Z"
    }
   }
  },
  {
   "cell_type": "code",
   "execution_count": 12,
   "outputs": [],
   "source": [
    "def missing_col(df):\n",
    "    missing_values = df.isnull().sum()\n",
    "    missing_values = missing_values.sort_values(ascending = False)\n",
    "\n",
    "    return missing_values\n",
    "\n",
    "def df_info_(df):\n",
    "    \"\"\"\n",
    "        Information about the DataFrame\n",
    "    \"\"\"\n",
    "\n",
    "    features_dtypes = df.dtypes\n",
    "    rows,columns = df.shape\n",
    "\n",
    "    missing_cols = missing_col(df)\n",
    "    features_names = missing_cols.index.values\n",
    "    missing_values = missing_cols.values\n",
    "\n",
    "    print('=' * 50)\n",
    "    print('===> This data frame contains {} rows and {} columns'.format(rows,columns))\n",
    "    print('=' * 50)\n",
    "\n",
    "    print(\"{:13}{:13}{:30}{:15}\".format('Feature Name'.upper(),\n",
    "                                        'Data Format'.upper(),\n",
    "                                        'Number of Missing Values'.upper(),\n",
    "                                        'The first few samples'.upper()))\n",
    "\n",
    "    for features_names, features_dtypes, missing_values in zip(features_names,features_dtypes[features_names],missing_values):\n",
    "        print('{:15} {:14} {:20}'.format(features_names, str(features_dtypes), str(missing_values) + '-' +\n",
    "                                         str(round(100*missing_values/sum(missing_cols),3))+' %'), end=\" \")\n",
    "\n",
    "        for i in range(5):\n",
    "            print(df[features_names].iloc[i], end=\",\")\n",
    "\n",
    "        print(\"=\"*50)"
   ],
   "metadata": {
    "collapsed": false,
    "ExecuteTime": {
     "end_time": "2023-12-23T14:32:08.366435Z",
     "start_time": "2023-12-23T14:32:08.362303Z"
    }
   }
  },
  {
   "cell_type": "code",
   "execution_count": 13,
   "outputs": [
    {
     "name": "stdout",
     "output_type": "stream",
     "text": [
      "==================================================\n",
      "===> This data frame contains 99441 rows and 5 columns\n",
      "==================================================\n",
      "FEATURE NAME DATA FORMAT  NUMBER OF MISSING VALUES      THE FIRST FEW SAMPLES\n",
      "customer_id     object         0-nan %              06b8999e2fba1a1fbc88172c00ba8bc7,18955e83d337fd6b2def6b18a428ac77,4e7b3e00288586ebd08712fdd0374a03,b2b6027bc5c5109e529d4dc6358b12c3,4f2d8ab171c80ec8364f7c12e35b23ad,==================================================\n",
      "customer_unique_id object         0-nan %              861eff4711a542e4b93843c6dd7febb0,290c77bc529b7ac935b93aa66c333dc3,060e732b5b29e8181a18229c7b0b2b5e,259dac757896d24d7702b9acbbff3f3c,345ecd01c38d18a9036ed96c73b8d066,==================================================\n",
      "customer_zip_code_prefix int64          0-nan %              14409,9790,1151,8775,13056,==================================================\n",
      "customer_city   object         0-nan %              franca,sao bernardo do campo,sao paulo,mogi das cruzes,campinas,==================================================\n",
      "customer_state  object         0-nan %              SP,SP,SP,SP,SP,==================================================\n"
     ]
    }
   ],
   "source": [
    "df_info_(customers)"
   ],
   "metadata": {
    "collapsed": false,
    "ExecuteTime": {
     "end_time": "2023-12-23T14:32:08.958999Z",
     "start_time": "2023-12-23T14:32:08.927634Z"
    }
   }
  },
  {
   "cell_type": "code",
   "execution_count": 14,
   "outputs": [
    {
     "name": "stdout",
     "output_type": "stream",
     "text": [
      "==================================================\n",
      "===> This data frame contains 32951 rows and 9 columns\n",
      "==================================================\n",
      "FEATURE NAME DATA FORMAT  NUMBER OF MISSING VALUES      THE FIRST FEW SAMPLES\n",
      "product_category_name object         610-24.918 %         perfumaria,artes,esporte_lazer,bebes,utilidades_domesticas,==================================================\n",
      "product_name_lenght float64        610-24.918 %         40.0,44.0,46.0,27.0,37.0,==================================================\n",
      "product_description_lenght float64        610-24.918 %         287.0,276.0,250.0,261.0,402.0,==================================================\n",
      "product_photos_qty float64        610-24.918 %         1.0,1.0,1.0,1.0,4.0,==================================================\n",
      "product_weight_g float64        2-0.082 %            225.0,1000.0,154.0,371.0,625.0,==================================================\n",
      "product_length_cm float64        2-0.082 %            16.0,30.0,18.0,26.0,20.0,==================================================\n",
      "product_height_cm float64        2-0.082 %            10.0,18.0,9.0,4.0,17.0,==================================================\n",
      "product_width_cm float64        2-0.082 %            14.0,20.0,15.0,26.0,13.0,==================================================\n",
      "product_id      object         0-0.0 %              1e9e8ef04dbcff4541ed26657ea517e5,3aa071139cb16b67ca9e5dea641aaa2f,96bd76ec8810374ed1b65e291975717f,cef67bcfe19066a932b7673e239eb23d,9dc1a7de274444849c219cff195d0b71,==================================================\n"
     ]
    }
   ],
   "source": [
    "df_info_(products)"
   ],
   "metadata": {
    "collapsed": false,
    "ExecuteTime": {
     "end_time": "2023-12-23T14:32:09.424248Z",
     "start_time": "2023-12-23T14:32:09.407072Z"
    }
   }
  },
  {
   "cell_type": "code",
   "execution_count": 15,
   "outputs": [
    {
     "name": "stdout",
     "output_type": "stream",
     "text": [
      "==================================================\n",
      "===> This data frame contains 3095 rows and 4 columns\n",
      "==================================================\n",
      "FEATURE NAME DATA FORMAT  NUMBER OF MISSING VALUES      THE FIRST FEW SAMPLES\n",
      "seller_id       object         0-nan %              3442f8959a84dea7ee197c632cb2df15,d1b65fc7debc3361ea86b5f14c68d2e2,ce3ad9de960102d0677a81f5d0bb7b2d,c0f3eea2e14555b6faeea3dd58c1b1c3,51a04a8a6bdcb23deccc82b0b80742cf,==================================================\n",
      "seller_zip_code_prefix int64          0-nan %              13023,13844,20031,4195,12914,==================================================\n",
      "seller_city     object         0-nan %              campinas,mogi guacu,rio de janeiro,sao paulo,braganca paulista,==================================================\n",
      "seller_state    object         0-nan %              SP,SP,RJ,SP,SP,==================================================\n"
     ]
    }
   ],
   "source": [
    "df_info_(sellers)"
   ],
   "metadata": {
    "collapsed": false,
    "ExecuteTime": {
     "end_time": "2023-12-23T14:32:09.905978Z",
     "start_time": "2023-12-23T14:32:09.900297Z"
    }
   }
  },
  {
   "cell_type": "code",
   "execution_count": 16,
   "outputs": [
    {
     "name": "stdout",
     "output_type": "stream",
     "text": [
      "==================================================\n",
      "===> This data frame contains 99441 rows and 8 columns\n",
      "==================================================\n",
      "FEATURE NAME DATA FORMAT  NUMBER OF MISSING VALUES      THE FIRST FEW SAMPLES\n",
      "order_delivered_customer_date object         2965-60.412 %        2017-10-10 21:25:13,2018-08-07 15:27:45,2018-08-17 18:06:29,2017-12-02 00:28:42,2018-02-16 18:17:02,==================================================\n",
      "order_delivered_carrier_date object         1783-36.328 %        2017-10-04 19:55:00,2018-07-26 14:31:00,2018-08-08 13:50:00,2017-11-22 13:39:59,2018-02-14 19:46:34,==================================================\n",
      "order_approved_at object         160-3.26 %           2017-10-02 11:07:15,2018-07-26 03:24:27,2018-08-08 08:55:23,2017-11-18 19:45:59,2018-02-13 22:20:29,==================================================\n",
      "order_id        object         0-0.0 %              e481f51cbdc54678b7cc49136f2d6af7,53cdb2fc8bc7dce0b6741e2150273451,47770eb9100c2d0c44946d9cf07ec65d,949d5b44dbf5de918fe9c16f97b45f8a,ad21c59c0840e6cb83a9ceb5573f8159,==================================================\n",
      "customer_id     object         0-0.0 %              9ef432eb6251297304e76186b10a928d,b0830fb4747a6c6d20dea0b8c802d7ef,41ce2a54c0b03bf3443c3d931a367089,f88197465ea7920adcdbec7375364d82,8ab97904e6daea8866dbdbc4fb7aad2c,==================================================\n",
      "order_status    object         0-0.0 %              delivered,delivered,delivered,delivered,delivered,==================================================\n",
      "order_purchase_timestamp object         0-0.0 %              2017-10-02 10:56:33,2018-07-24 20:41:37,2018-08-08 08:38:49,2017-11-18 19:28:06,2018-02-13 21:18:39,==================================================\n",
      "order_estimated_delivery_date object         0-0.0 %              2017-10-18 00:00:00,2018-08-13 00:00:00,2018-09-04 00:00:00,2017-12-15 00:00:00,2018-02-26 00:00:00,==================================================\n"
     ]
    }
   ],
   "source": [
    "df_info_(order_dataset)"
   ],
   "metadata": {
    "collapsed": false,
    "ExecuteTime": {
     "end_time": "2023-12-23T14:32:10.447045Z",
     "start_time": "2023-12-23T14:32:10.439767Z"
    }
   }
  },
  {
   "cell_type": "markdown",
   "source": [
    "# Data Processing"
   ],
   "metadata": {
    "collapsed": false
   }
  },
  {
   "cell_type": "raw",
   "source": [
    "Attention\n",
    "\n",
    "An order might have multiple items.\n",
    "Each item might be fulfilled by a distinct seller.\n",
    "All text identifying stores and partners where replaced by the names of Game of Thrones great houses."
   ],
   "metadata": {
    "collapsed": false
   }
  },
  {
   "cell_type": "code",
   "execution_count": 17,
   "outputs": [
    {
     "name": "stdout",
     "output_type": "stream",
     "text": [
      "(117329, 35)\n"
     ]
    }
   ],
   "source": [
    "# Data Merge by relationship chart\n",
    "orders = order_dataset.merge(order_items, on = 'order_id', how = 'left')  # 1 to many relationship because 1 order might have multiple items.\n",
    "orders = orders.merge(order_payment, how = 'inner', on = 'order_id')\n",
    "orders = orders.merge(order_reviews, how = 'inner', on = 'order_id')\n",
    "orders = orders.merge(products, how = 'inner', on = 'product_id')\n",
    "orders = orders.merge(sellers, how = 'inner', on = 'seller_id')\n",
    "\n",
    "print(orders.shape)"
   ],
   "metadata": {
    "collapsed": false,
    "ExecuteTime": {
     "end_time": "2023-12-23T14:32:16.318195Z",
     "start_time": "2023-12-23T14:32:15.938923Z"
    }
   }
  },
  {
   "cell_type": "code",
   "execution_count": 18,
   "outputs": [],
   "source": [
    "# adjust column _date from object to datetime\n",
    "cols = ['order_delivered_carrier_date','order_delivered_customer_date','order_estimated_delivery_date','shipping_limit_date','review_creation_date']\n",
    "for col in cols:\n",
    "    orders[col] = pd.to_datetime(orders[col])"
   ],
   "metadata": {
    "collapsed": false,
    "ExecuteTime": {
     "end_time": "2023-12-23T14:32:19.509264Z",
     "start_time": "2023-12-23T14:32:19.375253Z"
    }
   }
  },
  {
   "cell_type": "code",
   "execution_count": 19,
   "outputs": [
    {
     "name": "stdout",
     "output_type": "stream",
     "text": [
      "<class 'pandas.core.frame.DataFrame'>\n",
      "Int64Index: 117329 entries, 0 to 117328\n",
      "Data columns (total 35 columns):\n",
      " #   Column                         Non-Null Count   Dtype         \n",
      "---  ------                         --------------   -----         \n",
      " 0   order_id                       117329 non-null  object        \n",
      " 1   customer_id                    117329 non-null  object        \n",
      " 2   order_status                   117329 non-null  object        \n",
      " 3   order_purchase_timestamp       117329 non-null  object        \n",
      " 4   order_approved_at              117314 non-null  object        \n",
      " 5   order_delivered_carrier_date   116094 non-null  datetime64[ns]\n",
      " 6   order_delivered_customer_date  114858 non-null  datetime64[ns]\n",
      " 7   order_estimated_delivery_date  117329 non-null  datetime64[ns]\n",
      " 8   order_item_id                  117329 non-null  float64       \n",
      " 9   product_id                     117329 non-null  object        \n",
      " 10  seller_id                      117329 non-null  object        \n",
      " 11  shipping_limit_date            117329 non-null  datetime64[ns]\n",
      " 12  price                          117329 non-null  float64       \n",
      " 13  freight_value                  117329 non-null  float64       \n",
      " 14  payment_sequential             117329 non-null  int64         \n",
      " 15  payment_type                   117329 non-null  object        \n",
      " 16  payment_installments           117329 non-null  int64         \n",
      " 17  payment_value                  117329 non-null  float64       \n",
      " 18  review_id                      117329 non-null  object        \n",
      " 19  review_score                   117329 non-null  int64         \n",
      " 20  review_comment_title           13892 non-null   object        \n",
      " 21  review_comment_message         49679 non-null   object        \n",
      " 22  review_creation_date           117329 non-null  datetime64[ns]\n",
      " 23  review_answer_timestamp        117329 non-null  object        \n",
      " 24  product_category_name          115634 non-null  object        \n",
      " 25  product_name_lenght            115634 non-null  float64       \n",
      " 26  product_description_lenght     115634 non-null  float64       \n",
      " 27  product_photos_qty             115634 non-null  float64       \n",
      " 28  product_weight_g               117309 non-null  float64       \n",
      " 29  product_length_cm              117309 non-null  float64       \n",
      " 30  product_height_cm              117309 non-null  float64       \n",
      " 31  product_width_cm               117309 non-null  float64       \n",
      " 32  seller_zip_code_prefix         117329 non-null  int64         \n",
      " 33  seller_city                    117329 non-null  object        \n",
      " 34  seller_state                   117329 non-null  object        \n",
      "dtypes: datetime64[ns](5), float64(11), int64(4), object(15)\n",
      "memory usage: 32.2+ MB\n"
     ]
    }
   ],
   "source": [
    "orders.info()"
   ],
   "metadata": {
    "collapsed": false,
    "ExecuteTime": {
     "end_time": "2023-12-23T14:32:23.002805Z",
     "start_time": "2023-12-23T14:32:22.946880Z"
    }
   }
  },
  {
   "cell_type": "code",
   "execution_count": 20,
   "outputs": [
    {
     "name": "stdout",
     "output_type": "stream",
     "text": [
      "(18151799, 43)\n"
     ]
    }
   ],
   "source": [
    "# rename geolocation column geolocation_zip_code - > customer_zip_code\n",
    "temp = geolocation.copy(deep = True)\n",
    "temp.rename(columns = {'geolocation_zip_code_prefix':'customer_zip_code_prefix'},inplace = True)\n",
    "customers_loc = customers.merge(temp, how ='inner', on = 'customer_zip_code_prefix')\n",
    "customers_order = customers_loc.merge(orders, how = 'left', on = 'customer_id')\n",
    "del temp\n",
    "print(customers_order.shape)"
   ],
   "metadata": {
    "collapsed": false,
    "ExecuteTime": {
     "end_time": "2023-12-23T14:33:01.020587Z",
     "start_time": "2023-12-23T14:32:23.537831Z"
    }
   }
  },
  {
   "cell_type": "code",
   "execution_count": 21,
   "outputs": [
    {
     "ename": "KeyError",
     "evalue": "\"['product_photos_qty' 'product_weight_g' 'product_length_cm'\\n 'product_height_cm' 'product_width_cm' 'order_item_id' 'product_id'\\n 'seller_id' 'review_id'] not found in axis\"",
     "output_type": "error",
     "traceback": [
      "\u001B[0;31m---------------------------------------------------------------------------\u001B[0m",
      "\u001B[0;31mKeyError\u001B[0m                                  Traceback (most recent call last)",
      "\u001B[0;32m/var/folders/c3/z8gl7_754n15kcrx5rz7k0840000gn/T/ipykernel_62832/3851836337.py\u001B[0m in \u001B[0;36m<module>\u001B[0;34m\u001B[0m\n\u001B[1;32m      3\u001B[0m              \u001B[0;34m'product_length_cm'\u001B[0m\u001B[0;34m,\u001B[0m \u001B[0;34m'product_height_cm'\u001B[0m\u001B[0;34m,\u001B[0m \u001B[0;34m'product_width_cm'\u001B[0m\u001B[0;34m,\u001B[0m\u001B[0;34m\u001B[0m\u001B[0;34m\u001B[0m\u001B[0m\n\u001B[1;32m      4\u001B[0m              'order_item_id','product_id','seller_id','review_id']\n\u001B[0;32m----> 5\u001B[0;31m \u001B[0mcustomers_order\u001B[0m\u001B[0;34m.\u001B[0m\u001B[0mdrop\u001B[0m\u001B[0;34m(\u001B[0m\u001B[0mcols_drop\u001B[0m\u001B[0;34m,\u001B[0m\u001B[0minplace\u001B[0m \u001B[0;34m=\u001B[0m \u001B[0;32mTrue\u001B[0m\u001B[0;34m)\u001B[0m\u001B[0;34m\u001B[0m\u001B[0;34m\u001B[0m\u001B[0m\n\u001B[0m\u001B[1;32m      6\u001B[0m \u001B[0mprint\u001B[0m\u001B[0;34m(\u001B[0m\u001B[0mcustomers_order\u001B[0m\u001B[0;34m.\u001B[0m\u001B[0mshape\u001B[0m\u001B[0;34m)\u001B[0m\u001B[0;34m\u001B[0m\u001B[0;34m\u001B[0m\u001B[0m\n",
      "\u001B[0;32m~/.conda/envs/untitled/lib/python3.8/site-packages/pandas/util/_decorators.py\u001B[0m in \u001B[0;36mwrapper\u001B[0;34m(*args, **kwargs)\u001B[0m\n\u001B[1;32m    309\u001B[0m                     \u001B[0mstacklevel\u001B[0m\u001B[0;34m=\u001B[0m\u001B[0mstacklevel\u001B[0m\u001B[0;34m,\u001B[0m\u001B[0;34m\u001B[0m\u001B[0;34m\u001B[0m\u001B[0m\n\u001B[1;32m    310\u001B[0m                 )\n\u001B[0;32m--> 311\u001B[0;31m             \u001B[0;32mreturn\u001B[0m \u001B[0mfunc\u001B[0m\u001B[0;34m(\u001B[0m\u001B[0;34m*\u001B[0m\u001B[0margs\u001B[0m\u001B[0;34m,\u001B[0m \u001B[0;34m**\u001B[0m\u001B[0mkwargs\u001B[0m\u001B[0;34m)\u001B[0m\u001B[0;34m\u001B[0m\u001B[0;34m\u001B[0m\u001B[0m\n\u001B[0m\u001B[1;32m    312\u001B[0m \u001B[0;34m\u001B[0m\u001B[0m\n\u001B[1;32m    313\u001B[0m         \u001B[0;32mreturn\u001B[0m \u001B[0mwrapper\u001B[0m\u001B[0;34m\u001B[0m\u001B[0;34m\u001B[0m\u001B[0m\n",
      "\u001B[0;32m~/.conda/envs/untitled/lib/python3.8/site-packages/pandas/core/frame.py\u001B[0m in \u001B[0;36mdrop\u001B[0;34m(self, labels, axis, index, columns, level, inplace, errors)\u001B[0m\n\u001B[1;32m   4904\u001B[0m                 \u001B[0mweight\u001B[0m  \u001B[0;36m1.0\u001B[0m     \u001B[0;36m0.8\u001B[0m\u001B[0;34m\u001B[0m\u001B[0;34m\u001B[0m\u001B[0m\n\u001B[1;32m   4905\u001B[0m         \"\"\"\n\u001B[0;32m-> 4906\u001B[0;31m         return super().drop(\n\u001B[0m\u001B[1;32m   4907\u001B[0m             \u001B[0mlabels\u001B[0m\u001B[0;34m=\u001B[0m\u001B[0mlabels\u001B[0m\u001B[0;34m,\u001B[0m\u001B[0;34m\u001B[0m\u001B[0;34m\u001B[0m\u001B[0m\n\u001B[1;32m   4908\u001B[0m             \u001B[0maxis\u001B[0m\u001B[0;34m=\u001B[0m\u001B[0maxis\u001B[0m\u001B[0;34m,\u001B[0m\u001B[0;34m\u001B[0m\u001B[0;34m\u001B[0m\u001B[0m\n",
      "\u001B[0;32m~/.conda/envs/untitled/lib/python3.8/site-packages/pandas/core/generic.py\u001B[0m in \u001B[0;36mdrop\u001B[0;34m(self, labels, axis, index, columns, level, inplace, errors)\u001B[0m\n\u001B[1;32m   4148\u001B[0m         \u001B[0;32mfor\u001B[0m \u001B[0maxis\u001B[0m\u001B[0;34m,\u001B[0m \u001B[0mlabels\u001B[0m \u001B[0;32min\u001B[0m \u001B[0maxes\u001B[0m\u001B[0;34m.\u001B[0m\u001B[0mitems\u001B[0m\u001B[0;34m(\u001B[0m\u001B[0;34m)\u001B[0m\u001B[0;34m:\u001B[0m\u001B[0;34m\u001B[0m\u001B[0;34m\u001B[0m\u001B[0m\n\u001B[1;32m   4149\u001B[0m             \u001B[0;32mif\u001B[0m \u001B[0mlabels\u001B[0m \u001B[0;32mis\u001B[0m \u001B[0;32mnot\u001B[0m \u001B[0;32mNone\u001B[0m\u001B[0;34m:\u001B[0m\u001B[0;34m\u001B[0m\u001B[0;34m\u001B[0m\u001B[0m\n\u001B[0;32m-> 4150\u001B[0;31m                 \u001B[0mobj\u001B[0m \u001B[0;34m=\u001B[0m \u001B[0mobj\u001B[0m\u001B[0;34m.\u001B[0m\u001B[0m_drop_axis\u001B[0m\u001B[0;34m(\u001B[0m\u001B[0mlabels\u001B[0m\u001B[0;34m,\u001B[0m \u001B[0maxis\u001B[0m\u001B[0;34m,\u001B[0m \u001B[0mlevel\u001B[0m\u001B[0;34m=\u001B[0m\u001B[0mlevel\u001B[0m\u001B[0;34m,\u001B[0m \u001B[0merrors\u001B[0m\u001B[0;34m=\u001B[0m\u001B[0merrors\u001B[0m\u001B[0;34m)\u001B[0m\u001B[0;34m\u001B[0m\u001B[0;34m\u001B[0m\u001B[0m\n\u001B[0m\u001B[1;32m   4151\u001B[0m \u001B[0;34m\u001B[0m\u001B[0m\n\u001B[1;32m   4152\u001B[0m         \u001B[0;32mif\u001B[0m \u001B[0minplace\u001B[0m\u001B[0;34m:\u001B[0m\u001B[0;34m\u001B[0m\u001B[0;34m\u001B[0m\u001B[0m\n",
      "\u001B[0;32m~/.conda/envs/untitled/lib/python3.8/site-packages/pandas/core/generic.py\u001B[0m in \u001B[0;36m_drop_axis\u001B[0;34m(self, labels, axis, level, errors)\u001B[0m\n\u001B[1;32m   4183\u001B[0m                 \u001B[0mnew_axis\u001B[0m \u001B[0;34m=\u001B[0m \u001B[0maxis\u001B[0m\u001B[0;34m.\u001B[0m\u001B[0mdrop\u001B[0m\u001B[0;34m(\u001B[0m\u001B[0mlabels\u001B[0m\u001B[0;34m,\u001B[0m \u001B[0mlevel\u001B[0m\u001B[0;34m=\u001B[0m\u001B[0mlevel\u001B[0m\u001B[0;34m,\u001B[0m \u001B[0merrors\u001B[0m\u001B[0;34m=\u001B[0m\u001B[0merrors\u001B[0m\u001B[0;34m)\u001B[0m\u001B[0;34m\u001B[0m\u001B[0;34m\u001B[0m\u001B[0m\n\u001B[1;32m   4184\u001B[0m             \u001B[0;32melse\u001B[0m\u001B[0;34m:\u001B[0m\u001B[0;34m\u001B[0m\u001B[0;34m\u001B[0m\u001B[0m\n\u001B[0;32m-> 4185\u001B[0;31m                 \u001B[0mnew_axis\u001B[0m \u001B[0;34m=\u001B[0m \u001B[0maxis\u001B[0m\u001B[0;34m.\u001B[0m\u001B[0mdrop\u001B[0m\u001B[0;34m(\u001B[0m\u001B[0mlabels\u001B[0m\u001B[0;34m,\u001B[0m \u001B[0merrors\u001B[0m\u001B[0;34m=\u001B[0m\u001B[0merrors\u001B[0m\u001B[0;34m)\u001B[0m\u001B[0;34m\u001B[0m\u001B[0;34m\u001B[0m\u001B[0m\n\u001B[0m\u001B[1;32m   4186\u001B[0m             \u001B[0mresult\u001B[0m \u001B[0;34m=\u001B[0m \u001B[0mself\u001B[0m\u001B[0;34m.\u001B[0m\u001B[0mreindex\u001B[0m\u001B[0;34m(\u001B[0m\u001B[0;34m**\u001B[0m\u001B[0;34m{\u001B[0m\u001B[0maxis_name\u001B[0m\u001B[0;34m:\u001B[0m \u001B[0mnew_axis\u001B[0m\u001B[0;34m}\u001B[0m\u001B[0;34m)\u001B[0m\u001B[0;34m\u001B[0m\u001B[0;34m\u001B[0m\u001B[0m\n\u001B[1;32m   4187\u001B[0m \u001B[0;34m\u001B[0m\u001B[0m\n",
      "\u001B[0;32m~/.conda/envs/untitled/lib/python3.8/site-packages/pandas/core/indexes/base.py\u001B[0m in \u001B[0;36mdrop\u001B[0;34m(self, labels, errors)\u001B[0m\n\u001B[1;32m   6015\u001B[0m         \u001B[0;32mif\u001B[0m \u001B[0mmask\u001B[0m\u001B[0;34m.\u001B[0m\u001B[0many\u001B[0m\u001B[0;34m(\u001B[0m\u001B[0;34m)\u001B[0m\u001B[0;34m:\u001B[0m\u001B[0;34m\u001B[0m\u001B[0;34m\u001B[0m\u001B[0m\n\u001B[1;32m   6016\u001B[0m             \u001B[0;32mif\u001B[0m \u001B[0merrors\u001B[0m \u001B[0;34m!=\u001B[0m \u001B[0;34m\"ignore\"\u001B[0m\u001B[0;34m:\u001B[0m\u001B[0;34m\u001B[0m\u001B[0;34m\u001B[0m\u001B[0m\n\u001B[0;32m-> 6017\u001B[0;31m                 \u001B[0;32mraise\u001B[0m \u001B[0mKeyError\u001B[0m\u001B[0;34m(\u001B[0m\u001B[0;34mf\"{labels[mask]} not found in axis\"\u001B[0m\u001B[0;34m)\u001B[0m\u001B[0;34m\u001B[0m\u001B[0;34m\u001B[0m\u001B[0m\n\u001B[0m\u001B[1;32m   6018\u001B[0m             \u001B[0mindexer\u001B[0m \u001B[0;34m=\u001B[0m \u001B[0mindexer\u001B[0m\u001B[0;34m[\u001B[0m\u001B[0;34m~\u001B[0m\u001B[0mmask\u001B[0m\u001B[0;34m]\u001B[0m\u001B[0;34m\u001B[0m\u001B[0;34m\u001B[0m\u001B[0m\n\u001B[1;32m   6019\u001B[0m         \u001B[0;32mreturn\u001B[0m \u001B[0mself\u001B[0m\u001B[0;34m.\u001B[0m\u001B[0mdelete\u001B[0m\u001B[0;34m(\u001B[0m\u001B[0mindexer\u001B[0m\u001B[0;34m)\u001B[0m\u001B[0;34m\u001B[0m\u001B[0;34m\u001B[0m\u001B[0m\n",
      "\u001B[0;31mKeyError\u001B[0m: \"['product_photos_qty' 'product_weight_g' 'product_length_cm'\\n 'product_height_cm' 'product_width_cm' 'order_item_id' 'product_id'\\n 'seller_id' 'review_id'] not found in axis\""
     ]
    }
   ],
   "source": [
    "# columns to drop\n",
    "cols_drop = ['product_photos_qty', 'product_weight_g',\n",
    "             'product_length_cm', 'product_height_cm', 'product_width_cm',\n",
    "             'order_item_id','product_id','seller_id','review_id']\n",
    "# drop the column if exists in df\n",
    "customers_order = customers_order.drop([x for x in cols_drop if x in customers_order.columns], axis=1)\n",
    "\n",
    "print(customers_order.shape)"
   ],
   "metadata": {
    "collapsed": false,
    "ExecuteTime": {
     "end_time": "2023-12-23T14:33:03.550187Z",
     "start_time": "2023-12-23T14:33:01.025595Z"
    }
   }
  },
  {
   "cell_type": "markdown",
   "source": [
    "# Data Visualisation"
   ],
   "metadata": {
    "collapsed": false
   }
  },
  {
   "cell_type": "code",
   "execution_count": 25,
   "outputs": [
    {
     "data": {
      "text/plain": "<Figure size 720x576 with 2 Axes>",
      "image/png": "[encoded data removed]"
     },
     "metadata": {},
     "output_type": "display_data"
    }
   ],
   "source": [
    "# order_payment values\n",
    "payments = order_payment.groupby(['payment_type'])['payment_value'].agg(['count','sum']).reset_index()\n",
    "\n",
    "fig, (ax1, ax2) = plt.subplots(nrows=1, ncols = 2,figsize=(10,8))\n",
    "fig.suptitle('Payment Type Count & Sum')\n",
    "\n",
    "ax1.pie(payments['count'], labels=payments['payment_type'], autopct='%1.2f%%', startangle=90, colors=sns.color_palette('Set2'),labeldistance=0.5, pctdistance=0.6)\n",
    "ax1.set_title('Payment Type Count')\n",
    "ax2.pie(payments['sum'], labels=payments['payment_type'], autopct='%1.2f%%', startangle=90, colors=sns.color_palette('Set1'),labeldistance=0.5, pctdistance=0.6)\n",
    "ax2.set_title('Payment Type Sum')\n",
    "plt.tight_layout()\n",
    "plt.show()\n"
   ],
   "metadata": {
    "collapsed": false,
    "ExecuteTime": {
     "end_time": "2023-12-23T14:36:01.292497Z",
     "start_time": "2023-12-23T14:36:01.085374Z"
    }
   }
  },
  {
   "cell_type": "code",
   "execution_count": 44,
   "outputs": [],
   "source": [
    "def bar_plot(df,col):\n",
    "    # plot data in stack manner of bar type\n",
    "    \n",
    "    fig, ax = plt.subplots(figsize = (10,10))\n",
    "    color = (0.2, # redness\n",
    "             0.4, # greenness\n",
    "             0.2, # blueness\n",
    "             0.6 # transparency\n",
    "             )\n",
    "\n",
    "    ax.bar(\n",
    "        x = df.index,\n",
    "        height=df[col],\n",
    "        tick_label=df.index,\n",
    "        color = color\n",
    "    )\n",
    "    \n",
    "    # First, let's remove the top, right and left spines (figure borders)\n",
    "    # which really aren't necessary for a bar chart.\n",
    "    # Also, make the bottom spine gray instead of black.\n",
    "    ax.spines['top'].set_visible(False)\n",
    "    ax.spines['right'].set_visible(False)\n",
    "    ax.spines['left'].set_visible(False)\n",
    "    ax.spines['bottom'].set_color('#DDDDDD')\n",
    "    \n",
    "    # Second, remove the ticks as well.\n",
    "    ax.tick_params(bottom=False, left=False)\n",
    "    \n",
    "    # Third, add a horizontal grid (but keep the vertical grid hidden).\n",
    "    # Color the lines a light gray as well.\n",
    "    ax.set_axisbelow(True)\n",
    "    ax.yaxis.grid(True, color='#EEEEEE')\n",
    "    ax.xaxis.grid(False)\n",
    "    \n",
    "    plt.show()\n",
    "        "
   ],
   "metadata": {
    "collapsed": false,
    "ExecuteTime": {
     "end_time": "2023-12-23T15:02:31.578799Z",
     "start_time": "2023-12-23T15:02:31.575039Z"
    }
   }
  },
  {
   "cell_type": "code",
   "execution_count": 45,
   "outputs": [
    {
     "data": {
      "text/plain": "<Figure size 720x720 with 1 Axes>",
      "image/png": "[encoded data removed]"
     },
     "metadata": {},
     "output_type": "display_data"
    }
   ],
   "source": [
    "# payments per city\n",
    "payments_geo = pd.pivot_table(customers_order, values = 'payment_value', index = ['customer_state'], columns = 'payment_type', aggfunc= 'sum')\n",
    "payments_geo.fillna(0,inplace = True)\n",
    "payments_geo['total'] = payments_geo['boleto'] + payments_geo['credit_card']+payments_geo['debit_card']+payments_geo['voucher']\n",
    "payments_geo = payments_geo.sort_values(by = 'total', ascending= False)\n",
    "# plot data in stack manner of bar type\n",
    "\n",
    "bar_plot(payments_geo,'total')\n"
   ],
   "metadata": {
    "collapsed": false,
    "ExecuteTime": {
     "end_time": "2023-12-23T15:02:42.248168Z",
     "start_time": "2023-12-23T15:02:40.547019Z"
    }
   }
  },
  {
   "cell_type": "raw",
   "source": [
    "Top 10 States: SP, RJ, MG, RS, PR, SC,BA, ES, MT, GO."
   ],
   "metadata": {
    "collapsed": false
   },
   "outputs": []
  },
  {
   "cell_type": "code",
   "execution_count": 41,
   "outputs": [
    {
     "data": {
      "text/plain": "        product_category_name                        product_id  count\n23274        moveis_decoracao  aca2eb7d00ea1a7b8ebd4e68314663af  86104\n18003      ferramentas_jardim  422879e10f46682990de24d770e7f83d  80749\n9029          cama_mesa_banho  99a4788cb24856965c36a24e339b6058  78076\n17972      ferramentas_jardim  389d119b48cf3043d311335e499d9c6b  59887\n19957  informatica_acessorios  d1c427060a0f73f6b889a5c7c61f2ac4  58375\n17960      ferramentas_jardim  368c6c730842d78016ad823897a372db  58076\n18065      ferramentas_jardim  53759a2ecddad2bb87a079a1f1519f73  52252\n27600      relogios_presentes  53b36df67ebb7c41585e8d54d6772e08  51470\n3571             beleza_saude  154e7e31ebfa092203795c972e5804a6  42606\n19038  informatica_acessorios  3dd2a17168ec895c781a9191c1e95ad7  40600\n20099  informatica_acessorios  e53e557d5a159f5aa2c5e995dfdf244b  38700\n3771             beleza_saude  2b4609f8948be18874494203496bc318  36179\n10221           casa_conforto  35afc973633aaeb6b877ff57b2793310  31206\n28334      relogios_presentes  e0d64dcfaa3b6db5c54ca298ae101d05  30829\n30408   utilidades_domesticas  42a2c92a0979a949ca4ea89ec5c7b934  30053\n28020      relogios_presentes  a62e25e09e05e6faf31d90c6ec1aa3d1  28845\n4536             beleza_saude  7c1bd920dbdf22470b68bde975dd3ccf  28658\n18372      ferramentas_jardim  c4baedd846ed09b85f78a781b522f126  28166\n23365        moveis_decoracao  b532349fe46b38fbc7bb3914c1bdae07  26872\n18991  informatica_acessorios  36f60d45225e60c7da4558b070ce4b60  25514",
      "text/html": "<div>\n<style scoped>\n    .dataframe tbody tr th:only-of-type {\n        vertical-align: middle;\n    }\n\n    .dataframe tbody tr th {\n        vertical-align: top;\n    }\n\n    .dataframe thead th {\n        text-align: right;\n    }\n</style>\n<table border=\"1\" class=\"dataframe\">\n  <thead>\n    <tr style=\"text-align: right;\">\n      <th></th>\n      <th>product_category_name</th>\n      <th>product_id</th>\n      <th>count</th>\n    </tr>\n  </thead>\n  <tbody>\n    <tr>\n      <th>23274</th>\n      <td>moveis_decoracao</td>\n      <td>aca2eb7d00ea1a7b8ebd4e68314663af</td>\n      <td>86104</td>\n    </tr>\n    <tr>\n      <th>18003</th>\n      <td>ferramentas_jardim</td>\n      <td>422879e10f46682990de24d770e7f83d</td>\n      <td>80749</td>\n    </tr>\n    <tr>\n      <th>9029</th>\n      <td>cama_mesa_banho</td>\n      <td>99a4788cb24856965c36a24e339b6058</td>\n      <td>78076</td>\n    </tr>\n    <tr>\n      <th>17972</th>\n      <td>ferramentas_jardim</td>\n      <td>389d119b48cf3043d311335e499d9c6b</td>\n      <td>59887</td>\n    </tr>\n    <tr>\n      <th>19957</th>\n      <td>informatica_acessorios</td>\n      <td>d1c427060a0f73f6b889a5c7c61f2ac4</td>\n      <td>58375</td>\n    </tr>\n    <tr>\n      <th>17960</th>\n      <td>ferramentas_jardim</td>\n      <td>368c6c730842d78016ad823897a372db</td>\n      <td>58076</td>\n    </tr>\n    <tr>\n      <th>18065</th>\n      <td>ferramentas_jardim</td>\n      <td>53759a2ecddad2bb87a079a1f1519f73</td>\n      <td>52252</td>\n    </tr>\n    <tr>\n      <th>27600</th>\n      <td>relogios_presentes</td>\n      <td>53b36df67ebb7c41585e8d54d6772e08</td>\n      <td>51470</td>\n    </tr>\n    <tr>\n      <th>3571</th>\n      <td>beleza_saude</td>\n      <td>154e7e31ebfa092203795c972e5804a6</td>\n      <td>42606</td>\n    </tr>\n    <tr>\n      <th>19038</th>\n      <td>informatica_acessorios</td>\n      <td>3dd2a17168ec895c781a9191c1e95ad7</td>\n      <td>40600</td>\n    </tr>\n    <tr>\n      <th>20099</th>\n      <td>informatica_acessorios</td>\n      <td>e53e557d5a159f5aa2c5e995dfdf244b</td>\n      <td>38700</td>\n    </tr>\n    <tr>\n      <th>3771</th>\n      <td>beleza_saude</td>\n      <td>2b4609f8948be18874494203496bc318</td>\n      <td>36179</td>\n    </tr>\n    <tr>\n      <th>10221</th>\n      <td>casa_conforto</td>\n      <td>35afc973633aaeb6b877ff57b2793310</td>\n      <td>31206</td>\n    </tr>\n    <tr>\n      <th>28334</th>\n      <td>relogios_presentes</td>\n      <td>e0d64dcfaa3b6db5c54ca298ae101d05</td>\n      <td>30829</td>\n    </tr>\n    <tr>\n      <th>30408</th>\n      <td>utilidades_domesticas</td>\n      <td>42a2c92a0979a949ca4ea89ec5c7b934</td>\n      <td>30053</td>\n    </tr>\n    <tr>\n      <th>28020</th>\n      <td>relogios_presentes</td>\n      <td>a62e25e09e05e6faf31d90c6ec1aa3d1</td>\n      <td>28845</td>\n    </tr>\n    <tr>\n      <th>4536</th>\n      <td>beleza_saude</td>\n      <td>7c1bd920dbdf22470b68bde975dd3ccf</td>\n      <td>28658</td>\n    </tr>\n    <tr>\n      <th>18372</th>\n      <td>ferramentas_jardim</td>\n      <td>c4baedd846ed09b85f78a781b522f126</td>\n      <td>28166</td>\n    </tr>\n    <tr>\n      <th>23365</th>\n      <td>moveis_decoracao</td>\n      <td>b532349fe46b38fbc7bb3914c1bdae07</td>\n      <td>26872</td>\n    </tr>\n    <tr>\n      <th>18991</th>\n      <td>informatica_acessorios</td>\n      <td>36f60d45225e60c7da4558b070ce4b60</td>\n      <td>25514</td>\n    </tr>\n  </tbody>\n</table>\n</div>"
     },
     "execution_count": 41,
     "metadata": {},
     "output_type": "execute_result"
    }
   ],
   "source": [
    "# Top 20 Products \n",
    "products_sales = customers_order.groupby(['product_category_name','product_id'])['payment_value'].agg(['count']).reset_index().sort_values(by = 'count', ascending= False)\n",
    "\n",
    "products_sales.head(20)"
   ],
   "metadata": {
    "collapsed": false,
    "ExecuteTime": {
     "end_time": "2023-12-23T14:59:38.175628Z",
     "start_time": "2023-12-23T14:59:36.801550Z"
    }
   }
  },
  {
   "cell_type": "code",
   "execution_count": 48,
   "outputs": [
    {
     "data": {
      "text/plain": "0     2017-05-16 15:05:35\n1     2017-05-16 15:05:35\n2     2017-05-16 15:05:35\n3     2017-05-16 15:05:35\n4     2017-05-16 15:05:35\n5     2017-05-16 15:05:35\n6     2017-05-16 15:05:35\n7     2017-05-16 15:05:35\n8     2017-05-16 15:05:35\n9     2017-05-16 15:05:35\n10    2017-05-16 15:05:35\n11    2017-05-16 15:05:35\n12    2017-05-16 15:05:35\n13    2017-05-16 15:05:35\n14    2017-05-16 15:05:35\n15    2017-05-16 15:05:35\n16    2017-05-16 15:05:35\n17    2017-05-16 15:05:35\n18    2017-05-16 15:05:35\n19    2017-05-16 15:05:35\nName: order_purchase_timestamp, dtype: object"
     },
     "execution_count": 48,
     "metadata": {},
     "output_type": "execute_result"
    }
   ],
   "source": [
    "# Purchase yearly (check its trend) -- extraction\n",
    "customers_order[['order_purchase_timestamp','payment_value','geolocation_state','price'],:]\n"
   ],
   "metadata": {
    "collapsed": false,
    "ExecuteTime": {
     "end_time": "2023-12-23T15:06:22.783054Z",
     "start_time": "2023-12-23T15:06:22.775392Z"
    }
   }
  },
  {
   "cell_type": "code",
   "execution_count": 49,
   "outputs": [
    {
     "data": {
      "text/plain": "Index(['customer_id', 'customer_unique_id', 'customer_zip_code_prefix',\n       'customer_city', 'customer_state', 'geolocation_lat', 'geolocation_lng',\n       'geolocation_city', 'geolocation_state', 'order_id', 'order_status',\n       'order_purchase_timestamp', 'order_approved_at',\n       'order_delivered_carrier_date', 'order_delivered_customer_date',\n       'order_estimated_delivery_date', 'order_item_id', 'product_id',\n       'seller_id', 'shipping_limit_date', 'price', 'freight_value',\n       'payment_sequential', 'payment_type', 'payment_installments',\n       'payment_value', 'review_id', 'review_score', 'review_comment_title',\n       'review_comment_message', 'review_creation_date',\n       'review_answer_timestamp', 'product_category_name',\n       'product_name_lenght', 'product_description_lenght',\n       'product_photos_qty', 'product_weight_g', 'product_length_cm',\n       'product_height_cm', 'product_width_cm', 'seller_zip_code_prefix',\n       'seller_city', 'seller_state'],\n      dtype='object')"
     },
     "execution_count": 49,
     "metadata": {},
     "output_type": "execute_result"
    }
   ],
   "source": [
    "customers_order.columns"
   ],
   "metadata": {
    "collapsed": false,
    "ExecuteTime": {
     "end_time": "2023-12-23T15:06:49.178162Z",
     "start_time": "2023-12-23T15:06:49.169530Z"
    }
   }
  },
  {
   "cell_type": "code",
   "execution_count": null,
   "outputs": [],
   "source": [],
   "metadata": {
    "collapsed": false
   }
  },
  {
   "cell_type": "code",
   "execution_count": null,
   "outputs": [],
   "source": [],
   "metadata": {
    "collapsed": false
   }
  },
  {
   "cell_type": "code",
   "execution_count": null,
   "outputs": [],
   "source": [],
   "metadata": {
    "collapsed": false
   }
  },
  {
   "cell_type": "code",
   "execution_count": null,
   "outputs": [],
   "source": [],
   "metadata": {
    "collapsed": false
   }
  },
  {
   "cell_type": "code",
   "execution_count": null,
   "outputs": [],
   "source": [],
   "metadata": {
    "collapsed": false
   }
  },
  {
   "cell_type": "code",
   "execution_count": null,
   "outputs": [],
   "source": [],
   "metadata": {
    "collapsed": false
   }
  },
  {
   "cell_type": "markdown",
   "source": [
    "# Sentiment Analysis"
   ],
   "metadata": {
    "collapsed": false
   }
  },
  {
   "cell_type": "code",
   "execution_count": 53,
   "outputs": [
    {
     "data": {
      "text/plain": "     score                                            comment\n735    5.0  Estou muito satisfeita ,o produto é lindo,perf...\n736    5.0  Estou muito satisfeita ,o produto é lindo,perf...\n737    5.0  Estou muito satisfeita ,o produto é lindo,perf...\n738    5.0  Estou muito satisfeita ,o produto é lindo,perf...\n739    5.0  Estou muito satisfeita ,o produto é lindo,perf...",
      "text/html": "<div>\n<style scoped>\n    .dataframe tbody tr th:only-of-type {\n        vertical-align: middle;\n    }\n\n    .dataframe tbody tr th {\n        vertical-align: top;\n    }\n\n    .dataframe thead th {\n        text-align: right;\n    }\n</style>\n<table border=\"1\" class=\"dataframe\">\n  <thead>\n    <tr style=\"text-align: right;\">\n      <th></th>\n      <th>score</th>\n      <th>comment</th>\n    </tr>\n  </thead>\n  <tbody>\n    <tr>\n      <th>735</th>\n      <td>5.0</td>\n      <td>Estou muito satisfeita ,o produto é lindo,perf...</td>\n    </tr>\n    <tr>\n      <th>736</th>\n      <td>5.0</td>\n      <td>Estou muito satisfeita ,o produto é lindo,perf...</td>\n    </tr>\n    <tr>\n      <th>737</th>\n      <td>5.0</td>\n      <td>Estou muito satisfeita ,o produto é lindo,perf...</td>\n    </tr>\n    <tr>\n      <th>738</th>\n      <td>5.0</td>\n      <td>Estou muito satisfeita ,o produto é lindo,perf...</td>\n    </tr>\n    <tr>\n      <th>739</th>\n      <td>5.0</td>\n      <td>Estou muito satisfeita ,o produto é lindo,perf...</td>\n    </tr>\n  </tbody>\n</table>\n</div>"
     },
     "execution_count": 53,
     "metadata": {},
     "output_type": "execute_result"
    }
   ],
   "source": [
    "df_review = customers_order.loc[:,['review_score','review_comment_message']]\n",
    "df_review = df_review.dropna(subset = ['review_comment_message'])\n",
    "df_review.columns = ['score','comment']\n",
    "df_review.head()"
   ],
   "metadata": {
    "collapsed": false,
    "ExecuteTime": {
     "end_time": "2023-12-23T15:16:34.594059Z",
     "start_time": "2023-12-23T15:16:34.099381Z"
    }
   }
  },
  {
   "cell_type": "code",
   "execution_count": null,
   "outputs": [],
   "source": [],
   "metadata": {
    "collapsed": false
   }
  },
  {
   "cell_type": "code",
   "execution_count": null,
   "outputs": [],
   "source": [],
   "metadata": {
    "collapsed": false
   }
  },
  {
   "cell_type": "code",
   "execution_count": null,
   "outputs": [],
   "source": [],
   "metadata": {
    "collapsed": false
   }
  },
  {
   "cell_type": "code",
   "execution_count": null,
   "outputs": [],
   "source": [],
   "metadata": {
    "collapsed": false
   }
  },
  {
   "cell_type": "code",
   "execution_count": null,
   "outputs": [],
   "source": [],
   "metadata": {
    "collapsed": false
   }
  },
  {
   "cell_type": "code",
   "execution_count": null,
   "outputs": [],
   "source": [],
   "metadata": {
    "collapsed": false
   }
  },
  {
   "cell_type": "code",
   "execution_count": null,
   "outputs": [],
   "source": [],
   "metadata": {
    "collapsed": false
   }
  },
  {
   "cell_type": "code",
   "execution_count": null,
   "outputs": [],
   "source": [],
   "metadata": {
    "collapsed": false
   }
  },
  {
   "cell_type": "markdown",
   "source": [
    "## Time Series Analysis"
   ],
   "metadata": {
    "collapsed": false
   }
  },
  {
   "cell_type": "code",
   "execution_count": null,
   "outputs": [],
   "source": [],
   "metadata": {
    "collapsed": false
   }
  },
  {
   "cell_type": "code",
   "execution_count": null,
   "outputs": [],
   "source": [],
   "metadata": {
    "collapsed": false
   }
  },
  {
   "cell_type": "code",
   "execution_count": null,
   "outputs": [],
   "source": [],
   "metadata": {
    "collapsed": false
   }
  },
  {
   "cell_type": "code",
   "execution_count": null,
   "outputs": [],
   "source": [],
   "metadata": {
    "collapsed": false
   }
  },
  {
   "cell_type": "code",
   "execution_count": null,
   "outputs": [],
   "source": [],
   "metadata": {
    "collapsed": false
   }
  },
  {
   "cell_type": "code",
   "execution_count": null,
   "outputs": [],
   "source": [],
   "metadata": {
    "collapsed": false
   }
  },
  {
   "cell_type": "raw",
   "source": [
    "I am always learning. \n",
    "\n",
    "If you like this worksheet, please don't forget to votes up and stay tunend.\n"
   ],
   "metadata": {
    "collapsed": false
   }
  },
  {
   "cell_type": "code",
   "execution_count": null,
   "outputs": [],
   "source": [],
   "metadata": {
    "collapsed": false
   }
  }
 ],
 "metadata": {
  "kernelspec": {
   "display_name": "Python 3",
   "language": "python",
   "name": "python3"
  },
  "language_info": {
   "codemirror_mode": {
    "name": "ipython",
    "version": 2
   },
   "file_extension": ".py",
   "mimetype": "text/x-python",
   "name": "python",
   "nbconvert_exporter": "python",
   "pygments_lexer": "ipython2",
   "version": "2.7.6"
  }
 },
 "nbformat": 4,
 "nbformat_minor": 0
}
