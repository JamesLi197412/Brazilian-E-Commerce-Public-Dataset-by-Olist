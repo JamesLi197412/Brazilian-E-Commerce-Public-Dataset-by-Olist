{
 "cells": [
  {
   "cell_type": "code",
   "execution_count": 1,
   "metadata": {
    "collapsed": true,
    "ExecuteTime": {
     "end_time": "2023-12-14T02:27:30.474830Z",
     "start_time": "2023-12-14T02:27:28.702251Z"
    }
   },
   "outputs": [
    {
     "name": "stderr",
     "output_type": "stream",
     "text": [
      "/var/folders/c3/z8gl7_754n15kcrx5rz7k0840000gn/T/ipykernel_5128/3743164934.py:19: FutureWarning: The pandas.datetime class is deprecated and will be removed from pandas in a future version. Import from datetime module instead.\n",
      "  from pandas import datetime\n"
     ]
    }
   ],
   "source": [
    "# Import essential libraries\n",
    "import warnings\n",
    "\n",
    "import matplotlib.pyplot as plt\n",
    "import numpy as np\n",
    "import pandas as pd\n",
    "import seaborn as sns\n",
    "\n",
    "import statsmodels.api as sm\n",
    "from statsmodels.tsa.seasonal import seasonal_decompose\n",
    "\n",
    "from xgboost import XGBRegressor\n",
    "from mlforecast import MLForecast\n",
    "from window_ops.rolling import rolling_mean,rolling_max,rolling_min\n",
    "\n",
    "from xgboost import plot_importance, plot_tree\n",
    "\n",
    "from statsmodels.tsa.arima_model import ARIMA\n",
    "from pandas import datetime\n",
    "\n",
    "import xgboost as xgb  # xgb stuff\n",
    "from sklearn.model_selection import train_test_split\n",
    "\n",
    "from sklearn.model_selection import GridSearchCV\n",
    "from sklearn.metrics import confusion_matrix, ConfusionMatrixDisplay\n",
    "\n",
    "plt.style.use(\"ggplot\")\n",
    "\n",
    "from statsmodels.tsa.stattools import acf, pacf\n",
    "from statsmodels.graphics.tsaplots import plot_acf, plot_pacf\n",
    "\n",
    "warnings.filterwarnings(\"ignore\")"
   ]
  },
  {
   "cell_type": "code",
   "execution_count": 2,
   "outputs": [
    {
     "data": {
      "text/plain": "\"\\nProject link: https://www.kaggle.com/datasets/olistbr/brazilian-ecommerce\\nPurpose:\\nThis dataset was generously provided by Olist, the largest department store in Brazilian marketplaces. Olist connects small businesses from all over Brazil to channels without hassle and with a single contract. Those merchants are able to sell their products through the Olist Store and ship them directly to the customers using Olist logistics partners. See more on our website: www.olist.com\\n\\nAfter a customer purchases the product from Olist Store a seller gets notified to fulfill that order. Once the customer receives the product, or the estimated delivery date is due, the customer gets a satisfaction survey by email where he can give a note for the purchase experience and write down some comments.\\n\\nAttention\\n    An order might have multiple items.\\n    Each item might be fulfilled by a distinct seller.\\n    All text identifying stores and partners where replaced by the names of Game of Thrones great houses.\\n\\nNLP:\\n\\nThis dataset offers a supreme environment to parse out the reviews text through its multiple dimensions.\\n\\nClustering:\\n\\nSome customers didn't write a review. But why are they happy or mad?\\n\\nSales Prediction:\\n\\nWith purchase date information you'll be able to predict future sales.\\n\\nDelivery Performance:\\n\\nYou will also be able to work through delivery performance and find ways to optimize delivery times.\\n\\nProduct Quality:\\n\\nEnjoy yourself discovering the products categories that are more prone to customer in satisfaction.\\n\\nFeature Engineering:\\n\\nCreate features from this rich dataset or attach some external public information to it.\\n\\n\""
     },
     "execution_count": 2,
     "metadata": {},
     "output_type": "execute_result"
    }
   ],
   "source": [
    "\"\"\"\n",
    "Project link: https://www.kaggle.com/datasets/olistbr/brazilian-ecommerce\n",
    "Purpose:\n",
    "This dataset was generously provided by Olist, the largest department store in Brazilian marketplaces. Olist connects small businesses from all over Brazil to channels without hassle and with a single contract. Those merchants are able to sell their products through the Olist Store and ship them directly to the customers using Olist logistics partners. See more on our website: www.olist.com\n",
    "\n",
    "After a customer purchases the product from Olist Store a seller gets notified to fulfill that order. Once the customer receives the product, or the estimated delivery date is due, the customer gets a satisfaction survey by email where he can give a note for the purchase experience and write down some comments.\n",
    "\n",
    "Attention\n",
    "    An order might have multiple items.\n",
    "    Each item might be fulfilled by a distinct seller.\n",
    "    All text identifying stores and partners where replaced by the names of Game of Thrones great houses.\n",
    "\n",
    "NLP:\n",
    "\n",
    "This dataset offers a supreme environment to parse out the reviews text through its multiple dimensions.\n",
    "\n",
    "Clustering:\n",
    "\n",
    "Some customers didn't write a review. But why are they happy or mad?\n",
    "\n",
    "Sales Prediction:\n",
    "\n",
    "With purchase date information you'll be able to predict future sales.\n",
    "\n",
    "Delivery Performance:\n",
    "\n",
    "You will also be able to work through delivery performance and find ways to optimize delivery times.\n",
    "\n",
    "Product Quality:\n",
    "\n",
    "Enjoy yourself discovering the products categories that are more prone to customer in satisfaction.\n",
    "\n",
    "Feature Engineering:\n",
    "\n",
    "Create features from this rich dataset or attach some external public information to it.\n",
    "\n",
    "\"\"\""
   ],
   "metadata": {
    "collapsed": false,
    "ExecuteTime": {
     "end_time": "2023-12-14T02:27:30.501002Z",
     "start_time": "2023-12-14T02:27:30.479954Z"
    }
   }
  },
  {
   "cell_type": "markdown",
   "source": [
    "# Access to Local Files"
   ],
   "metadata": {
    "collapsed": false
   }
  },
  {
   "cell_type": "code",
   "execution_count": 3,
   "outputs": [],
   "source": [
    "# access files\n",
    "path = 'dataset/'\n",
    "customers = pd.read_csv(path + 'olist_customers_dataset.csv')\n",
    "geolocation = pd.read_csv(path + 'olist_geolocation_dataset.csv')\n",
    "order_items = pd.read_csv(path + 'olist_order_items_dataset.csv')\n",
    "order_payment = pd.read_csv(path + 'olist_order_payments_dataset.csv')\n",
    "order_reviews = pd.read_csv(path + 'olist_order_reviews_dataset.csv')\n",
    "order_dataset = pd.read_csv(path + 'olist_orders_dataset.csv')\n",
    "products = pd.read_csv(path + 'olist_products_dataset.csv')\n",
    "sellers = pd.read_csv(path + 'olist_sellers_dataset.csv')\n",
    "product_category = pd.read_csv(path + 'product_category_name_translation.csv')\n"
   ],
   "metadata": {
    "collapsed": false,
    "ExecuteTime": {
     "end_time": "2023-12-14T02:27:32.936135Z",
     "start_time": "2023-12-14T02:27:30.490161Z"
    }
   }
  },
  {
   "cell_type": "markdown",
   "source": [
    "# Data Exploration"
   ],
   "metadata": {
    "collapsed": false
   }
  },
  {
   "cell_type": "code",
   "execution_count": 4,
   "outputs": [
    {
     "data": {
      "text/plain": "                        customer_id                customer_unique_id  \\\n0  06b8999e2fba1a1fbc88172c00ba8bc7  861eff4711a542e4b93843c6dd7febb0   \n1  18955e83d337fd6b2def6b18a428ac77  290c77bc529b7ac935b93aa66c333dc3   \n2  4e7b3e00288586ebd08712fdd0374a03  060e732b5b29e8181a18229c7b0b2b5e   \n3  b2b6027bc5c5109e529d4dc6358b12c3  259dac757896d24d7702b9acbbff3f3c   \n4  4f2d8ab171c80ec8364f7c12e35b23ad  345ecd01c38d18a9036ed96c73b8d066   \n\n   customer_zip_code_prefix          customer_city customer_state  \n0                     14409                 franca             SP  \n1                      9790  sao bernardo do campo             SP  \n2                      1151              sao paulo             SP  \n3                      8775        mogi das cruzes             SP  \n4                     13056               campinas             SP  ",
      "text/html": "<div>\n<style scoped>\n    .dataframe tbody tr th:only-of-type {\n        vertical-align: middle;\n    }\n\n    .dataframe tbody tr th {\n        vertical-align: top;\n    }\n\n    .dataframe thead th {\n        text-align: right;\n    }\n</style>\n<table border=\"1\" class=\"dataframe\">\n  <thead>\n    <tr style=\"text-align: right;\">\n      <th></th>\n      <th>customer_id</th>\n      <th>customer_unique_id</th>\n      <th>customer_zip_code_prefix</th>\n      <th>customer_city</th>\n      <th>customer_state</th>\n    </tr>\n  </thead>\n  <tbody>\n    <tr>\n      <th>0</th>\n      <td>06b8999e2fba1a1fbc88172c00ba8bc7</td>\n      <td>861eff4711a542e4b93843c6dd7febb0</td>\n      <td>14409</td>\n      <td>franca</td>\n      <td>SP</td>\n    </tr>\n    <tr>\n      <th>1</th>\n      <td>18955e83d337fd6b2def6b18a428ac77</td>\n      <td>290c77bc529b7ac935b93aa66c333dc3</td>\n      <td>9790</td>\n      <td>sao bernardo do campo</td>\n      <td>SP</td>\n    </tr>\n    <tr>\n      <th>2</th>\n      <td>4e7b3e00288586ebd08712fdd0374a03</td>\n      <td>060e732b5b29e8181a18229c7b0b2b5e</td>\n      <td>1151</td>\n      <td>sao paulo</td>\n      <td>SP</td>\n    </tr>\n    <tr>\n      <th>3</th>\n      <td>b2b6027bc5c5109e529d4dc6358b12c3</td>\n      <td>259dac757896d24d7702b9acbbff3f3c</td>\n      <td>8775</td>\n      <td>mogi das cruzes</td>\n      <td>SP</td>\n    </tr>\n    <tr>\n      <th>4</th>\n      <td>4f2d8ab171c80ec8364f7c12e35b23ad</td>\n      <td>345ecd01c38d18a9036ed96c73b8d066</td>\n      <td>13056</td>\n      <td>campinas</td>\n      <td>SP</td>\n    </tr>\n  </tbody>\n</table>\n</div>"
     },
     "execution_count": 4,
     "metadata": {},
     "output_type": "execute_result"
    }
   ],
   "source": [
    "customers.head()"
   ],
   "metadata": {
    "collapsed": false,
    "ExecuteTime": {
     "end_time": "2023-12-14T02:27:32.957553Z",
     "start_time": "2023-12-14T02:27:32.940678Z"
    }
   }
  },
  {
   "cell_type": "code",
   "execution_count": 5,
   "outputs": [
    {
     "data": {
      "text/plain": "   geolocation_zip_code_prefix  geolocation_lat  geolocation_lng  \\\n0                         1037       -23.545621       -46.639292   \n1                         1046       -23.546081       -46.644820   \n2                         1046       -23.546129       -46.642951   \n3                         1041       -23.544392       -46.639499   \n4                         1035       -23.541578       -46.641607   \n\n  geolocation_city geolocation_state  \n0        sao paulo                SP  \n1        sao paulo                SP  \n2        sao paulo                SP  \n3        sao paulo                SP  \n4        sao paulo                SP  ",
      "text/html": "<div>\n<style scoped>\n    .dataframe tbody tr th:only-of-type {\n        vertical-align: middle;\n    }\n\n    .dataframe tbody tr th {\n        vertical-align: top;\n    }\n\n    .dataframe thead th {\n        text-align: right;\n    }\n</style>\n<table border=\"1\" class=\"dataframe\">\n  <thead>\n    <tr style=\"text-align: right;\">\n      <th></th>\n      <th>geolocation_zip_code_prefix</th>\n      <th>geolocation_lat</th>\n      <th>geolocation_lng</th>\n      <th>geolocation_city</th>\n      <th>geolocation_state</th>\n    </tr>\n  </thead>\n  <tbody>\n    <tr>\n      <th>0</th>\n      <td>1037</td>\n      <td>-23.545621</td>\n      <td>-46.639292</td>\n      <td>sao paulo</td>\n      <td>SP</td>\n    </tr>\n    <tr>\n      <th>1</th>\n      <td>1046</td>\n      <td>-23.546081</td>\n      <td>-46.644820</td>\n      <td>sao paulo</td>\n      <td>SP</td>\n    </tr>\n    <tr>\n      <th>2</th>\n      <td>1046</td>\n      <td>-23.546129</td>\n      <td>-46.642951</td>\n      <td>sao paulo</td>\n      <td>SP</td>\n    </tr>\n    <tr>\n      <th>3</th>\n      <td>1041</td>\n      <td>-23.544392</td>\n      <td>-46.639499</td>\n      <td>sao paulo</td>\n      <td>SP</td>\n    </tr>\n    <tr>\n      <th>4</th>\n      <td>1035</td>\n      <td>-23.541578</td>\n      <td>-46.641607</td>\n      <td>sao paulo</td>\n      <td>SP</td>\n    </tr>\n  </tbody>\n</table>\n</div>"
     },
     "execution_count": 5,
     "metadata": {},
     "output_type": "execute_result"
    }
   ],
   "source": [
    "geolocation.head()"
   ],
   "metadata": {
    "collapsed": false,
    "ExecuteTime": {
     "end_time": "2023-12-14T02:27:32.975600Z",
     "start_time": "2023-12-14T02:27:32.959818Z"
    }
   }
  },
  {
   "cell_type": "code",
   "execution_count": 6,
   "outputs": [
    {
     "data": {
      "text/plain": "                           order_id  payment_sequential payment_type  \\\n0  b81ef226f3fe1789b1e8b2acac839d17                   1  credit_card   \n1  a9810da82917af2d9aefd1278f1dcfa0                   1  credit_card   \n2  25e8ea4e93396b6fa0d3dd708e76c1bd                   1  credit_card   \n3  ba78997921bbcdc1373bb41e913ab953                   1  credit_card   \n4  42fdf880ba16b47b59251dd489d4441a                   1  credit_card   \n\n   payment_installments  payment_value  \n0                     8          99.33  \n1                     1          24.39  \n2                     1          65.71  \n3                     8         107.78  \n4                     2         128.45  ",
      "text/html": "<div>\n<style scoped>\n    .dataframe tbody tr th:only-of-type {\n        vertical-align: middle;\n    }\n\n    .dataframe tbody tr th {\n        vertical-align: top;\n    }\n\n    .dataframe thead th {\n        text-align: right;\n    }\n</style>\n<table border=\"1\" class=\"dataframe\">\n  <thead>\n    <tr style=\"text-align: right;\">\n      <th></th>\n      <th>order_id</th>\n      <th>payment_sequential</th>\n      <th>payment_type</th>\n      <th>payment_installments</th>\n      <th>payment_value</th>\n    </tr>\n  </thead>\n  <tbody>\n    <tr>\n      <th>0</th>\n      <td>b81ef226f3fe1789b1e8b2acac839d17</td>\n      <td>1</td>\n      <td>credit_card</td>\n      <td>8</td>\n      <td>99.33</td>\n    </tr>\n    <tr>\n      <th>1</th>\n      <td>a9810da82917af2d9aefd1278f1dcfa0</td>\n      <td>1</td>\n      <td>credit_card</td>\n      <td>1</td>\n      <td>24.39</td>\n    </tr>\n    <tr>\n      <th>2</th>\n      <td>25e8ea4e93396b6fa0d3dd708e76c1bd</td>\n      <td>1</td>\n      <td>credit_card</td>\n      <td>1</td>\n      <td>65.71</td>\n    </tr>\n    <tr>\n      <th>3</th>\n      <td>ba78997921bbcdc1373bb41e913ab953</td>\n      <td>1</td>\n      <td>credit_card</td>\n      <td>8</td>\n      <td>107.78</td>\n    </tr>\n    <tr>\n      <th>4</th>\n      <td>42fdf880ba16b47b59251dd489d4441a</td>\n      <td>1</td>\n      <td>credit_card</td>\n      <td>2</td>\n      <td>128.45</td>\n    </tr>\n  </tbody>\n</table>\n</div>"
     },
     "execution_count": 6,
     "metadata": {},
     "output_type": "execute_result"
    }
   ],
   "source": [
    "order_payment.head()"
   ],
   "metadata": {
    "collapsed": false,
    "ExecuteTime": {
     "end_time": "2023-12-14T02:27:33.014946Z",
     "start_time": "2023-12-14T02:27:32.970574Z"
    }
   }
  },
  {
   "cell_type": "code",
   "execution_count": 7,
   "outputs": [
    {
     "data": {
      "text/plain": "                           order_id  order_item_id  \\\n0  00010242fe8c5a6d1ba2dd792cb16214              1   \n1  00018f77f2f0320c557190d7a144bdd3              1   \n2  000229ec398224ef6ca0657da4fc703e              1   \n3  00024acbcdf0a6daa1e931b038114c75              1   \n4  00042b26cf59d7ce69dfabb4e55b4fd9              1   \n\n                         product_id                         seller_id  \\\n0  4244733e06e7ecb4970a6e2683c13e61  48436dade18ac8b2bce089ec2a041202   \n1  e5f2d52b802189ee658865ca93d83a8f  dd7ddc04e1b6c2c614352b383efe2d36   \n2  c777355d18b72b67abbeef9df44fd0fd  5b51032eddd242adc84c38acab88f23d   \n3  7634da152a4610f1595efa32f14722fc  9d7a1d34a5052409006425275ba1c2b4   \n4  ac6c3623068f30de03045865e4e10089  df560393f3a51e74553ab94004ba5c87   \n\n   shipping_limit_date   price  freight_value  \n0  2017-09-19 09:45:35   58.90          13.29  \n1  2017-05-03 11:05:13  239.90          19.93  \n2  2018-01-18 14:48:30  199.00          17.87  \n3  2018-08-15 10:10:18   12.99          12.79  \n4  2017-02-13 13:57:51  199.90          18.14  ",
      "text/html": "<div>\n<style scoped>\n    .dataframe tbody tr th:only-of-type {\n        vertical-align: middle;\n    }\n\n    .dataframe tbody tr th {\n        vertical-align: top;\n    }\n\n    .dataframe thead th {\n        text-align: right;\n    }\n</style>\n<table border=\"1\" class=\"dataframe\">\n  <thead>\n    <tr style=\"text-align: right;\">\n      <th></th>\n      <th>order_id</th>\n      <th>order_item_id</th>\n      <th>product_id</th>\n      <th>seller_id</th>\n      <th>shipping_limit_date</th>\n      <th>price</th>\n      <th>freight_value</th>\n    </tr>\n  </thead>\n  <tbody>\n    <tr>\n      <th>0</th>\n      <td>00010242fe8c5a6d1ba2dd792cb16214</td>\n      <td>1</td>\n      <td>4244733e06e7ecb4970a6e2683c13e61</td>\n      <td>48436dade18ac8b2bce089ec2a041202</td>\n      <td>2017-09-19 09:45:35</td>\n      <td>58.90</td>\n      <td>13.29</td>\n    </tr>\n    <tr>\n      <th>1</th>\n      <td>00018f77f2f0320c557190d7a144bdd3</td>\n      <td>1</td>\n      <td>e5f2d52b802189ee658865ca93d83a8f</td>\n      <td>dd7ddc04e1b6c2c614352b383efe2d36</td>\n      <td>2017-05-03 11:05:13</td>\n      <td>239.90</td>\n      <td>19.93</td>\n    </tr>\n    <tr>\n      <th>2</th>\n      <td>000229ec398224ef6ca0657da4fc703e</td>\n      <td>1</td>\n      <td>c777355d18b72b67abbeef9df44fd0fd</td>\n      <td>5b51032eddd242adc84c38acab88f23d</td>\n      <td>2018-01-18 14:48:30</td>\n      <td>199.00</td>\n      <td>17.87</td>\n    </tr>\n    <tr>\n      <th>3</th>\n      <td>00024acbcdf0a6daa1e931b038114c75</td>\n      <td>1</td>\n      <td>7634da152a4610f1595efa32f14722fc</td>\n      <td>9d7a1d34a5052409006425275ba1c2b4</td>\n      <td>2018-08-15 10:10:18</td>\n      <td>12.99</td>\n      <td>12.79</td>\n    </tr>\n    <tr>\n      <th>4</th>\n      <td>00042b26cf59d7ce69dfabb4e55b4fd9</td>\n      <td>1</td>\n      <td>ac6c3623068f30de03045865e4e10089</td>\n      <td>df560393f3a51e74553ab94004ba5c87</td>\n      <td>2017-02-13 13:57:51</td>\n      <td>199.90</td>\n      <td>18.14</td>\n    </tr>\n  </tbody>\n</table>\n</div>"
     },
     "execution_count": 7,
     "metadata": {},
     "output_type": "execute_result"
    }
   ],
   "source": [
    "order_items.head()"
   ],
   "metadata": {
    "collapsed": false,
    "ExecuteTime": {
     "end_time": "2023-12-14T02:27:33.050906Z",
     "start_time": "2023-12-14T02:27:32.982673Z"
    }
   }
  },
  {
   "cell_type": "code",
   "execution_count": 8,
   "outputs": [
    {
     "name": "stdout",
     "output_type": "stream",
     "text": [
      "<class 'pandas.core.frame.DataFrame'>\n",
      "RangeIndex: 112650 entries, 0 to 112649\n",
      "Data columns (total 7 columns):\n",
      " #   Column               Non-Null Count   Dtype  \n",
      "---  ------               --------------   -----  \n",
      " 0   order_id             112650 non-null  object \n",
      " 1   order_item_id        112650 non-null  int64  \n",
      " 2   product_id           112650 non-null  object \n",
      " 3   seller_id            112650 non-null  object \n",
      " 4   shipping_limit_date  112650 non-null  object \n",
      " 5   price                112650 non-null  float64\n",
      " 6   freight_value        112650 non-null  float64\n",
      "dtypes: float64(2), int64(1), object(4)\n",
      "memory usage: 6.0+ MB\n"
     ]
    }
   ],
   "source": [
    "order_items.info()"
   ],
   "metadata": {
    "collapsed": false,
    "ExecuteTime": {
     "end_time": "2023-12-14T02:27:33.121040Z",
     "start_time": "2023-12-14T02:27:33.017445Z"
    }
   }
  },
  {
   "cell_type": "code",
   "execution_count": 9,
   "outputs": [
    {
     "data": {
      "text/plain": "                          review_id                          order_id  \\\n0  7bc2406110b926393aa56f80a40eba40  73fc7af87114b39712e6da79b0a377eb   \n1  80e641a11e56f04c1ad469d5645fdfde  a548910a1c6147796b98fdf73dbeba33   \n2  228ce5500dc1d8e020d8d1322874b6f0  f9e4b658b201a9f2ecdecbb34bed034b   \n3  e64fb393e7b32834bb789ff8bb30750e  658677c97b385a9be170737859d3511b   \n4  f7c4243c7fe1938f181bec41a392bdeb  8e6bfb81e283fa7e4f11123a3fb894f1   \n\n   review_score review_comment_title  \\\n0             4                  NaN   \n1             5                  NaN   \n2             5                  NaN   \n3             5                  NaN   \n4             5                  NaN   \n\n                              review_comment_message review_creation_date  \\\n0                                                NaN  2018-01-18 00:00:00   \n1                                                NaN  2018-03-10 00:00:00   \n2                                                NaN  2018-02-17 00:00:00   \n3              Recebi bem antes do prazo estipulado.  2017-04-21 00:00:00   \n4  Parabéns lojas lannister adorei comprar pela I...  2018-03-01 00:00:00   \n\n  review_answer_timestamp  \n0     2018-01-18 21:46:59  \n1     2018-03-11 03:05:13  \n2     2018-02-18 14:36:24  \n3     2017-04-21 22:02:06  \n4     2018-03-02 10:26:53  ",
      "text/html": "<div>\n<style scoped>\n    .dataframe tbody tr th:only-of-type {\n        vertical-align: middle;\n    }\n\n    .dataframe tbody tr th {\n        vertical-align: top;\n    }\n\n    .dataframe thead th {\n        text-align: right;\n    }\n</style>\n<table border=\"1\" class=\"dataframe\">\n  <thead>\n    <tr style=\"text-align: right;\">\n      <th></th>\n      <th>review_id</th>\n      <th>order_id</th>\n      <th>review_score</th>\n      <th>review_comment_title</th>\n      <th>review_comment_message</th>\n      <th>review_creation_date</th>\n      <th>review_answer_timestamp</th>\n    </tr>\n  </thead>\n  <tbody>\n    <tr>\n      <th>0</th>\n      <td>7bc2406110b926393aa56f80a40eba40</td>\n      <td>73fc7af87114b39712e6da79b0a377eb</td>\n      <td>4</td>\n      <td>NaN</td>\n      <td>NaN</td>\n      <td>2018-01-18 00:00:00</td>\n      <td>2018-01-18 21:46:59</td>\n    </tr>\n    <tr>\n      <th>1</th>\n      <td>80e641a11e56f04c1ad469d5645fdfde</td>\n      <td>a548910a1c6147796b98fdf73dbeba33</td>\n      <td>5</td>\n      <td>NaN</td>\n      <td>NaN</td>\n      <td>2018-03-10 00:00:00</td>\n      <td>2018-03-11 03:05:13</td>\n    </tr>\n    <tr>\n      <th>2</th>\n      <td>228ce5500dc1d8e020d8d1322874b6f0</td>\n      <td>f9e4b658b201a9f2ecdecbb34bed034b</td>\n      <td>5</td>\n      <td>NaN</td>\n      <td>NaN</td>\n      <td>2018-02-17 00:00:00</td>\n      <td>2018-02-18 14:36:24</td>\n    </tr>\n    <tr>\n      <th>3</th>\n      <td>e64fb393e7b32834bb789ff8bb30750e</td>\n      <td>658677c97b385a9be170737859d3511b</td>\n      <td>5</td>\n      <td>NaN</td>\n      <td>Recebi bem antes do prazo estipulado.</td>\n      <td>2017-04-21 00:00:00</td>\n      <td>2017-04-21 22:02:06</td>\n    </tr>\n    <tr>\n      <th>4</th>\n      <td>f7c4243c7fe1938f181bec41a392bdeb</td>\n      <td>8e6bfb81e283fa7e4f11123a3fb894f1</td>\n      <td>5</td>\n      <td>NaN</td>\n      <td>Parabéns lojas lannister adorei comprar pela I...</td>\n      <td>2018-03-01 00:00:00</td>\n      <td>2018-03-02 10:26:53</td>\n    </tr>\n  </tbody>\n</table>\n</div>"
     },
     "execution_count": 9,
     "metadata": {},
     "output_type": "execute_result"
    }
   ],
   "source": [
    "order_reviews.head()"
   ],
   "metadata": {
    "collapsed": false,
    "ExecuteTime": {
     "end_time": "2023-12-14T02:27:33.188208Z",
     "start_time": "2023-12-14T02:27:33.043975Z"
    }
   }
  },
  {
   "cell_type": "code",
   "execution_count": 10,
   "outputs": [
    {
     "data": {
      "text/plain": "    product_category_name product_category_name_english\n0            beleza_saude                 health_beauty\n1  informatica_acessorios         computers_accessories\n2              automotivo                          auto\n3         cama_mesa_banho                bed_bath_table\n4        moveis_decoracao               furniture_decor",
      "text/html": "<div>\n<style scoped>\n    .dataframe tbody tr th:only-of-type {\n        vertical-align: middle;\n    }\n\n    .dataframe tbody tr th {\n        vertical-align: top;\n    }\n\n    .dataframe thead th {\n        text-align: right;\n    }\n</style>\n<table border=\"1\" class=\"dataframe\">\n  <thead>\n    <tr style=\"text-align: right;\">\n      <th></th>\n      <th>product_category_name</th>\n      <th>product_category_name_english</th>\n    </tr>\n  </thead>\n  <tbody>\n    <tr>\n      <th>0</th>\n      <td>beleza_saude</td>\n      <td>health_beauty</td>\n    </tr>\n    <tr>\n      <th>1</th>\n      <td>informatica_acessorios</td>\n      <td>computers_accessories</td>\n    </tr>\n    <tr>\n      <th>2</th>\n      <td>automotivo</td>\n      <td>auto</td>\n    </tr>\n    <tr>\n      <th>3</th>\n      <td>cama_mesa_banho</td>\n      <td>bed_bath_table</td>\n    </tr>\n    <tr>\n      <th>4</th>\n      <td>moveis_decoracao</td>\n      <td>furniture_decor</td>\n    </tr>\n  </tbody>\n</table>\n</div>"
     },
     "execution_count": 10,
     "metadata": {},
     "output_type": "execute_result"
    }
   ],
   "source": [
    "product_category.head()"
   ],
   "metadata": {
    "collapsed": false,
    "ExecuteTime": {
     "end_time": "2023-12-14T02:27:33.191900Z",
     "start_time": "2023-12-14T02:27:33.055372Z"
    }
   }
  },
  {
   "cell_type": "code",
   "execution_count": 11,
   "outputs": [
    {
     "data": {
      "text/plain": "                         product_id  product_category_name  \\\n0  1e9e8ef04dbcff4541ed26657ea517e5             perfumaria   \n1  3aa071139cb16b67ca9e5dea641aaa2f                  artes   \n2  96bd76ec8810374ed1b65e291975717f          esporte_lazer   \n3  cef67bcfe19066a932b7673e239eb23d                  bebes   \n4  9dc1a7de274444849c219cff195d0b71  utilidades_domesticas   \n\n   product_name_lenght  product_description_lenght  product_photos_qty  \\\n0                 40.0                       287.0                 1.0   \n1                 44.0                       276.0                 1.0   \n2                 46.0                       250.0                 1.0   \n3                 27.0                       261.0                 1.0   \n4                 37.0                       402.0                 4.0   \n\n   product_weight_g  product_length_cm  product_height_cm  product_width_cm  \n0             225.0               16.0               10.0              14.0  \n1            1000.0               30.0               18.0              20.0  \n2             154.0               18.0                9.0              15.0  \n3             371.0               26.0                4.0              26.0  \n4             625.0               20.0               17.0              13.0  ",
      "text/html": "<div>\n<style scoped>\n    .dataframe tbody tr th:only-of-type {\n        vertical-align: middle;\n    }\n\n    .dataframe tbody tr th {\n        vertical-align: top;\n    }\n\n    .dataframe thead th {\n        text-align: right;\n    }\n</style>\n<table border=\"1\" class=\"dataframe\">\n  <thead>\n    <tr style=\"text-align: right;\">\n      <th></th>\n      <th>product_id</th>\n      <th>product_category_name</th>\n      <th>product_name_lenght</th>\n      <th>product_description_lenght</th>\n      <th>product_photos_qty</th>\n      <th>product_weight_g</th>\n      <th>product_length_cm</th>\n      <th>product_height_cm</th>\n      <th>product_width_cm</th>\n    </tr>\n  </thead>\n  <tbody>\n    <tr>\n      <th>0</th>\n      <td>1e9e8ef04dbcff4541ed26657ea517e5</td>\n      <td>perfumaria</td>\n      <td>40.0</td>\n      <td>287.0</td>\n      <td>1.0</td>\n      <td>225.0</td>\n      <td>16.0</td>\n      <td>10.0</td>\n      <td>14.0</td>\n    </tr>\n    <tr>\n      <th>1</th>\n      <td>3aa071139cb16b67ca9e5dea641aaa2f</td>\n      <td>artes</td>\n      <td>44.0</td>\n      <td>276.0</td>\n      <td>1.0</td>\n      <td>1000.0</td>\n      <td>30.0</td>\n      <td>18.0</td>\n      <td>20.0</td>\n    </tr>\n    <tr>\n      <th>2</th>\n      <td>96bd76ec8810374ed1b65e291975717f</td>\n      <td>esporte_lazer</td>\n      <td>46.0</td>\n      <td>250.0</td>\n      <td>1.0</td>\n      <td>154.0</td>\n      <td>18.0</td>\n      <td>9.0</td>\n      <td>15.0</td>\n    </tr>\n    <tr>\n      <th>3</th>\n      <td>cef67bcfe19066a932b7673e239eb23d</td>\n      <td>bebes</td>\n      <td>27.0</td>\n      <td>261.0</td>\n      <td>1.0</td>\n      <td>371.0</td>\n      <td>26.0</td>\n      <td>4.0</td>\n      <td>26.0</td>\n    </tr>\n    <tr>\n      <th>4</th>\n      <td>9dc1a7de274444849c219cff195d0b71</td>\n      <td>utilidades_domesticas</td>\n      <td>37.0</td>\n      <td>402.0</td>\n      <td>4.0</td>\n      <td>625.0</td>\n      <td>20.0</td>\n      <td>17.0</td>\n      <td>13.0</td>\n    </tr>\n  </tbody>\n</table>\n</div>"
     },
     "execution_count": 11,
     "metadata": {},
     "output_type": "execute_result"
    }
   ],
   "source": [
    "products.head()"
   ],
   "metadata": {
    "collapsed": false,
    "ExecuteTime": {
     "end_time": "2023-12-14T02:27:33.226949Z",
     "start_time": "2023-12-14T02:27:33.072963Z"
    }
   }
  },
  {
   "cell_type": "code",
   "execution_count": 12,
   "outputs": [
    {
     "data": {
      "text/plain": "                           order_id                       customer_id  \\\n0  e481f51cbdc54678b7cc49136f2d6af7  9ef432eb6251297304e76186b10a928d   \n1  53cdb2fc8bc7dce0b6741e2150273451  b0830fb4747a6c6d20dea0b8c802d7ef   \n2  47770eb9100c2d0c44946d9cf07ec65d  41ce2a54c0b03bf3443c3d931a367089   \n3  949d5b44dbf5de918fe9c16f97b45f8a  f88197465ea7920adcdbec7375364d82   \n4  ad21c59c0840e6cb83a9ceb5573f8159  8ab97904e6daea8866dbdbc4fb7aad2c   \n\n  order_status order_purchase_timestamp    order_approved_at  \\\n0    delivered      2017-10-02 10:56:33  2017-10-02 11:07:15   \n1    delivered      2018-07-24 20:41:37  2018-07-26 03:24:27   \n2    delivered      2018-08-08 08:38:49  2018-08-08 08:55:23   \n3    delivered      2017-11-18 19:28:06  2017-11-18 19:45:59   \n4    delivered      2018-02-13 21:18:39  2018-02-13 22:20:29   \n\n  order_delivered_carrier_date order_delivered_customer_date  \\\n0          2017-10-04 19:55:00           2017-10-10 21:25:13   \n1          2018-07-26 14:31:00           2018-08-07 15:27:45   \n2          2018-08-08 13:50:00           2018-08-17 18:06:29   \n3          2017-11-22 13:39:59           2017-12-02 00:28:42   \n4          2018-02-14 19:46:34           2018-02-16 18:17:02   \n\n  order_estimated_delivery_date  \n0           2017-10-18 00:00:00  \n1           2018-08-13 00:00:00  \n2           2018-09-04 00:00:00  \n3           2017-12-15 00:00:00  \n4           2018-02-26 00:00:00  ",
      "text/html": "<div>\n<style scoped>\n    .dataframe tbody tr th:only-of-type {\n        vertical-align: middle;\n    }\n\n    .dataframe tbody tr th {\n        vertical-align: top;\n    }\n\n    .dataframe thead th {\n        text-align: right;\n    }\n</style>\n<table border=\"1\" class=\"dataframe\">\n  <thead>\n    <tr style=\"text-align: right;\">\n      <th></th>\n      <th>order_id</th>\n      <th>customer_id</th>\n      <th>order_status</th>\n      <th>order_purchase_timestamp</th>\n      <th>order_approved_at</th>\n      <th>order_delivered_carrier_date</th>\n      <th>order_delivered_customer_date</th>\n      <th>order_estimated_delivery_date</th>\n    </tr>\n  </thead>\n  <tbody>\n    <tr>\n      <th>0</th>\n      <td>e481f51cbdc54678b7cc49136f2d6af7</td>\n      <td>9ef432eb6251297304e76186b10a928d</td>\n      <td>delivered</td>\n      <td>2017-10-02 10:56:33</td>\n      <td>2017-10-02 11:07:15</td>\n      <td>2017-10-04 19:55:00</td>\n      <td>2017-10-10 21:25:13</td>\n      <td>2017-10-18 00:00:00</td>\n    </tr>\n    <tr>\n      <th>1</th>\n      <td>53cdb2fc8bc7dce0b6741e2150273451</td>\n      <td>b0830fb4747a6c6d20dea0b8c802d7ef</td>\n      <td>delivered</td>\n      <td>2018-07-24 20:41:37</td>\n      <td>2018-07-26 03:24:27</td>\n      <td>2018-07-26 14:31:00</td>\n      <td>2018-08-07 15:27:45</td>\n      <td>2018-08-13 00:00:00</td>\n    </tr>\n    <tr>\n      <th>2</th>\n      <td>47770eb9100c2d0c44946d9cf07ec65d</td>\n      <td>41ce2a54c0b03bf3443c3d931a367089</td>\n      <td>delivered</td>\n      <td>2018-08-08 08:38:49</td>\n      <td>2018-08-08 08:55:23</td>\n      <td>2018-08-08 13:50:00</td>\n      <td>2018-08-17 18:06:29</td>\n      <td>2018-09-04 00:00:00</td>\n    </tr>\n    <tr>\n      <th>3</th>\n      <td>949d5b44dbf5de918fe9c16f97b45f8a</td>\n      <td>f88197465ea7920adcdbec7375364d82</td>\n      <td>delivered</td>\n      <td>2017-11-18 19:28:06</td>\n      <td>2017-11-18 19:45:59</td>\n      <td>2017-11-22 13:39:59</td>\n      <td>2017-12-02 00:28:42</td>\n      <td>2017-12-15 00:00:00</td>\n    </tr>\n    <tr>\n      <th>4</th>\n      <td>ad21c59c0840e6cb83a9ceb5573f8159</td>\n      <td>8ab97904e6daea8866dbdbc4fb7aad2c</td>\n      <td>delivered</td>\n      <td>2018-02-13 21:18:39</td>\n      <td>2018-02-13 22:20:29</td>\n      <td>2018-02-14 19:46:34</td>\n      <td>2018-02-16 18:17:02</td>\n      <td>2018-02-26 00:00:00</td>\n    </tr>\n  </tbody>\n</table>\n</div>"
     },
     "execution_count": 12,
     "metadata": {},
     "output_type": "execute_result"
    }
   ],
   "source": [
    "order_dataset.head()"
   ],
   "metadata": {
    "collapsed": false,
    "ExecuteTime": {
     "end_time": "2023-12-14T02:27:33.251912Z",
     "start_time": "2023-12-14T02:27:33.087713Z"
    }
   }
  },
  {
   "cell_type": "code",
   "execution_count": 13,
   "outputs": [],
   "source": [
    "def missing_col(df):\n",
    "    missing_values = df.isnull().sum()\n",
    "    missing_values = missing_values.sort_values(ascending = False)\n",
    "\n",
    "    return missing_values\n",
    "\n",
    "def df_info_(df):\n",
    "    \"\"\"\n",
    "        Information about the DataFrame\n",
    "    \"\"\"\n",
    "\n",
    "    features_dtypes = df.dtypes\n",
    "    rows,columns = df.shape\n",
    "\n",
    "    missing_cols = missing_col(df)\n",
    "    features_names = missing_cols.index.values\n",
    "    missing_values = missing_cols.values\n",
    "\n",
    "    print('=' * 50)\n",
    "    print('===> This data frame contains {} rows and {} columns'.format(rows,columns))\n",
    "    print('=' * 50)\n",
    "\n",
    "    print(\"{:13}{:13}{:30}{:15}\".format('Feature Name'.upper(),\n",
    "                                        'Data Format'.upper(),\n",
    "                                        'Number of Missing Values'.upper(),\n",
    "                                        'The first few samples'.upper()))\n",
    "\n",
    "    for features_names, features_dtypes, missing_values in zip(features_names,features_dtypes[features_names],missing_values):\n",
    "        print('{:15} {:14} {:20}'.format(features_names, str(features_dtypes), str(missing_values) + '-' +\n",
    "                                         str(round(100*missing_values/sum(missing_cols),3))+' %'), end=\" \")\n",
    "\n",
    "        for i in range(5):\n",
    "            print(df[features_names].iloc[i], end=\",\")\n",
    "\n",
    "        print(\"=\"*50)"
   ],
   "metadata": {
    "collapsed": false,
    "ExecuteTime": {
     "end_time": "2023-12-14T02:27:33.253158Z",
     "start_time": "2023-12-14T02:27:33.099136Z"
    }
   }
  },
  {
   "cell_type": "code",
   "execution_count": 14,
   "outputs": [
    {
     "name": "stdout",
     "output_type": "stream",
     "text": [
      "==================================================\n",
      "===> This data frame contains 99441 rows and 5 columns\n",
      "==================================================\n",
      "FEATURE NAME DATA FORMAT  NUMBER OF MISSING VALUES      THE FIRST FEW SAMPLES\n",
      "customer_id     object         0-nan %              06b8999e2fba1a1fbc88172c00ba8bc7,18955e83d337fd6b2def6b18a428ac77,4e7b3e00288586ebd08712fdd0374a03,b2b6027bc5c5109e529d4dc6358b12c3,4f2d8ab171c80ec8364f7c12e35b23ad,==================================================\n",
      "customer_unique_id object         0-nan %              861eff4711a542e4b93843c6dd7febb0,290c77bc529b7ac935b93aa66c333dc3,060e732b5b29e8181a18229c7b0b2b5e,259dac757896d24d7702b9acbbff3f3c,345ecd01c38d18a9036ed96c73b8d066,==================================================\n",
      "customer_zip_code_prefix int64          0-nan %              14409,9790,1151,8775,13056,==================================================\n",
      "customer_city   object         0-nan %              franca,sao bernardo do campo,sao paulo,mogi das cruzes,campinas,==================================================\n",
      "customer_state  object         0-nan %              SP,SP,SP,SP,SP,==================================================\n"
     ]
    }
   ],
   "source": [
    "df_info_(customers)"
   ],
   "metadata": {
    "collapsed": false,
    "ExecuteTime": {
     "end_time": "2023-12-14T02:27:33.321826Z",
     "start_time": "2023-12-14T02:27:33.129715Z"
    }
   }
  },
  {
   "cell_type": "code",
   "execution_count": 15,
   "outputs": [
    {
     "name": "stdout",
     "output_type": "stream",
     "text": [
      "==================================================\n",
      "===> This data frame contains 32951 rows and 9 columns\n",
      "==================================================\n",
      "FEATURE NAME DATA FORMAT  NUMBER OF MISSING VALUES      THE FIRST FEW SAMPLES\n",
      "product_category_name object         610-24.918 %         perfumaria,artes,esporte_lazer,bebes,utilidades_domesticas,==================================================\n",
      "product_name_lenght float64        610-24.918 %         40.0,44.0,46.0,27.0,37.0,==================================================\n",
      "product_description_lenght float64        610-24.918 %         287.0,276.0,250.0,261.0,402.0,==================================================\n",
      "product_photos_qty float64        610-24.918 %         1.0,1.0,1.0,1.0,4.0,==================================================\n",
      "product_weight_g float64        2-0.082 %            225.0,1000.0,154.0,371.0,625.0,==================================================\n",
      "product_length_cm float64        2-0.082 %            16.0,30.0,18.0,26.0,20.0,==================================================\n",
      "product_height_cm float64        2-0.082 %            10.0,18.0,9.0,4.0,17.0,==================================================\n",
      "product_width_cm float64        2-0.082 %            14.0,20.0,15.0,26.0,13.0,==================================================\n",
      "product_id      object         0-0.0 %              1e9e8ef04dbcff4541ed26657ea517e5,3aa071139cb16b67ca9e5dea641aaa2f,96bd76ec8810374ed1b65e291975717f,cef67bcfe19066a932b7673e239eb23d,9dc1a7de274444849c219cff195d0b71,==================================================\n"
     ]
    }
   ],
   "source": [
    "df_info_(products)"
   ],
   "metadata": {
    "collapsed": false,
    "ExecuteTime": {
     "end_time": "2023-12-14T02:27:33.459846Z",
     "start_time": "2023-12-14T02:27:33.144022Z"
    }
   }
  },
  {
   "cell_type": "code",
   "execution_count": 16,
   "outputs": [
    {
     "name": "stdout",
     "output_type": "stream",
     "text": [
      "==================================================\n",
      "===> This data frame contains 3095 rows and 4 columns\n",
      "==================================================\n",
      "FEATURE NAME DATA FORMAT  NUMBER OF MISSING VALUES      THE FIRST FEW SAMPLES\n",
      "seller_id       object         0-nan %              3442f8959a84dea7ee197c632cb2df15,d1b65fc7debc3361ea86b5f14c68d2e2,ce3ad9de960102d0677a81f5d0bb7b2d,c0f3eea2e14555b6faeea3dd58c1b1c3,51a04a8a6bdcb23deccc82b0b80742cf,==================================================\n",
      "seller_zip_code_prefix int64          0-nan %              13023,13844,20031,4195,12914,==================================================\n",
      "seller_city     object         0-nan %              campinas,mogi guacu,rio de janeiro,sao paulo,braganca paulista,==================================================\n",
      "seller_state    object         0-nan %              SP,SP,RJ,SP,SP,==================================================\n"
     ]
    }
   ],
   "source": [
    "df_info_(sellers)"
   ],
   "metadata": {
    "collapsed": false,
    "ExecuteTime": {
     "end_time": "2023-12-14T02:27:33.461291Z",
     "start_time": "2023-12-14T02:27:33.157120Z"
    }
   }
  },
  {
   "cell_type": "code",
   "execution_count": 17,
   "outputs": [
    {
     "name": "stdout",
     "output_type": "stream",
     "text": [
      "==================================================\n",
      "===> This data frame contains 99441 rows and 8 columns\n",
      "==================================================\n",
      "FEATURE NAME DATA FORMAT  NUMBER OF MISSING VALUES      THE FIRST FEW SAMPLES\n",
      "order_delivered_customer_date object         2965-60.412 %        2017-10-10 21:25:13,2018-08-07 15:27:45,2018-08-17 18:06:29,2017-12-02 00:28:42,2018-02-16 18:17:02,==================================================\n",
      "order_delivered_carrier_date object         1783-36.328 %        2017-10-04 19:55:00,2018-07-26 14:31:00,2018-08-08 13:50:00,2017-11-22 13:39:59,2018-02-14 19:46:34,==================================================\n",
      "order_approved_at object         160-3.26 %           2017-10-02 11:07:15,2018-07-26 03:24:27,2018-08-08 08:55:23,2017-11-18 19:45:59,2018-02-13 22:20:29,==================================================\n",
      "order_id        object         0-0.0 %              e481f51cbdc54678b7cc49136f2d6af7,53cdb2fc8bc7dce0b6741e2150273451,47770eb9100c2d0c44946d9cf07ec65d,949d5b44dbf5de918fe9c16f97b45f8a,ad21c59c0840e6cb83a9ceb5573f8159,==================================================\n",
      "customer_id     object         0-0.0 %              9ef432eb6251297304e76186b10a928d,b0830fb4747a6c6d20dea0b8c802d7ef,41ce2a54c0b03bf3443c3d931a367089,f88197465ea7920adcdbec7375364d82,8ab97904e6daea8866dbdbc4fb7aad2c,==================================================\n",
      "order_status    object         0-0.0 %              delivered,delivered,delivered,delivered,delivered,==================================================\n",
      "order_purchase_timestamp object         0-0.0 %              2017-10-02 10:56:33,2018-07-24 20:41:37,2018-08-08 08:38:49,2017-11-18 19:28:06,2018-02-13 21:18:39,==================================================\n",
      "order_estimated_delivery_date object         0-0.0 %              2017-10-18 00:00:00,2018-08-13 00:00:00,2018-09-04 00:00:00,2017-12-15 00:00:00,2018-02-26 00:00:00,==================================================\n"
     ]
    }
   ],
   "source": [
    "df_info_(order_dataset)"
   ],
   "metadata": {
    "collapsed": false,
    "ExecuteTime": {
     "end_time": "2023-12-14T02:27:33.498604Z",
     "start_time": "2023-12-14T02:27:33.215887Z"
    }
   }
  },
  {
   "cell_type": "markdown",
   "source": [
    "# Data Processing"
   ],
   "metadata": {
    "collapsed": false
   }
  },
  {
   "cell_type": "code",
   "execution_count": 18,
   "outputs": [],
   "source": [
    "df_train = order_dataset.merge(order_items, on='order_id', how='left')\n",
    "#df_train = df_train.merge(order_payment, on = 'order_id', how = '')\n",
    "#df_train = df_train.merge(df_order_pay, on='order_id', how='outer', validate='m:m')\n",
    "#df_train = df_train.merge(df_reviews, on='order_id', how='outer')\n",
    "#df_train = df_train.merge(df_products, on='product_id', how='outer')\n",
    "#df_train = df_train.merge(df_customers, on='customer_id', how='outer')\n",
    "#df_train = df_train.merge(df_sellers, on='seller_id', how='outer')"
   ],
   "metadata": {
    "collapsed": false,
    "ExecuteTime": {
     "end_time": "2023-12-14T02:27:33.899140Z",
     "start_time": "2023-12-14T02:27:33.224747Z"
    }
   }
  },
  {
   "cell_type": "code",
   "execution_count": 19,
   "outputs": [
    {
     "data": {
      "text/plain": "                           order_id                       customer_id  \\\n0  e481f51cbdc54678b7cc49136f2d6af7  9ef432eb6251297304e76186b10a928d   \n1  53cdb2fc8bc7dce0b6741e2150273451  b0830fb4747a6c6d20dea0b8c802d7ef   \n2  47770eb9100c2d0c44946d9cf07ec65d  41ce2a54c0b03bf3443c3d931a367089   \n3  949d5b44dbf5de918fe9c16f97b45f8a  f88197465ea7920adcdbec7375364d82   \n4  ad21c59c0840e6cb83a9ceb5573f8159  8ab97904e6daea8866dbdbc4fb7aad2c   \n\n  order_status order_purchase_timestamp    order_approved_at  \\\n0    delivered      2017-10-02 10:56:33  2017-10-02 11:07:15   \n1    delivered      2018-07-24 20:41:37  2018-07-26 03:24:27   \n2    delivered      2018-08-08 08:38:49  2018-08-08 08:55:23   \n3    delivered      2017-11-18 19:28:06  2017-11-18 19:45:59   \n4    delivered      2018-02-13 21:18:39  2018-02-13 22:20:29   \n\n  order_delivered_carrier_date order_delivered_customer_date  \\\n0          2017-10-04 19:55:00           2017-10-10 21:25:13   \n1          2018-07-26 14:31:00           2018-08-07 15:27:45   \n2          2018-08-08 13:50:00           2018-08-17 18:06:29   \n3          2017-11-22 13:39:59           2017-12-02 00:28:42   \n4          2018-02-14 19:46:34           2018-02-16 18:17:02   \n\n  order_estimated_delivery_date  order_item_id  \\\n0           2017-10-18 00:00:00            1.0   \n1           2018-08-13 00:00:00            1.0   \n2           2018-09-04 00:00:00            1.0   \n3           2017-12-15 00:00:00            1.0   \n4           2018-02-26 00:00:00            1.0   \n\n                         product_id                         seller_id  \\\n0  87285b34884572647811a353c7ac498a  3504c0cb71d7fa48d967e0e4c94d59d9   \n1  595fac2a385ac33a80bd5114aec74eb8  289cdb325fb7e7f891c38608bf9e0962   \n2  aa4383b373c6aca5d8797843e5594415  4869f7a5dfa277a7dca6462dcf3b52b2   \n3  d0b61bfb1de832b15ba9d266ca96e5b0  66922902710d126a0e7d26b0e3805106   \n4  65266b2da20d04dbe00c5c2d3bb7859e  2c9e548be18521d1c43cde1c582c6de8   \n\n   shipping_limit_date   price  freight_value  \n0  2017-10-06 11:07:15   29.99           8.72  \n1  2018-07-30 03:24:27  118.70          22.76  \n2  2018-08-13 08:55:23  159.90          19.22  \n3  2017-11-23 19:45:59   45.00          27.20  \n4  2018-02-19 20:31:37   19.90           8.72  ",
      "text/html": "<div>\n<style scoped>\n    .dataframe tbody tr th:only-of-type {\n        vertical-align: middle;\n    }\n\n    .dataframe tbody tr th {\n        vertical-align: top;\n    }\n\n    .dataframe thead th {\n        text-align: right;\n    }\n</style>\n<table border=\"1\" class=\"dataframe\">\n  <thead>\n    <tr style=\"text-align: right;\">\n      <th></th>\n      <th>order_id</th>\n      <th>customer_id</th>\n      <th>order_status</th>\n      <th>order_purchase_timestamp</th>\n      <th>order_approved_at</th>\n      <th>order_delivered_carrier_date</th>\n      <th>order_delivered_customer_date</th>\n      <th>order_estimated_delivery_date</th>\n      <th>order_item_id</th>\n      <th>product_id</th>\n      <th>seller_id</th>\n      <th>shipping_limit_date</th>\n      <th>price</th>\n      <th>freight_value</th>\n    </tr>\n  </thead>\n  <tbody>\n    <tr>\n      <th>0</th>\n      <td>e481f51cbdc54678b7cc49136f2d6af7</td>\n      <td>9ef432eb6251297304e76186b10a928d</td>\n      <td>delivered</td>\n      <td>2017-10-02 10:56:33</td>\n      <td>2017-10-02 11:07:15</td>\n      <td>2017-10-04 19:55:00</td>\n      <td>2017-10-10 21:25:13</td>\n      <td>2017-10-18 00:00:00</td>\n      <td>1.0</td>\n      <td>87285b34884572647811a353c7ac498a</td>\n      <td>3504c0cb71d7fa48d967e0e4c94d59d9</td>\n      <td>2017-10-06 11:07:15</td>\n      <td>29.99</td>\n      <td>8.72</td>\n    </tr>\n    <tr>\n      <th>1</th>\n      <td>53cdb2fc8bc7dce0b6741e2150273451</td>\n      <td>b0830fb4747a6c6d20dea0b8c802d7ef</td>\n      <td>delivered</td>\n      <td>2018-07-24 20:41:37</td>\n      <td>2018-07-26 03:24:27</td>\n      <td>2018-07-26 14:31:00</td>\n      <td>2018-08-07 15:27:45</td>\n      <td>2018-08-13 00:00:00</td>\n      <td>1.0</td>\n      <td>595fac2a385ac33a80bd5114aec74eb8</td>\n      <td>289cdb325fb7e7f891c38608bf9e0962</td>\n      <td>2018-07-30 03:24:27</td>\n      <td>118.70</td>\n      <td>22.76</td>\n    </tr>\n    <tr>\n      <th>2</th>\n      <td>47770eb9100c2d0c44946d9cf07ec65d</td>\n      <td>41ce2a54c0b03bf3443c3d931a367089</td>\n      <td>delivered</td>\n      <td>2018-08-08 08:38:49</td>\n      <td>2018-08-08 08:55:23</td>\n      <td>2018-08-08 13:50:00</td>\n      <td>2018-08-17 18:06:29</td>\n      <td>2018-09-04 00:00:00</td>\n      <td>1.0</td>\n      <td>aa4383b373c6aca5d8797843e5594415</td>\n      <td>4869f7a5dfa277a7dca6462dcf3b52b2</td>\n      <td>2018-08-13 08:55:23</td>\n      <td>159.90</td>\n      <td>19.22</td>\n    </tr>\n    <tr>\n      <th>3</th>\n      <td>949d5b44dbf5de918fe9c16f97b45f8a</td>\n      <td>f88197465ea7920adcdbec7375364d82</td>\n      <td>delivered</td>\n      <td>2017-11-18 19:28:06</td>\n      <td>2017-11-18 19:45:59</td>\n      <td>2017-11-22 13:39:59</td>\n      <td>2017-12-02 00:28:42</td>\n      <td>2017-12-15 00:00:00</td>\n      <td>1.0</td>\n      <td>d0b61bfb1de832b15ba9d266ca96e5b0</td>\n      <td>66922902710d126a0e7d26b0e3805106</td>\n      <td>2017-11-23 19:45:59</td>\n      <td>45.00</td>\n      <td>27.20</td>\n    </tr>\n    <tr>\n      <th>4</th>\n      <td>ad21c59c0840e6cb83a9ceb5573f8159</td>\n      <td>8ab97904e6daea8866dbdbc4fb7aad2c</td>\n      <td>delivered</td>\n      <td>2018-02-13 21:18:39</td>\n      <td>2018-02-13 22:20:29</td>\n      <td>2018-02-14 19:46:34</td>\n      <td>2018-02-16 18:17:02</td>\n      <td>2018-02-26 00:00:00</td>\n      <td>1.0</td>\n      <td>65266b2da20d04dbe00c5c2d3bb7859e</td>\n      <td>2c9e548be18521d1c43cde1c582c6de8</td>\n      <td>2018-02-19 20:31:37</td>\n      <td>19.90</td>\n      <td>8.72</td>\n    </tr>\n  </tbody>\n</table>\n</div>"
     },
     "execution_count": 19,
     "metadata": {},
     "output_type": "execute_result"
    }
   ],
   "source": [
    "df_train.head()"
   ],
   "metadata": {
    "collapsed": false,
    "ExecuteTime": {
     "end_time": "2023-12-14T02:27:33.921974Z",
     "start_time": "2023-12-14T02:27:33.380318Z"
    }
   }
  },
  {
   "cell_type": "code",
   "execution_count": null,
   "outputs": [],
   "source": [
    "customers = pd.read_csv(path + 'olist_customers_dataset.csv')\n",
    "geolocation = pd.read_csv(path + 'olist_geolocation_dataset.csv')\n",
    "order_items = pd.read_csv(path + 'olist_order_items_dataset.csv')\n",
    "order_payment = pd.read_csv(path + 'olist_order_payments_dataset.csv')\n",
    "order_reviews = pd.read_csv(path + 'olist_order_reviews_dataset.csv')\n",
    "order_dataset = pd.read_csv(path + 'olist_orders_dataset.csv')\n",
    "products = pd.read_csv(path + 'olist_products_dataset.csv')\n",
    "sellers = pd.read_csv(path + 'olist_sellers_dataset.csv')\n",
    "product_category = pd.read_csv(path + 'product_category_name_translation.csv')"
   ],
   "metadata": {
    "collapsed": false
   }
  },
  {
   "cell_type": "code",
   "execution_count": 21,
   "outputs": [
    {
     "data": {
      "text/plain": "                           order_id  payment_sequential payment_type  \\\n0  b81ef226f3fe1789b1e8b2acac839d17                   1  credit_card   \n1  a9810da82917af2d9aefd1278f1dcfa0                   1  credit_card   \n2  25e8ea4e93396b6fa0d3dd708e76c1bd                   1  credit_card   \n3  ba78997921bbcdc1373bb41e913ab953                   1  credit_card   \n4  42fdf880ba16b47b59251dd489d4441a                   1  credit_card   \n\n   payment_installments  payment_value  \n0                     8          99.33  \n1                     1          24.39  \n2                     1          65.71  \n3                     8         107.78  \n4                     2         128.45  ",
      "text/html": "<div>\n<style scoped>\n    .dataframe tbody tr th:only-of-type {\n        vertical-align: middle;\n    }\n\n    .dataframe tbody tr th {\n        vertical-align: top;\n    }\n\n    .dataframe thead th {\n        text-align: right;\n    }\n</style>\n<table border=\"1\" class=\"dataframe\">\n  <thead>\n    <tr style=\"text-align: right;\">\n      <th></th>\n      <th>order_id</th>\n      <th>payment_sequential</th>\n      <th>payment_type</th>\n      <th>payment_installments</th>\n      <th>payment_value</th>\n    </tr>\n  </thead>\n  <tbody>\n    <tr>\n      <th>0</th>\n      <td>b81ef226f3fe1789b1e8b2acac839d17</td>\n      <td>1</td>\n      <td>credit_card</td>\n      <td>8</td>\n      <td>99.33</td>\n    </tr>\n    <tr>\n      <th>1</th>\n      <td>a9810da82917af2d9aefd1278f1dcfa0</td>\n      <td>1</td>\n      <td>credit_card</td>\n      <td>1</td>\n      <td>24.39</td>\n    </tr>\n    <tr>\n      <th>2</th>\n      <td>25e8ea4e93396b6fa0d3dd708e76c1bd</td>\n      <td>1</td>\n      <td>credit_card</td>\n      <td>1</td>\n      <td>65.71</td>\n    </tr>\n    <tr>\n      <th>3</th>\n      <td>ba78997921bbcdc1373bb41e913ab953</td>\n      <td>1</td>\n      <td>credit_card</td>\n      <td>8</td>\n      <td>107.78</td>\n    </tr>\n    <tr>\n      <th>4</th>\n      <td>42fdf880ba16b47b59251dd489d4441a</td>\n      <td>1</td>\n      <td>credit_card</td>\n      <td>2</td>\n      <td>128.45</td>\n    </tr>\n  </tbody>\n</table>\n</div>"
     },
     "execution_count": 21,
     "metadata": {},
     "output_type": "execute_result"
    }
   ],
   "source": [
    "order_payment.head()"
   ],
   "metadata": {
    "collapsed": false,
    "ExecuteTime": {
     "end_time": "2023-12-11T13:37:59.554983Z",
     "start_time": "2023-12-11T13:37:59.544178Z"
    }
   }
  },
  {
   "cell_type": "code",
   "execution_count": 25,
   "outputs": [
    {
     "data": {
      "text/plain": "                         product_id  product_category_name  \\\n0  1e9e8ef04dbcff4541ed26657ea517e5             perfumaria   \n1  3aa071139cb16b67ca9e5dea641aaa2f                  artes   \n2  96bd76ec8810374ed1b65e291975717f          esporte_lazer   \n3  cef67bcfe19066a932b7673e239eb23d                  bebes   \n4  9dc1a7de274444849c219cff195d0b71  utilidades_domesticas   \n\n   product_name_lenght  product_description_lenght  product_photos_qty  \\\n0                 40.0                       287.0                 1.0   \n1                 44.0                       276.0                 1.0   \n2                 46.0                       250.0                 1.0   \n3                 27.0                       261.0                 1.0   \n4                 37.0                       402.0                 4.0   \n\n   product_weight_g  product_length_cm  product_height_cm  product_width_cm  \n0             225.0               16.0               10.0              14.0  \n1            1000.0               30.0               18.0              20.0  \n2             154.0               18.0                9.0              15.0  \n3             371.0               26.0                4.0              26.0  \n4             625.0               20.0               17.0              13.0  ",
      "text/html": "<div>\n<style scoped>\n    .dataframe tbody tr th:only-of-type {\n        vertical-align: middle;\n    }\n\n    .dataframe tbody tr th {\n        vertical-align: top;\n    }\n\n    .dataframe thead th {\n        text-align: right;\n    }\n</style>\n<table border=\"1\" class=\"dataframe\">\n  <thead>\n    <tr style=\"text-align: right;\">\n      <th></th>\n      <th>product_id</th>\n      <th>product_category_name</th>\n      <th>product_name_lenght</th>\n      <th>product_description_lenght</th>\n      <th>product_photos_qty</th>\n      <th>product_weight_g</th>\n      <th>product_length_cm</th>\n      <th>product_height_cm</th>\n      <th>product_width_cm</th>\n    </tr>\n  </thead>\n  <tbody>\n    <tr>\n      <th>0</th>\n      <td>1e9e8ef04dbcff4541ed26657ea517e5</td>\n      <td>perfumaria</td>\n      <td>40.0</td>\n      <td>287.0</td>\n      <td>1.0</td>\n      <td>225.0</td>\n      <td>16.0</td>\n      <td>10.0</td>\n      <td>14.0</td>\n    </tr>\n    <tr>\n      <th>1</th>\n      <td>3aa071139cb16b67ca9e5dea641aaa2f</td>\n      <td>artes</td>\n      <td>44.0</td>\n      <td>276.0</td>\n      <td>1.0</td>\n      <td>1000.0</td>\n      <td>30.0</td>\n      <td>18.0</td>\n      <td>20.0</td>\n    </tr>\n    <tr>\n      <th>2</th>\n      <td>96bd76ec8810374ed1b65e291975717f</td>\n      <td>esporte_lazer</td>\n      <td>46.0</td>\n      <td>250.0</td>\n      <td>1.0</td>\n      <td>154.0</td>\n      <td>18.0</td>\n      <td>9.0</td>\n      <td>15.0</td>\n    </tr>\n    <tr>\n      <th>3</th>\n      <td>cef67bcfe19066a932b7673e239eb23d</td>\n      <td>bebes</td>\n      <td>27.0</td>\n      <td>261.0</td>\n      <td>1.0</td>\n      <td>371.0</td>\n      <td>26.0</td>\n      <td>4.0</td>\n      <td>26.0</td>\n    </tr>\n    <tr>\n      <th>4</th>\n      <td>9dc1a7de274444849c219cff195d0b71</td>\n      <td>utilidades_domesticas</td>\n      <td>37.0</td>\n      <td>402.0</td>\n      <td>4.0</td>\n      <td>625.0</td>\n      <td>20.0</td>\n      <td>17.0</td>\n      <td>13.0</td>\n    </tr>\n  </tbody>\n</table>\n</div>"
     },
     "execution_count": 25,
     "metadata": {},
     "output_type": "execute_result"
    }
   ],
   "source": [
    "products.head()"
   ],
   "metadata": {
    "collapsed": false,
    "ExecuteTime": {
     "end_time": "2023-12-11T13:55:42.939615Z",
     "start_time": "2023-12-11T13:55:42.917899Z"
    }
   }
  },
  {
   "cell_type": "code",
   "execution_count": 26,
   "outputs": [
    {
     "data": {
      "text/plain": "                           order_id  order_item_id  \\\n0  00010242fe8c5a6d1ba2dd792cb16214              1   \n1  00018f77f2f0320c557190d7a144bdd3              1   \n2  000229ec398224ef6ca0657da4fc703e              1   \n3  00024acbcdf0a6daa1e931b038114c75              1   \n4  00042b26cf59d7ce69dfabb4e55b4fd9              1   \n\n                         product_id                         seller_id  \\\n0  4244733e06e7ecb4970a6e2683c13e61  48436dade18ac8b2bce089ec2a041202   \n1  e5f2d52b802189ee658865ca93d83a8f  dd7ddc04e1b6c2c614352b383efe2d36   \n2  c777355d18b72b67abbeef9df44fd0fd  5b51032eddd242adc84c38acab88f23d   \n3  7634da152a4610f1595efa32f14722fc  9d7a1d34a5052409006425275ba1c2b4   \n4  ac6c3623068f30de03045865e4e10089  df560393f3a51e74553ab94004ba5c87   \n\n   shipping_limit_date   price  freight_value  \n0  2017-09-19 09:45:35   58.90          13.29  \n1  2017-05-03 11:05:13  239.90          19.93  \n2  2018-01-18 14:48:30  199.00          17.87  \n3  2018-08-15 10:10:18   12.99          12.79  \n4  2017-02-13 13:57:51  199.90          18.14  ",
      "text/html": "<div>\n<style scoped>\n    .dataframe tbody tr th:only-of-type {\n        vertical-align: middle;\n    }\n\n    .dataframe tbody tr th {\n        vertical-align: top;\n    }\n\n    .dataframe thead th {\n        text-align: right;\n    }\n</style>\n<table border=\"1\" class=\"dataframe\">\n  <thead>\n    <tr style=\"text-align: right;\">\n      <th></th>\n      <th>order_id</th>\n      <th>order_item_id</th>\n      <th>product_id</th>\n      <th>seller_id</th>\n      <th>shipping_limit_date</th>\n      <th>price</th>\n      <th>freight_value</th>\n    </tr>\n  </thead>\n  <tbody>\n    <tr>\n      <th>0</th>\n      <td>00010242fe8c5a6d1ba2dd792cb16214</td>\n      <td>1</td>\n      <td>4244733e06e7ecb4970a6e2683c13e61</td>\n      <td>48436dade18ac8b2bce089ec2a041202</td>\n      <td>2017-09-19 09:45:35</td>\n      <td>58.90</td>\n      <td>13.29</td>\n    </tr>\n    <tr>\n      <th>1</th>\n      <td>00018f77f2f0320c557190d7a144bdd3</td>\n      <td>1</td>\n      <td>e5f2d52b802189ee658865ca93d83a8f</td>\n      <td>dd7ddc04e1b6c2c614352b383efe2d36</td>\n      <td>2017-05-03 11:05:13</td>\n      <td>239.90</td>\n      <td>19.93</td>\n    </tr>\n    <tr>\n      <th>2</th>\n      <td>000229ec398224ef6ca0657da4fc703e</td>\n      <td>1</td>\n      <td>c777355d18b72b67abbeef9df44fd0fd</td>\n      <td>5b51032eddd242adc84c38acab88f23d</td>\n      <td>2018-01-18 14:48:30</td>\n      <td>199.00</td>\n      <td>17.87</td>\n    </tr>\n    <tr>\n      <th>3</th>\n      <td>00024acbcdf0a6daa1e931b038114c75</td>\n      <td>1</td>\n      <td>7634da152a4610f1595efa32f14722fc</td>\n      <td>9d7a1d34a5052409006425275ba1c2b4</td>\n      <td>2018-08-15 10:10:18</td>\n      <td>12.99</td>\n      <td>12.79</td>\n    </tr>\n    <tr>\n      <th>4</th>\n      <td>00042b26cf59d7ce69dfabb4e55b4fd9</td>\n      <td>1</td>\n      <td>ac6c3623068f30de03045865e4e10089</td>\n      <td>df560393f3a51e74553ab94004ba5c87</td>\n      <td>2017-02-13 13:57:51</td>\n      <td>199.90</td>\n      <td>18.14</td>\n    </tr>\n  </tbody>\n</table>\n</div>"
     },
     "execution_count": 26,
     "metadata": {},
     "output_type": "execute_result"
    }
   ],
   "source": [
    "order_items.head()"
   ],
   "metadata": {
    "collapsed": false,
    "ExecuteTime": {
     "end_time": "2023-12-11T13:56:04.944213Z",
     "start_time": "2023-12-11T13:56:04.932296Z"
    }
   }
  },
  {
   "cell_type": "markdown",
   "source": [
    "# Data Visualisation"
   ],
   "metadata": {
    "collapsed": false
   }
  },
  {
   "cell_type": "code",
   "execution_count": 29,
   "outputs": [
    {
     "data": {
      "text/plain": "<Figure size 432x288 with 1 Axes>",
      "image/png": "[encoded data removed]"
     },
     "metadata": {},
     "output_type": "display_data"
    },
    {
     "data": {
      "text/plain": "<Figure size 432x288 with 1 Axes>",
      "image/png": "[encoded data removed]"
     },
     "metadata": {},
     "output_type": "display_data"
    }
   ],
   "source": [
    "# order_payment values\n",
    "payments = order_payment.groupby(['payment_type'])['payment_value'].agg(['count','sum']).reset_index()\n",
    "# Pie chart to show percentaile\n",
    "# \n",
    "#payments.head()\n",
    "\n",
    "plt.pie(payments['count'],labels = payments['payment_type'],autopct = '%.2f %%')\n",
    "plt.title('Payment Type in count')\n",
    "\n",
    "plt.show()\n",
    "\n",
    "\n",
    "plt.pie(payments['sum'],labels = payments['payment_type'],autopct = '%.2f %%')\n",
    "plt.title('Payment Type in Summary')\n",
    "\n",
    "plt.show()"
   ],
   "metadata": {
    "collapsed": false,
    "ExecuteTime": {
     "end_time": "2023-12-14T02:37:56.021395Z",
     "start_time": "2023-12-14T02:37:55.833172Z"
    }
   }
  },
  {
   "cell_type": "code",
   "execution_count": null,
   "outputs": [],
   "source": [
    "# which city customer comes the most\n",
    "customer_city = customers.groupby(['customer_id','customer_city'])['customer_city'].agg(['count']).reset_index().sort_values(by = 'count', ascending = True)\n",
    "customer_city.head()\n",
    "# Bar chart to show cities count\n",
    "sns.factorplot(x=\"count\", y=\"customer_city\", data = customer_city, kind=\"bar\", size=8, aspect=1.9,row_order = 'count')\n",
    "plt.title('# of Record by Country')"
   ],
   "metadata": {
    "collapsed": false,
    "is_executing": true,
    "ExecuteTime": {
     "start_time": "2023-12-14T02:39:01.438932Z"
    }
   }
  },
  {
   "cell_type": "code",
   "execution_count": 20,
   "outputs": [
    {
     "data": {
      "text/plain": "                        customer_id                customer_unique_id  \\\n0  06b8999e2fba1a1fbc88172c00ba8bc7  861eff4711a542e4b93843c6dd7febb0   \n1  18955e83d337fd6b2def6b18a428ac77  290c77bc529b7ac935b93aa66c333dc3   \n2  4e7b3e00288586ebd08712fdd0374a03  060e732b5b29e8181a18229c7b0b2b5e   \n3  b2b6027bc5c5109e529d4dc6358b12c3  259dac757896d24d7702b9acbbff3f3c   \n4  4f2d8ab171c80ec8364f7c12e35b23ad  345ecd01c38d18a9036ed96c73b8d066   \n\n   customer_zip_code_prefix          customer_city customer_state  \n0                     14409                 franca             SP  \n1                      9790  sao bernardo do campo             SP  \n2                      1151              sao paulo             SP  \n3                      8775        mogi das cruzes             SP  \n4                     13056               campinas             SP  ",
      "text/html": "<div>\n<style scoped>\n    .dataframe tbody tr th:only-of-type {\n        vertical-align: middle;\n    }\n\n    .dataframe tbody tr th {\n        vertical-align: top;\n    }\n\n    .dataframe thead th {\n        text-align: right;\n    }\n</style>\n<table border=\"1\" class=\"dataframe\">\n  <thead>\n    <tr style=\"text-align: right;\">\n      <th></th>\n      <th>customer_id</th>\n      <th>customer_unique_id</th>\n      <th>customer_zip_code_prefix</th>\n      <th>customer_city</th>\n      <th>customer_state</th>\n    </tr>\n  </thead>\n  <tbody>\n    <tr>\n      <th>0</th>\n      <td>06b8999e2fba1a1fbc88172c00ba8bc7</td>\n      <td>861eff4711a542e4b93843c6dd7febb0</td>\n      <td>14409</td>\n      <td>franca</td>\n      <td>SP</td>\n    </tr>\n    <tr>\n      <th>1</th>\n      <td>18955e83d337fd6b2def6b18a428ac77</td>\n      <td>290c77bc529b7ac935b93aa66c333dc3</td>\n      <td>9790</td>\n      <td>sao bernardo do campo</td>\n      <td>SP</td>\n    </tr>\n    <tr>\n      <th>2</th>\n      <td>4e7b3e00288586ebd08712fdd0374a03</td>\n      <td>060e732b5b29e8181a18229c7b0b2b5e</td>\n      <td>1151</td>\n      <td>sao paulo</td>\n      <td>SP</td>\n    </tr>\n    <tr>\n      <th>3</th>\n      <td>b2b6027bc5c5109e529d4dc6358b12c3</td>\n      <td>259dac757896d24d7702b9acbbff3f3c</td>\n      <td>8775</td>\n      <td>mogi das cruzes</td>\n      <td>SP</td>\n    </tr>\n    <tr>\n      <th>4</th>\n      <td>4f2d8ab171c80ec8364f7c12e35b23ad</td>\n      <td>345ecd01c38d18a9036ed96c73b8d066</td>\n      <td>13056</td>\n      <td>campinas</td>\n      <td>SP</td>\n    </tr>\n  </tbody>\n</table>\n</div>"
     },
     "execution_count": 20,
     "metadata": {},
     "output_type": "execute_result"
    }
   ],
   "source": [
    "customers.head()"
   ],
   "metadata": {
    "collapsed": false,
    "ExecuteTime": {
     "end_time": "2023-12-14T02:28:24.794953Z",
     "start_time": "2023-12-14T02:28:24.773394Z"
    }
   }
  },
  {
   "cell_type": "code",
   "execution_count": null,
   "outputs": [],
   "source": [],
   "metadata": {
    "collapsed": false
   }
  }
 ],
 "metadata": {
  "kernelspec": {
   "display_name": "Python 3",
   "language": "python",
   "name": "python3"
  },
  "language_info": {
   "codemirror_mode": {
    "name": "ipython",
    "version": 2
   },
   "file_extension": ".py",
   "mimetype": "text/x-python",
   "name": "python",
   "nbconvert_exporter": "python",
   "pygments_lexer": "ipython2",
   "version": "2.7.6"
  }
 },
 "nbformat": 4,
 "nbformat_minor": 0
}
