{
 "cells": [
  {
   "cell_type": "code",
   "execution_count": 1,
   "id": "initial_id",
   "metadata": {
    "collapsed": true,
    "ExecuteTime": {
     "end_time": "2024-02-10T11:34:59.983711Z",
     "start_time": "2024-02-10T11:34:59.979003Z"
    }
   },
   "outputs": [],
   "source": [
    "import pandas as pd\n",
    "import matplotlib.pyplot as plt\n",
    "import seaborn as sns\n",
    "import re\n",
    "import numpy as np\n",
    "\n",
    "import nltk\n",
    "from nltk.stem import RSLPStemmer\n",
    "nltk.download('rslp')\n",
    "import string\n",
    "\n",
    "\n",
    "from data_process import master\n",
    "\n",
    "\n",
    "from deep_translator import GoogleTranslator\n",
    "\n",
    "from sklearn.base import BaseEstimator, TransformerMixin\n",
    "from sklearn.pipeline import Pipeline\n",
    "from sklearn.feature_extraction.text import CountVectorizer, TfidfVectorizer\n",
    "from sklearn.ensemble import RandomForestClassifier\n",
    "from sklearn.naive_bayes import GaussianNB\n",
    "from sklearn.linear_model import LogisticRegression\n",
    "from sklearn.tree import DecisionTreeClassifier\n",
    "from sklearn.svm import SVC\n",
    "from sklearn.model_selection import cross_val_score, StratifiedKFold\n",
    "from sklearn.metrics import accuracy_score, roc_auc_score,confusion_matrix,f1_score\n",
    "\n"
   ]
  },
  {
   "cell_type": "code",
   "execution_count": null,
   "outputs": [],
   "source": [
    "# Load the data\n",
    "df = master()\n"
   ],
   "metadata": {
    "collapsed": false
   },
   "id": "ad7b2c2a15f43e4e"
  },
  {
   "cell_type": "markdown",
   "source": [
    "## New Customer Ratio"
   ],
   "metadata": {
    "collapsed": false
   },
   "id": "6adcc28826c7edc9"
  },
  {
   "cell_type": "code",
   "execution_count": null,
   "outputs": [],
   "source": [],
   "metadata": {
    "collapsed": false
   },
   "id": "d478ba67fab2a9bd"
  },
  {
   "cell_type": "markdown",
   "source": [
    "## RFM \n",
    "\n",
    "* Recency\n",
    "* Frequency\n",
    "* Monetary Value"
   ],
   "metadata": {
    "collapsed": false
   },
   "id": "934d123acf8b5872"
  },
  {
   "cell_type": "code",
   "execution_count": null,
   "outputs": [],
   "source": [
    "def customer_rfm(df):\n",
    "    df_recency = df.groupby(by = 'customer_id', as_index = False)['Purchase Date'].max()\n",
    "    df_recency.columns = ['Customer ID', 'Last Purchase Date']\n",
    "    \n",
    "    recent_date = df_recency['Last Purchase Date'].max()\n",
    "    df_recency['Recency'] = df_recency['Last Purchase Date'].apply(lambda x: (recent_date - x).days)\n",
    "    df_recency.head()\n",
    "    \n",
    "    frequency_df = df.drop_duplicates().groupby(by = ['customer id'], as_index = False)['Purchase Date'].count()\n",
    "    frequency_df.columns = ['Customer ID','Frequency']\n",
    "    \n",
    "    df['Total'] = df['Sales'] * df['Quantity']\n",
    "    monetary_df = df.groupby(by = ['customer_id'], as_index = False)['Total'].sum()\n",
    "    monetary_df.columns = ['customer_id', 'monetary']\n",
    "    \n",
    "    rf_df = df_recency.merge(frequency_df, on = 'customer_id', how = 'inner')\n",
    "    rfm_df = rf_df.merge(monetary_df, on = 'customer_id', how = 'inner').drop(columns = 'Last Purchase Date')\n",
    "    \n",
    "    return rfm_df\n"
   ],
   "metadata": {
    "collapsed": false
   },
   "id": "85f9092dc5e1d12"
  },
  {
   "cell_type": "code",
   "execution_count": null,
   "outputs": [],
   "source": [],
   "metadata": {
    "collapsed": false
   },
   "id": "2b6a9665f6b38fea"
  },
  {
   "cell_type": "code",
   "execution_count": null,
   "outputs": [],
   "source": [],
   "metadata": {
    "collapsed": false
   },
   "id": "3a3cfeefd184d506"
  },
  {
   "cell_type": "code",
   "execution_count": null,
   "outputs": [],
   "source": [],
   "metadata": {
    "collapsed": false
   },
   "id": "e8b07f32fb40cb8f"
  },
  {
   "cell_type": "markdown",
   "source": [
    "### K-means and DBSCAN"
   ],
   "metadata": {
    "collapsed": false
   },
   "id": "771f9593372f3d5a"
  },
  {
   "cell_type": "code",
   "execution_count": null,
   "outputs": [],
   "source": [],
   "metadata": {
    "collapsed": false
   },
   "id": "499abdbe7834c845"
  },
  {
   "cell_type": "code",
   "execution_count": null,
   "outputs": [],
   "source": [],
   "metadata": {
    "collapsed": false
   },
   "id": "57197a9d102cef87"
  },
  {
   "cell_type": "code",
   "execution_count": null,
   "outputs": [],
   "source": [],
   "metadata": {
    "collapsed": false
   },
   "id": "1d6a391c7308748b"
  },
  {
   "cell_type": "code",
   "execution_count": null,
   "outputs": [],
   "source": [],
   "metadata": {
    "collapsed": false
   },
   "id": "ecb440a52f62587a"
  },
  {
   "cell_type": "code",
   "execution_count": null,
   "outputs": [],
   "source": [],
   "metadata": {
    "collapsed": false
   },
   "id": "f4e89d2a114fd32b"
  },
  {
   "cell_type": "markdown",
   "source": [
    "Customer Lifetime Value (CLV)"
   ],
   "metadata": {
    "collapsed": false
   },
   "id": "356cf72c6ae5e4a3"
  },
  {
   "cell_type": "code",
   "execution_count": null,
   "outputs": [],
   "source": [],
   "metadata": {
    "collapsed": false
   },
   "id": "216e4c2d8d1ecbd0"
  }
 ],
 "metadata": {
  "kernelspec": {
   "display_name": "Python 3",
   "language": "python",
   "name": "python3"
  },
  "language_info": {
   "codemirror_mode": {
    "name": "ipython",
    "version": 2
   },
   "file_extension": ".py",
   "mimetype": "text/x-python",
   "name": "python",
   "nbconvert_exporter": "python",
   "pygments_lexer": "ipython2",
   "version": "2.7.6"
  }
 },
 "nbformat": 4,
 "nbformat_minor": 5
}
