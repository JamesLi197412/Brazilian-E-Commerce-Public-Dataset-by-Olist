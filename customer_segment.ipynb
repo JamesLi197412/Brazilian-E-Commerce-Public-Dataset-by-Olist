{
 "cells": [
  {
   "cell_type": "code",
   "execution_count": 1,
   "id": "initial_id",
   "metadata": {
    "collapsed": true,
    "ExecuteTime": {
     "end_time": "2024-02-10T11:34:59.983711Z",
     "start_time": "2024-02-10T11:34:59.979003Z"
    }
   },
   "outputs": [],
   "source": [
    "# Import Essential Libraries\n",
    "import pandas as pd\n",
    "from data_process import data_process\n"
   ]
  },
  {
   "cell_type": "code",
   "execution_count": null,
   "outputs": [],
   "source": [
    "# Import the data\n",
    "df = data_process()"
   ],
   "metadata": {
    "collapsed": false
   },
   "id": "ad7b2c2a15f43e4e"
  },
  {
   "cell_type": "code",
   "execution_count": null,
   "outputs": [],
   "source": [],
   "metadata": {
    "collapsed": false
   },
   "id": "d478ba67fab2a9bd"
  },
  {
   "cell_type": "markdown",
   "source": [
    "## RFM \n",
    "\n",
    "* Recency\n",
    "* Frequency\n",
    "* Monetary Value"
   ],
   "metadata": {
    "collapsed": false
   },
   "id": "934d123acf8b5872"
  },
  {
   "cell_type": "code",
   "execution_count": null,
   "outputs": [],
   "source": [],
   "metadata": {
    "collapsed": false
   },
   "id": "85f9092dc5e1d12"
  },
  {
   "cell_type": "markdown",
   "source": [
    "## New Customer Ratio"
   ],
   "metadata": {
    "collapsed": false
   },
   "id": "6adcc28826c7edc9"
  },
  {
   "cell_type": "code",
   "execution_count": null,
   "outputs": [],
   "source": [],
   "metadata": {
    "collapsed": false
   },
   "id": "2b6a9665f6b38fea"
  },
  {
   "cell_type": "code",
   "execution_count": null,
   "outputs": [],
   "source": [],
   "metadata": {
    "collapsed": false
   },
   "id": "3a3cfeefd184d506"
  },
  {
   "cell_type": "code",
   "execution_count": null,
   "outputs": [],
   "source": [],
   "metadata": {
    "collapsed": false
   },
   "id": "e8b07f32fb40cb8f"
  },
  {
   "cell_type": "markdown",
   "source": [
    "### K-means and DBSCAN"
   ],
   "metadata": {
    "collapsed": false
   },
   "id": "771f9593372f3d5a"
  },
  {
   "cell_type": "code",
   "execution_count": null,
   "outputs": [],
   "source": [],
   "metadata": {
    "collapsed": false
   },
   "id": "499abdbe7834c845"
  },
  {
   "cell_type": "code",
   "execution_count": null,
   "outputs": [],
   "source": [],
   "metadata": {
    "collapsed": false
   },
   "id": "57197a9d102cef87"
  },
  {
   "cell_type": "code",
   "execution_count": null,
   "outputs": [],
   "source": [],
   "metadata": {
    "collapsed": false
   },
   "id": "1d6a391c7308748b"
  },
  {
   "cell_type": "code",
   "execution_count": null,
   "outputs": [],
   "source": [],
   "metadata": {
    "collapsed": false
   },
   "id": "ecb440a52f62587a"
  },
  {
   "cell_type": "code",
   "execution_count": null,
   "outputs": [],
   "source": [],
   "metadata": {
    "collapsed": false
   },
   "id": "f4e89d2a114fd32b"
  },
  {
   "cell_type": "markdown",
   "source": [
    "Customer Lifetime Value (CLV)"
   ],
   "metadata": {
    "collapsed": false
   },
   "id": "356cf72c6ae5e4a3"
  },
  {
   "cell_type": "code",
   "execution_count": null,
   "outputs": [],
   "source": [],
   "metadata": {
    "collapsed": false
   },
   "id": "216e4c2d8d1ecbd0"
  }
 ],
 "metadata": {
  "kernelspec": {
   "display_name": "Python 3",
   "language": "python",
   "name": "python3"
  },
  "language_info": {
   "codemirror_mode": {
    "name": "ipython",
    "version": 2
   },
   "file_extension": ".py",
   "mimetype": "text/x-python",
   "name": "python",
   "nbconvert_exporter": "python",
   "pygments_lexer": "ipython2",
   "version": "2.7.6"
  }
 },
 "nbformat": 4,
 "nbformat_minor": 5
}
