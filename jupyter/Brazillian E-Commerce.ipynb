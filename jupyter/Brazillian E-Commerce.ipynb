{
 "cells": [
  {
   "cell_type": "code",
   "execution_count": 1,
   "metadata": {
    "collapsed": true,
    "ExecuteTime": {
     "end_time": "2024-02-13T05:59:48.258550Z",
     "start_time": "2024-02-13T05:59:48.236879Z"
    }
   },
   "outputs": [],
   "source": [
    "# Import essential libraries\n",
    "import matplotlib.pyplot as plt\n",
    "import pandas as pd\n",
    "import seaborn as sns\n",
    "\n",
    "import warnings\n",
    "warnings.filterwarnings(\"ignore\")"
   ]
  },
  {
   "cell_type": "markdown",
   "source": [
    "# Access to Local Files"
   ],
   "metadata": {
    "collapsed": false
   }
  },
  {
   "cell_type": "code",
   "execution_count": 2,
   "outputs": [],
   "source": [
    "# access files\n",
    "path = 'dataset/'\n",
    "customers = pd.read_csv(path + 'olist_customers_dataset.csv')\n",
    "geolocation = pd.read_csv(path + 'olist_geolocation_dataset.csv')\n",
    "order_items = pd.read_csv(path + 'olist_order_items_dataset.csv')\n",
    "order_payment = pd.read_csv(path + 'olist_order_payments_dataset.csv')\n",
    "order_reviews = pd.read_csv(path + 'olist_order_reviews_dataset.csv')\n",
    "order_dataset = pd.read_csv(path + 'olist_orders_dataset.csv')\n",
    "products = pd.read_csv(path + 'olist_products_dataset.csv')\n",
    "sellers = pd.read_csv(path + 'olist_sellers_dataset.csv')\n",
    "product_category = pd.read_csv(path + 'product_category_name_translation.csv')\n"
   ],
   "metadata": {
    "collapsed": false,
    "ExecuteTime": {
     "end_time": "2024-02-13T05:59:51.119207Z",
     "start_time": "2024-02-13T05:59:48.712354Z"
    }
   }
  },
  {
   "cell_type": "markdown",
   "source": [
    "# Data Exploration(EDA)"
   ],
   "metadata": {
    "collapsed": false
   }
  },
  {
   "cell_type": "code",
   "execution_count": 3,
   "outputs": [],
   "source": [
    "#customers.head()"
   ],
   "metadata": {
    "collapsed": false,
    "ExecuteTime": {
     "end_time": "2024-02-13T05:59:51.131523Z",
     "start_time": "2024-02-13T05:59:51.119743Z"
    }
   }
  },
  {
   "cell_type": "code",
   "execution_count": 4,
   "outputs": [],
   "source": [
    "#geolocation.head()"
   ],
   "metadata": {
    "collapsed": false,
    "ExecuteTime": {
     "end_time": "2024-02-13T05:59:51.135917Z",
     "start_time": "2024-02-13T05:59:51.127997Z"
    }
   }
  },
  {
   "cell_type": "code",
   "execution_count": 5,
   "outputs": [],
   "source": [
    "#order_payment.head()"
   ],
   "metadata": {
    "collapsed": false,
    "ExecuteTime": {
     "end_time": "2024-02-13T05:59:51.162380Z",
     "start_time": "2024-02-13T05:59:51.138614Z"
    }
   }
  },
  {
   "cell_type": "code",
   "execution_count": 6,
   "outputs": [],
   "source": [
    "#order_items.head()"
   ],
   "metadata": {
    "collapsed": false,
    "ExecuteTime": {
     "end_time": "2024-02-13T05:59:51.165070Z",
     "start_time": "2024-02-13T05:59:51.146042Z"
    }
   }
  },
  {
   "cell_type": "code",
   "execution_count": 7,
   "outputs": [],
   "source": [
    "#order_items.info()"
   ],
   "metadata": {
    "collapsed": false,
    "ExecuteTime": {
     "end_time": "2024-02-13T05:59:51.166974Z",
     "start_time": "2024-02-13T05:59:51.152595Z"
    }
   }
  },
  {
   "cell_type": "code",
   "execution_count": 8,
   "outputs": [],
   "source": [
    "#order_reviews.head()"
   ],
   "metadata": {
    "collapsed": false,
    "ExecuteTime": {
     "end_time": "2024-02-13T05:59:51.183330Z",
     "start_time": "2024-02-13T05:59:51.158081Z"
    }
   }
  },
  {
   "cell_type": "code",
   "execution_count": 9,
   "outputs": [],
   "source": [
    "#product_category.head()"
   ],
   "metadata": {
    "collapsed": false,
    "ExecuteTime": {
     "end_time": "2024-02-13T05:59:51.209243Z",
     "start_time": "2024-02-13T05:59:51.164124Z"
    }
   }
  },
  {
   "cell_type": "code",
   "execution_count": 10,
   "outputs": [],
   "source": [
    "#products.head()"
   ],
   "metadata": {
    "collapsed": false,
    "ExecuteTime": {
     "end_time": "2024-02-13T05:59:51.241139Z",
     "start_time": "2024-02-13T05:59:51.169436Z"
    }
   }
  },
  {
   "cell_type": "code",
   "execution_count": 11,
   "outputs": [],
   "source": [
    "#order_dataset.head()"
   ],
   "metadata": {
    "collapsed": false,
    "ExecuteTime": {
     "end_time": "2024-02-13T05:59:51.266854Z",
     "start_time": "2024-02-13T05:59:51.177913Z"
    }
   }
  },
  {
   "cell_type": "code",
   "execution_count": 12,
   "outputs": [
    {
     "name": "stdout",
     "output_type": "stream",
     "text": [
      "Customer [99441, 5]\n",
      "--------------------------------------------------\n",
      "Customer ['customer_id', 'customer_unique_id', 'customer_zip_code_prefix', 'customer_city', 'customer_state']\n",
      "Order Items [112650, 7]\n",
      "--------------------------------------------------\n",
      "Order Items ['order_id', 'order_item_id', 'product_id', 'seller_id', 'shipping_limit_date', 'price', 'freight_value']\n",
      "Payments [103886, 5]\n",
      "--------------------------------------------------\n",
      "Payments ['order_id', 'payment_sequential', 'payment_type', 'payment_installments', 'payment_value']\n",
      "Order Reviews [99224, 7]\n",
      "--------------------------------------------------\n",
      "Order Reviews ['review_id', 'order_id', 'review_score', 'review_comment_title', 'review_comment_message', 'review_creation_date', 'review_answer_timestamp']\n",
      "Order Dataset [99441, 8]\n",
      "--------------------------------------------------\n",
      "Order Dataset ['order_id', 'customer_id', 'order_status', 'order_purchase_timestamp', 'order_approved_at', 'order_delivered_carrier_date', 'order_delivered_customer_date', 'order_estimated_delivery_date']\n",
      "Products [32951, 9]\n",
      "--------------------------------------------------\n",
      "Products ['product_id', 'product_category_name', 'product_name_lenght', 'product_description_lenght', 'product_photos_qty', 'product_weight_g', 'product_length_cm', 'product_height_cm', 'product_width_cm']\n",
      "Sellers [3095, 4]\n",
      "--------------------------------------------------\n",
      "Sellers ['seller_id', 'seller_zip_code_prefix', 'seller_city', 'seller_state']\n"
     ]
    }
   ],
   "source": [
    "dataset = {\n",
    "    'Customer': customers,\n",
    "    'Order Items': order_items,\n",
    "    'Payments': order_payment,\n",
    "    'Order Reviews': order_reviews,\n",
    "    'Order Dataset': order_dataset,\n",
    "    'Products':products,\n",
    "    'Sellers':sellers\n",
    "}\n",
    "for x, y in dataset.items():\n",
    "    print(f'{x}', list(y.shape))\n",
    "    print('-' * 50)\n",
    "    print(f'{x}', list(y.columns ))"
   ],
   "metadata": {
    "collapsed": false,
    "ExecuteTime": {
     "end_time": "2024-02-13T05:59:51.270540Z",
     "start_time": "2024-02-13T05:59:51.188182Z"
    }
   }
  },
  {
   "cell_type": "code",
   "execution_count": 13,
   "outputs": [],
   "source": [
    "def missing_col(df):\n",
    "    missing_values = df.isnull().sum()\n",
    "    missing_values = missing_values.sort_values(ascending = False)\n",
    "\n",
    "    return missing_values\n",
    "\n",
    "def df_info_(df):\n",
    "    \"\"\"\n",
    "        Information about the DataFrame\n",
    "    \"\"\"\n",
    "\n",
    "    features_dtypes = df.dtypes\n",
    "    rows,columns = df.shape\n",
    "\n",
    "    missing_cols = missing_col(df)\n",
    "    features_names = missing_cols.index.values\n",
    "    missing_values = missing_cols.values\n",
    "\n",
    "    print('=' * 50)\n",
    "    print('===> This data frame contains {} rows and {} columns'.format(rows,columns))\n",
    "    print('=' * 50)\n",
    "\n",
    "    print(\"{:13}{:13}{:30}{:15}\".format('Feature Name'.upper(),\n",
    "                                        'Data Format'.upper(),\n",
    "                                        'Number of Missing Values'.upper(),\n",
    "                                        'The first few samples'.upper()))\n",
    "\n",
    "    for features_names, features_dtypes, missing_values in zip(features_names,features_dtypes[features_names],missing_values):\n",
    "        print('{:15} {:14} {:20}'.format(features_names, str(features_dtypes), str(missing_values) + '-' +\n",
    "                                         str(round(100*missing_values/sum(missing_cols),3))+' %'), end=\" \")\n",
    "\n",
    "        for i in range(5):\n",
    "            print(df[features_names].iloc[i], end=\",\")\n",
    "\n",
    "        print(\"=\"*50)"
   ],
   "metadata": {
    "collapsed": false,
    "ExecuteTime": {
     "end_time": "2024-02-13T05:59:53.053064Z",
     "start_time": "2024-02-13T05:59:53.036690Z"
    }
   }
  },
  {
   "cell_type": "code",
   "execution_count": 14,
   "outputs": [
    {
     "name": "stdout",
     "output_type": "stream",
     "text": [
      "==================================================\n",
      "===> This data frame contains 99441 rows and 5 columns\n",
      "==================================================\n",
      "FEATURE NAME DATA FORMAT  NUMBER OF MISSING VALUES      THE FIRST FEW SAMPLES\n",
      "customer_id     object         0-nan %              06b8999e2fba1a1fbc88172c00ba8bc7,18955e83d337fd6b2def6b18a428ac77,4e7b3e00288586ebd08712fdd0374a03,b2b6027bc5c5109e529d4dc6358b12c3,4f2d8ab171c80ec8364f7c12e35b23ad,==================================================\n",
      "customer_unique_id object         0-nan %              861eff4711a542e4b93843c6dd7febb0,290c77bc529b7ac935b93aa66c333dc3,060e732b5b29e8181a18229c7b0b2b5e,259dac757896d24d7702b9acbbff3f3c,345ecd01c38d18a9036ed96c73b8d066,==================================================\n",
      "customer_zip_code_prefix int64          0-nan %              14409,9790,1151,8775,13056,==================================================\n",
      "customer_city   object         0-nan %              franca,sao bernardo do campo,sao paulo,mogi das cruzes,campinas,==================================================\n",
      "customer_state  object         0-nan %              SP,SP,SP,SP,SP,==================================================\n"
     ]
    }
   ],
   "source": [
    "df_info_(customers)"
   ],
   "metadata": {
    "collapsed": false,
    "ExecuteTime": {
     "end_time": "2024-02-13T05:59:54.446516Z",
     "start_time": "2024-02-13T05:59:54.415385Z"
    }
   }
  },
  {
   "cell_type": "code",
   "execution_count": 15,
   "outputs": [
    {
     "name": "stdout",
     "output_type": "stream",
     "text": [
      "==================================================\n",
      "===> This data frame contains 32951 rows and 9 columns\n",
      "==================================================\n",
      "FEATURE NAME DATA FORMAT  NUMBER OF MISSING VALUES      THE FIRST FEW SAMPLES\n",
      "product_category_name object         610-24.918 %         perfumaria,artes,esporte_lazer,bebes,utilidades_domesticas,==================================================\n",
      "product_name_lenght float64        610-24.918 %         40.0,44.0,46.0,27.0,37.0,==================================================\n",
      "product_description_lenght float64        610-24.918 %         287.0,276.0,250.0,261.0,402.0,==================================================\n",
      "product_photos_qty float64        610-24.918 %         1.0,1.0,1.0,1.0,4.0,==================================================\n",
      "product_weight_g float64        2-0.082 %            225.0,1000.0,154.0,371.0,625.0,==================================================\n",
      "product_length_cm float64        2-0.082 %            16.0,30.0,18.0,26.0,20.0,==================================================\n",
      "product_height_cm float64        2-0.082 %            10.0,18.0,9.0,4.0,17.0,==================================================\n",
      "product_width_cm float64        2-0.082 %            14.0,20.0,15.0,26.0,13.0,==================================================\n",
      "product_id      object         0-0.0 %              1e9e8ef04dbcff4541ed26657ea517e5,3aa071139cb16b67ca9e5dea641aaa2f,96bd76ec8810374ed1b65e291975717f,cef67bcfe19066a932b7673e239eb23d,9dc1a7de274444849c219cff195d0b71,==================================================\n"
     ]
    }
   ],
   "source": [
    "df_info_(products)"
   ],
   "metadata": {
    "collapsed": false,
    "ExecuteTime": {
     "end_time": "2024-02-13T05:59:55.155548Z",
     "start_time": "2024-02-13T05:59:55.138232Z"
    }
   }
  },
  {
   "cell_type": "code",
   "execution_count": 16,
   "outputs": [
    {
     "name": "stdout",
     "output_type": "stream",
     "text": [
      "==================================================\n",
      "===> This data frame contains 3095 rows and 4 columns\n",
      "==================================================\n",
      "FEATURE NAME DATA FORMAT  NUMBER OF MISSING VALUES      THE FIRST FEW SAMPLES\n",
      "seller_id       object         0-nan %              3442f8959a84dea7ee197c632cb2df15,d1b65fc7debc3361ea86b5f14c68d2e2,ce3ad9de960102d0677a81f5d0bb7b2d,c0f3eea2e14555b6faeea3dd58c1b1c3,51a04a8a6bdcb23deccc82b0b80742cf,==================================================\n",
      "seller_zip_code_prefix int64          0-nan %              13023,13844,20031,4195,12914,==================================================\n",
      "seller_city     object         0-nan %              campinas,mogi guacu,rio de janeiro,sao paulo,braganca paulista,==================================================\n",
      "seller_state    object         0-nan %              SP,SP,RJ,SP,SP,==================================================\n"
     ]
    }
   ],
   "source": [
    "df_info_(sellers)"
   ],
   "metadata": {
    "collapsed": false,
    "ExecuteTime": {
     "end_time": "2024-02-13T05:59:55.759043Z",
     "start_time": "2024-02-13T05:59:55.755372Z"
    }
   }
  },
  {
   "cell_type": "code",
   "execution_count": 17,
   "outputs": [
    {
     "name": "stdout",
     "output_type": "stream",
     "text": [
      "==================================================\n",
      "===> This data frame contains 99441 rows and 8 columns\n",
      "==================================================\n",
      "FEATURE NAME DATA FORMAT  NUMBER OF MISSING VALUES      THE FIRST FEW SAMPLES\n",
      "order_delivered_customer_date object         2965-60.412 %        2017-10-10 21:25:13,2018-08-07 15:27:45,2018-08-17 18:06:29,2017-12-02 00:28:42,2018-02-16 18:17:02,==================================================\n",
      "order_delivered_carrier_date object         1783-36.328 %        2017-10-04 19:55:00,2018-07-26 14:31:00,2018-08-08 13:50:00,2017-11-22 13:39:59,2018-02-14 19:46:34,==================================================\n",
      "order_approved_at object         160-3.26 %           2017-10-02 11:07:15,2018-07-26 03:24:27,2018-08-08 08:55:23,2017-11-18 19:45:59,2018-02-13 22:20:29,==================================================\n",
      "order_id        object         0-0.0 %              e481f51cbdc54678b7cc49136f2d6af7,53cdb2fc8bc7dce0b6741e2150273451,47770eb9100c2d0c44946d9cf07ec65d,949d5b44dbf5de918fe9c16f97b45f8a,ad21c59c0840e6cb83a9ceb5573f8159,==================================================\n",
      "customer_id     object         0-0.0 %              9ef432eb6251297304e76186b10a928d,b0830fb4747a6c6d20dea0b8c802d7ef,41ce2a54c0b03bf3443c3d931a367089,f88197465ea7920adcdbec7375364d82,8ab97904e6daea8866dbdbc4fb7aad2c,==================================================\n",
      "order_status    object         0-0.0 %              delivered,delivered,delivered,delivered,delivered,==================================================\n",
      "order_purchase_timestamp object         0-0.0 %              2017-10-02 10:56:33,2018-07-24 20:41:37,2018-08-08 08:38:49,2017-11-18 19:28:06,2018-02-13 21:18:39,==================================================\n",
      "order_estimated_delivery_date object         0-0.0 %              2017-10-18 00:00:00,2018-08-13 00:00:00,2018-09-04 00:00:00,2017-12-15 00:00:00,2018-02-26 00:00:00,==================================================\n"
     ]
    }
   ],
   "source": [
    "df_info_(order_dataset)"
   ],
   "metadata": {
    "collapsed": false,
    "ExecuteTime": {
     "end_time": "2024-02-13T05:59:56.533846Z",
     "start_time": "2024-02-13T05:59:56.518229Z"
    }
   }
  },
  {
   "cell_type": "markdown",
   "source": [
    "# Data Processing"
   ],
   "metadata": {
    "collapsed": false
   }
  },
  {
   "cell_type": "raw",
   "source": [
    "Attention\n",
    "\n",
    "An order might have multiple items.\n",
    "Each item might be fulfilled by a distinct seller.\n",
    "All text identifying stores and partners where replaced by the names of Game of Thrones great houses."
   ],
   "metadata": {
    "collapsed": false
   }
  },
  {
   "cell_type": "markdown",
   "source": [
    "### Generating the Master Dataset"
   ],
   "metadata": {
    "collapsed": false
   }
  },
  {
   "cell_type": "code",
   "execution_count": 18,
   "outputs": [
    {
     "name": "stdout",
     "output_type": "stream",
     "text": [
      "(18099915, 41)\n"
     ]
    }
   ],
   "source": [
    "# Data Merge by relationship chart\n",
    "# rename geolocation column geolocation_zip_code - > customer_zip_code\n",
    "temp = geolocation.copy(deep = True)\n",
    "temp.rename(columns = {'geolocation_zip_code_prefix':'customer_zip_code_prefix'},inplace = True)\n",
    "customers_loc = customers.merge(temp, how ='inner', on = 'customer_zip_code_prefix')\n",
    "del temp\n",
    "\n",
    "orders = order_dataset.merge(order_items, on = 'order_id', how = 'left')  # 1 to many relationship because 1 order might have multiple items.\n",
    "orders = orders.merge(order_payment, how = 'inner', on = 'order_id')\n",
    "orders = orders.merge(order_reviews, how = 'inner', on = 'order_id')\n",
    "orders = orders.merge(products, how = 'inner', on = 'product_id')\n",
    "\n",
    "orders = orders.merge(product_category, how = 'inner', on = 'product_category_name')\n",
    "\n",
    "# Except geolocation dataset\n",
    "customers_order = customers_loc.merge(orders, how = 'left', on = 'customer_id')\n",
    "\n",
    "print(customers_order.shape)\n",
    "\n",
    "# Nearly 20M data"
   ],
   "metadata": {
    "collapsed": false,
    "ExecuteTime": {
     "end_time": "2024-02-13T06:01:08.697017Z",
     "start_time": "2024-02-13T06:00:00.847096Z"
    }
   }
  },
  {
   "cell_type": "code",
   "execution_count": 19,
   "outputs": [
    {
     "name": "stdout",
     "output_type": "stream",
     "text": [
      "==================================================\n",
      "===> This data frame contains 18099915 rows and 47 columns\n",
      "==================================================\n",
      "FEATURE NAME DATA FORMAT  NUMBER OF MISSING VALUES      THE FIRST FEW SAMPLES\n",
      "review_comment_title object         16094891-36.855 %    nan,nan,nan,nan,nan,==================================================\n",
      "review_comment_message object         10822847-24.783 %    nan,nan,nan,nan,nan,==================================================\n",
      "delivery_against_estimated float64        785053-1.798 %       10.0,10.0,10.0,10.0,10.0,==================================================\n",
      "order_delivered_customer_date datetime64[ns] 785053-1.798 %       2017-05-25 10:35:35,2017-05-25 10:35:35,2017-05-25 10:35:35,2017-05-25 10:35:35,2017-05-25 10:35:35,==================================================\n",
      "order_delivered_carrier_date datetime64[ns] 624753-1.431 %       2017-05-23 10:47:57,2017-05-23 10:47:57,2017-05-23 10:47:57,2017-05-23 10:47:57,2017-05-23 10:47:57,==================================================\n",
      "order_approved_at object         443875-1.016 %       2017-05-16 15:22:12,2017-05-16 15:22:12,2017-05-16 15:22:12,2017-05-16 15:22:12,2017-05-16 15:22:12,==================================================\n",
      "product_width_cm float64        441158-1.01 %        31.0,31.0,31.0,31.0,31.0,==================================================\n",
      "product_height_cm float64        441158-1.01 %        64.0,64.0,64.0,64.0,64.0,==================================================\n",
      "product_length_cm float64        441158-1.01 %        54.0,54.0,54.0,54.0,54.0,==================================================\n",
      "product_weight_g float64        441158-1.01 %        8683.0,8683.0,8683.0,8683.0,8683.0,==================================================\n",
      "product_description_lenght float64        441050-1.01 %        1141.0,1141.0,1141.0,1141.0,1141.0,==================================================\n",
      "review_score    float64        441050-1.01 %        4.0,4.0,4.0,4.0,4.0,==================================================\n",
      "review_creation_date datetime64[ns] 441050-1.01 %        2017-05-26 00:00:00,2017-05-26 00:00:00,2017-05-26 00:00:00,2017-05-26 00:00:00,2017-05-26 00:00:00,==================================================\n",
      "review_answer_timestamp object         441050-1.01 %        2017-05-30 22:34:40,2017-05-30 22:34:40,2017-05-30 22:34:40,2017-05-30 22:34:40,2017-05-30 22:34:40,==================================================\n",
      "product_category_name object         441050-1.01 %        moveis_escritorio,moveis_escritorio,moveis_escritorio,moveis_escritorio,moveis_escritorio,==================================================\n",
      "product_name_lenght float64        441050-1.01 %        41.0,41.0,41.0,41.0,41.0,==================================================\n",
      "payment_type    object         441050-1.01 %        credit_card,credit_card,credit_card,credit_card,credit_card,==================================================\n",
      "product_photos_qty float64        441050-1.01 %        1.0,1.0,1.0,1.0,1.0,==================================================\n",
      "payment_value   float64        441050-1.01 %        146.87,146.87,146.87,146.87,146.87,==================================================\n",
      "product_category_name_english object         441050-1.01 %        office_furniture,office_furniture,office_furniture,office_furniture,office_furniture,==================================================\n",
      "order_purchase_year float64        441050-1.01 %        2017.0,2017.0,2017.0,2017.0,2017.0,==================================================\n",
      "order_purchase_month float64        441050-1.01 %        5.0,5.0,5.0,5.0,5.0,==================================================\n",
      "order_purchase_day float64        441050-1.01 %        16.0,16.0,16.0,16.0,16.0,==================================================\n",
      "order_purchase_dayofweek float64        441050-1.01 %        1.0,1.0,1.0,1.0,1.0,==================================================\n",
      "review_id       object         441050-1.01 %        88b8b52d46df026a9d1ad2136a59b30b,88b8b52d46df026a9d1ad2136a59b30b,88b8b52d46df026a9d1ad2136a59b30b,88b8b52d46df026a9d1ad2136a59b30b,88b8b52d46df026a9d1ad2136a59b30b,==================================================\n",
      "order_purchase_hr float64        441050-1.01 %        15.0,15.0,15.0,15.0,15.0,==================================================\n",
      "payment_installments float64        441050-1.01 %        2.0,2.0,2.0,2.0,2.0,==================================================\n",
      "product_id      object         441050-1.01 %        a9516a079e37a9c9c36b9b78b10169e8,a9516a079e37a9c9c36b9b78b10169e8,a9516a079e37a9c9c36b9b78b10169e8,a9516a079e37a9c9c36b9b78b10169e8,a9516a079e37a9c9c36b9b78b10169e8,==================================================\n",
      "order_id        object         441050-1.01 %        00e7ee1b050b8499577073aeb2a297a1,00e7ee1b050b8499577073aeb2a297a1,00e7ee1b050b8499577073aeb2a297a1,00e7ee1b050b8499577073aeb2a297a1,00e7ee1b050b8499577073aeb2a297a1,==================================================\n",
      "order_status    object         441050-1.01 %        delivered,delivered,delivered,delivered,delivered,==================================================\n",
      "order_estimated_delivery_date datetime64[ns] 441050-1.01 %        2017-06-05 00:00:00,2017-06-05 00:00:00,2017-06-05 00:00:00,2017-06-05 00:00:00,2017-06-05 00:00:00,==================================================\n",
      "order_item_id   float64        441050-1.01 %        1.0,1.0,1.0,1.0,1.0,==================================================\n",
      "order_purchase_timestamp datetime64[ns] 441050-1.01 %        2017-05-16 15:05:35,2017-05-16 15:05:35,2017-05-16 15:05:35,2017-05-16 15:05:35,2017-05-16 15:05:35,==================================================\n",
      "seller_id       object         441050-1.01 %        7c67e1448b00f6e969d365cea6b010ab,7c67e1448b00f6e969d365cea6b010ab,7c67e1448b00f6e969d365cea6b010ab,7c67e1448b00f6e969d365cea6b010ab,7c67e1448b00f6e969d365cea6b010ab,==================================================\n",
      "shipping_limit_date datetime64[ns] 441050-1.01 %        2017-05-22 15:22:12,2017-05-22 15:22:12,2017-05-22 15:22:12,2017-05-22 15:22:12,2017-05-22 15:22:12,==================================================\n",
      "price           float64        441050-1.01 %        124.99,124.99,124.99,124.99,124.99,==================================================\n",
      "freight_value   float64        441050-1.01 %        21.88,21.88,21.88,21.88,21.88,==================================================\n",
      "payment_sequential float64        441050-1.01 %        1.0,1.0,1.0,1.0,1.0,==================================================\n",
      "customer_unique_id object         0-0.0 %              861eff4711a542e4b93843c6dd7febb0,861eff4711a542e4b93843c6dd7febb0,861eff4711a542e4b93843c6dd7febb0,861eff4711a542e4b93843c6dd7febb0,861eff4711a542e4b93843c6dd7febb0,==================================================\n",
      "geolocation_state object         0-0.0 %              SP,SP,SP,SP,SP,==================================================\n",
      "geolocation_city object         0-0.0 %              franca,franca,franca,franca,franca,==================================================\n",
      "geolocation_lng float64        0-0.0 %              -47.3978655,-47.39924094190359,-47.39955309167686,-47.39416132556492,-47.39819363894111,==================================================\n",
      "geolocation_lat float64        0-0.0 %              -20.509897499999997,-20.497396193014072,-20.51045862987575,-20.480940023267937,-20.51541329065829,==================================================\n",
      "customer_state  object         0-0.0 %              SP,SP,SP,SP,SP,==================================================\n",
      "customer_city   object         0-0.0 %              franca,franca,franca,franca,franca,==================================================\n",
      "customer_zip_code_prefix int64          0-0.0 %              14409,14409,14409,14409,14409,==================================================\n",
      "customer_id     object         0-0.0 %              06b8999e2fba1a1fbc88172c00ba8bc7,06b8999e2fba1a1fbc88172c00ba8bc7,06b8999e2fba1a1fbc88172c00ba8bc7,06b8999e2fba1a1fbc88172c00ba8bc7,06b8999e2fba1a1fbc88172c00ba8bc7,==================================================\n"
     ]
    }
   ],
   "source": [
    "    \n",
    "def data_process(df):\n",
    "    # adjust column _date from object to datetime\n",
    "    cols = ['order_delivered_carrier_date','order_delivered_customer_date','order_estimated_delivery_date','shipping_limit_date','review_creation_date','order_purchase_timestamp']\n",
    "    for col in cols:\n",
    "        df[col] = pd.to_datetime(df[col])\n",
    "        \n",
    "    # cleaning up name columns\n",
    "    # engineering new/essential columns\n",
    "    df['delivery_against_estimated'] = (df['order_estimated_delivery_date'] - df['order_delivered_customer_date']).dt.days\n",
    "    df['order_purchase_year'] = df['order_purchase_timestamp'].dt.year\n",
    "    df['order_purchase_month'] = df['order_purchase_timestamp'].dt.month\n",
    "    df['order_purchase_day'] = df['order_purchase_timestamp'].dt.day\n",
    "    df['order_purchase_dayofweek'] = df['order_purchase_timestamp'].dt.dayofweek\n",
    "    df['order_purchase_hr'] = df['order_purchase_timestamp'].dt.hour\n",
    "        \n",
    "    return df\n",
    "\n",
    "customers_order = data_process(customers_order)\n",
    "\n",
    "df_info_(customers_order)"
   ],
   "metadata": {
    "collapsed": false,
    "ExecuteTime": {
     "end_time": "2024-02-13T06:04:44.327182Z",
     "start_time": "2024-02-13T06:03:56.715634Z"
    }
   }
  },
  {
   "cell_type": "code",
   "execution_count": 20,
   "outputs": [
    {
     "name": "stdout",
     "output_type": "stream",
     "text": [
      "<class 'pandas.core.frame.DataFrame'>\n",
      "Int64Index: 18099915 entries, 0 to 18099914\n",
      "Data columns (total 47 columns):\n",
      " #   Column                         Dtype         \n",
      "---  ------                         -----         \n",
      " 0   customer_id                    object        \n",
      " 1   customer_unique_id             object        \n",
      " 2   customer_zip_code_prefix       int64         \n",
      " 3   customer_city                  object        \n",
      " 4   customer_state                 object        \n",
      " 5   geolocation_lat                float64       \n",
      " 6   geolocation_lng                float64       \n",
      " 7   geolocation_city               object        \n",
      " 8   geolocation_state              object        \n",
      " 9   order_id                       object        \n",
      " 10  order_status                   object        \n",
      " 11  order_purchase_timestamp       datetime64[ns]\n",
      " 12  order_approved_at              object        \n",
      " 13  order_delivered_carrier_date   datetime64[ns]\n",
      " 14  order_delivered_customer_date  datetime64[ns]\n",
      " 15  order_estimated_delivery_date  datetime64[ns]\n",
      " 16  order_item_id                  float64       \n",
      " 17  product_id                     object        \n",
      " 18  seller_id                      object        \n",
      " 19  shipping_limit_date            datetime64[ns]\n",
      " 20  price                          float64       \n",
      " 21  freight_value                  float64       \n",
      " 22  payment_sequential             float64       \n",
      " 23  payment_type                   object        \n",
      " 24  payment_installments           float64       \n",
      " 25  payment_value                  float64       \n",
      " 26  review_id                      object        \n",
      " 27  review_score                   float64       \n",
      " 28  review_comment_title           object        \n",
      " 29  review_comment_message         object        \n",
      " 30  review_creation_date           datetime64[ns]\n",
      " 31  review_answer_timestamp        object        \n",
      " 32  product_category_name          object        \n",
      " 33  product_name_lenght            float64       \n",
      " 34  product_description_lenght     float64       \n",
      " 35  product_photos_qty             float64       \n",
      " 36  product_weight_g               float64       \n",
      " 37  product_length_cm              float64       \n",
      " 38  product_height_cm              float64       \n",
      " 39  product_width_cm               float64       \n",
      " 40  product_category_name_english  object        \n",
      " 41  delivery_against_estimated     float64       \n",
      " 42  order_purchase_year            float64       \n",
      " 43  order_purchase_month           float64       \n",
      " 44  order_purchase_day             float64       \n",
      " 45  order_purchase_dayofweek       float64       \n",
      " 46  order_purchase_hr              float64       \n",
      "dtypes: datetime64[ns](6), float64(22), int64(1), object(18)\n",
      "memory usage: 6.5+ GB\n"
     ]
    }
   ],
   "source": [
    "# Double Check\n",
    "customers_order.info()"
   ],
   "metadata": {
    "collapsed": false,
    "ExecuteTime": {
     "end_time": "2024-02-13T06:04:44.344716Z",
     "start_time": "2024-02-13T06:04:44.336201Z"
    }
   }
  },
  {
   "cell_type": "markdown",
   "source": [
    "# Data Visualisation"
   ],
   "metadata": {
    "collapsed": false
   }
  },
  {
   "cell_type": "code",
   "execution_count": 21,
   "outputs": [
    {
     "data": {
      "text/plain": "<Figure size 1440x1080 with 2 Axes>",
      "image/png": "[encoded data removed]"
     },
     "metadata": {},
     "output_type": "display_data"
    }
   ],
   "source": [
    "# order_payment values\n",
    "payments = order_payment.groupby(['payment_type'])['payment_value'].agg(['count','sum']).reset_index()\n",
    "\n",
    "fig, (ax1, ax2) = plt.subplots(nrows=1, ncols = 2,figsize=(20,15))\n",
    "fig.suptitle('Payment Type Count & Sum')\n",
    "\n",
    "ax1.pie(payments['count'], labels=payments['payment_type'], autopct='%1.2f%%', startangle=90, colors=sns.color_palette('Set2'),labeldistance=0.5, pctdistance=0.6)\n",
    "ax1.set_title('Payment Type Count')\n",
    "ax2.pie(payments['sum'], labels=payments['payment_type'], autopct='%1.2f%%', startangle=90, colors=sns.color_palette('Set1'),labeldistance=0.5, pctdistance=0.6)\n",
    "ax2.set_title('Payment Type Sum')\n",
    "plt.tight_layout()\n",
    "plt.show()\n"
   ],
   "metadata": {
    "collapsed": false,
    "ExecuteTime": {
     "end_time": "2024-02-13T06:04:44.804726Z",
     "start_time": "2024-02-13T06:04:44.347883Z"
    }
   }
  },
  {
   "cell_type": "code",
   "execution_count": 22,
   "outputs": [
    {
     "data": {
      "text/plain": "   order_purchase_month  payment_value\n0                   1.0   2.434648e+08\n1                   2.0   2.426560e+08\n2                   3.0   2.942632e+08\n3                   4.0   3.060640e+08\n4                   5.0   3.340303e+08",
      "text/html": "<div>\n<style scoped>\n    .dataframe tbody tr th:only-of-type {\n        vertical-align: middle;\n    }\n\n    .dataframe tbody tr th {\n        vertical-align: top;\n    }\n\n    .dataframe thead th {\n        text-align: right;\n    }\n</style>\n<table border=\"1\" class=\"dataframe\">\n  <thead>\n    <tr style=\"text-align: right;\">\n      <th></th>\n      <th>order_purchase_month</th>\n      <th>payment_value</th>\n    </tr>\n  </thead>\n  <tbody>\n    <tr>\n      <th>0</th>\n      <td>1.0</td>\n      <td>2.434648e+08</td>\n    </tr>\n    <tr>\n      <th>1</th>\n      <td>2.0</td>\n      <td>2.426560e+08</td>\n    </tr>\n    <tr>\n      <th>2</th>\n      <td>3.0</td>\n      <td>2.942632e+08</td>\n    </tr>\n    <tr>\n      <th>3</th>\n      <td>4.0</td>\n      <td>3.060640e+08</td>\n    </tr>\n    <tr>\n      <th>4</th>\n      <td>5.0</td>\n      <td>3.340303e+08</td>\n    </tr>\n  </tbody>\n</table>\n</div>"
     },
     "execution_count": 22,
     "metadata": {},
     "output_type": "execute_result"
    }
   ],
   "source": [
    "# Monthly Revenue Plot\n",
    "order_revenue = customers_order.groupby(['order_purchase_month'])['payment_value'].sum().reset_index()\n",
    "\n",
    "#sns.lineplot(data = order_revenue)\n",
    "\n",
    "order_revenue.head()\n",
    "# plot monthly "
   ],
   "metadata": {
    "collapsed": false,
    "ExecuteTime": {
     "end_time": "2024-02-13T06:04:45.546602Z",
     "start_time": "2024-02-13T06:04:44.805706Z"
    }
   }
  },
  {
   "cell_type": "code",
   "execution_count": 23,
   "outputs": [],
   "source": [
    "def bar_plot(df,col):\n",
    "    # plot data in stack manner of bar type\n",
    "    \n",
    "    fig, ax = plt.subplots(figsize = (15,15))\n",
    "    color = (0.2, # redness\n",
    "             0.4, # greenness\n",
    "             0.2, # blueness\n",
    "             0.6 # transparency\n",
    "             )\n",
    "\n",
    "    ax.bar(\n",
    "        x = df.index,\n",
    "        height=df[col],\n",
    "        tick_label=df.index,\n",
    "        color = color\n",
    "    )\n",
    "    \n",
    "    # First, let's remove the top, right and left spines (figure borders)\n",
    "    # which really aren't necessary for a bar chart.\n",
    "    # Also, make the bottom spine gray instead of black.\n",
    "    ax.spines['top'].set_visible(False)\n",
    "    ax.spines['right'].set_visible(False)\n",
    "    ax.spines['left'].set_visible(False)\n",
    "    ax.spines['bottom'].set_color('#DDDDDD')\n",
    "    \n",
    "    # Second, remove the ticks as well.\n",
    "    ax.tick_params(bottom=False, left=False)\n",
    "    \n",
    "    # Third, add a horizontal grid (but keep the vertical grid hidden).\n",
    "    # Color the lines a light gray as well.\n",
    "    ax.set_axisbelow(True)\n",
    "    ax.yaxis.grid(True, color='#EEEEEE')\n",
    "    ax.xaxis.grid(False)\n",
    "    \n",
    "    plt.show()\n",
    "        "
   ],
   "metadata": {
    "collapsed": false,
    "ExecuteTime": {
     "end_time": "2024-02-13T06:04:45.548377Z",
     "start_time": "2024-02-13T06:04:45.505615Z"
    }
   }
  },
  {
   "cell_type": "code",
   "execution_count": 24,
   "outputs": [
    {
     "data": {
      "text/plain": "<Figure size 1080x1080 with 1 Axes>",
      "image/png": "[encoded data removed]"
     },
     "metadata": {},
     "output_type": "display_data"
    }
   ],
   "source": [
    "# payments per city\n",
    "payments_geo = pd.pivot_table(customers_order, values = 'payment_value', index = ['customer_state'], columns = 'payment_type', aggfunc= 'sum')\n",
    "payments_geo.fillna(0,inplace = True)\n",
    "payments_geo['total'] = payments_geo['boleto'] + payments_geo['credit_card']+payments_geo['debit_card']+payments_geo['voucher']\n",
    "payments_geo = payments_geo.sort_values(by = 'total', ascending= False)\n",
    "# plot data in stack manner of bar type\n",
    "\n",
    "bar_plot(payments_geo,'total')\n"
   ],
   "metadata": {
    "collapsed": false,
    "ExecuteTime": {
     "end_time": "2024-02-13T06:05:11.845257Z",
     "start_time": "2024-02-13T06:04:45.512116Z"
    }
   }
  },
  {
   "cell_type": "raw",
   "source": [
    "Top 10 States: SP, RJ, MG, RS, PR, SC,BA, ES, MT, GO."
   ],
   "metadata": {
    "collapsed": false
   },
   "outputs": []
  },
  {
   "cell_type": "code",
   "execution_count": 25,
   "outputs": [
    {
     "data": {
      "text/plain": "      product_category_name_english                        product_id  count\n14061               furniture_decor  aca2eb7d00ea1a7b8ebd4e68314663af  86104\n15285                  garden_tools  422879e10f46682990de24d770e7f83d  80749\n4962                 bed_bath_table  99a4788cb24856965c36a24e339b6058  78076\n15254                  garden_tools  389d119b48cf3043d311335e499d9c6b  59887\n7947          computers_accessories  d1c427060a0f73f6b889a5c7c61f2ac4  58375\n15242                  garden_tools  368c6c730842d78016ad823897a372db  58076\n15347                  garden_tools  53759a2ecddad2bb87a079a1f1519f73  52252\n31250                 watches_gifts  53b36df67ebb7c41585e8d54d6772e08  51470\n16035                 health_beauty  154e7e31ebfa092203795c972e5804a6  42606\n7028          computers_accessories  3dd2a17168ec895c781a9191c1e95ad7  40600\n8089          computers_accessories  e53e557d5a159f5aa2c5e995dfdf244b  38700\n16235                 health_beauty  2b4609f8948be18874494203496bc318  36179\n18737                  home_confort  35afc973633aaeb6b877ff57b2793310  31206\n31984                 watches_gifts  e0d64dcfaa3b6db5c54ca298ae101d05  30829\n19644                    housewares  42a2c92a0979a949ca4ea89ec5c7b934  30053\n31670                 watches_gifts  a62e25e09e05e6faf31d90c6ec1aa3d1  28845\n17000                 health_beauty  7c1bd920dbdf22470b68bde975dd3ccf  28658\n15654                  garden_tools  c4baedd846ed09b85f78a781b522f126  28166\n14152               furniture_decor  b532349fe46b38fbc7bb3914c1bdae07  26872\n6981          computers_accessories  36f60d45225e60c7da4558b070ce4b60  25514",
      "text/html": "<div>\n<style scoped>\n    .dataframe tbody tr th:only-of-type {\n        vertical-align: middle;\n    }\n\n    .dataframe tbody tr th {\n        vertical-align: top;\n    }\n\n    .dataframe thead th {\n        text-align: right;\n    }\n</style>\n<table border=\"1\" class=\"dataframe\">\n  <thead>\n    <tr style=\"text-align: right;\">\n      <th></th>\n      <th>product_category_name_english</th>\n      <th>product_id</th>\n      <th>count</th>\n    </tr>\n  </thead>\n  <tbody>\n    <tr>\n      <th>14061</th>\n      <td>furniture_decor</td>\n      <td>aca2eb7d00ea1a7b8ebd4e68314663af</td>\n      <td>86104</td>\n    </tr>\n    <tr>\n      <th>15285</th>\n      <td>garden_tools</td>\n      <td>422879e10f46682990de24d770e7f83d</td>\n      <td>80749</td>\n    </tr>\n    <tr>\n      <th>4962</th>\n      <td>bed_bath_table</td>\n      <td>99a4788cb24856965c36a24e339b6058</td>\n      <td>78076</td>\n    </tr>\n    <tr>\n      <th>15254</th>\n      <td>garden_tools</td>\n      <td>389d119b48cf3043d311335e499d9c6b</td>\n      <td>59887</td>\n    </tr>\n    <tr>\n      <th>7947</th>\n      <td>computers_accessories</td>\n      <td>d1c427060a0f73f6b889a5c7c61f2ac4</td>\n      <td>58375</td>\n    </tr>\n    <tr>\n      <th>15242</th>\n      <td>garden_tools</td>\n      <td>368c6c730842d78016ad823897a372db</td>\n      <td>58076</td>\n    </tr>\n    <tr>\n      <th>15347</th>\n      <td>garden_tools</td>\n      <td>53759a2ecddad2bb87a079a1f1519f73</td>\n      <td>52252</td>\n    </tr>\n    <tr>\n      <th>31250</th>\n      <td>watches_gifts</td>\n      <td>53b36df67ebb7c41585e8d54d6772e08</td>\n      <td>51470</td>\n    </tr>\n    <tr>\n      <th>16035</th>\n      <td>health_beauty</td>\n      <td>154e7e31ebfa092203795c972e5804a6</td>\n      <td>42606</td>\n    </tr>\n    <tr>\n      <th>7028</th>\n      <td>computers_accessories</td>\n      <td>3dd2a17168ec895c781a9191c1e95ad7</td>\n      <td>40600</td>\n    </tr>\n    <tr>\n      <th>8089</th>\n      <td>computers_accessories</td>\n      <td>e53e557d5a159f5aa2c5e995dfdf244b</td>\n      <td>38700</td>\n    </tr>\n    <tr>\n      <th>16235</th>\n      <td>health_beauty</td>\n      <td>2b4609f8948be18874494203496bc318</td>\n      <td>36179</td>\n    </tr>\n    <tr>\n      <th>18737</th>\n      <td>home_confort</td>\n      <td>35afc973633aaeb6b877ff57b2793310</td>\n      <td>31206</td>\n    </tr>\n    <tr>\n      <th>31984</th>\n      <td>watches_gifts</td>\n      <td>e0d64dcfaa3b6db5c54ca298ae101d05</td>\n      <td>30829</td>\n    </tr>\n    <tr>\n      <th>19644</th>\n      <td>housewares</td>\n      <td>42a2c92a0979a949ca4ea89ec5c7b934</td>\n      <td>30053</td>\n    </tr>\n    <tr>\n      <th>31670</th>\n      <td>watches_gifts</td>\n      <td>a62e25e09e05e6faf31d90c6ec1aa3d1</td>\n      <td>28845</td>\n    </tr>\n    <tr>\n      <th>17000</th>\n      <td>health_beauty</td>\n      <td>7c1bd920dbdf22470b68bde975dd3ccf</td>\n      <td>28658</td>\n    </tr>\n    <tr>\n      <th>15654</th>\n      <td>garden_tools</td>\n      <td>c4baedd846ed09b85f78a781b522f126</td>\n      <td>28166</td>\n    </tr>\n    <tr>\n      <th>14152</th>\n      <td>furniture_decor</td>\n      <td>b532349fe46b38fbc7bb3914c1bdae07</td>\n      <td>26872</td>\n    </tr>\n    <tr>\n      <th>6981</th>\n      <td>computers_accessories</td>\n      <td>36f60d45225e60c7da4558b070ce4b60</td>\n      <td>25514</td>\n    </tr>\n  </tbody>\n</table>\n</div>"
     },
     "execution_count": 25,
     "metadata": {},
     "output_type": "execute_result"
    }
   ],
   "source": [
    "# Top 20 Products Category\n",
    "products_sales = customers_order.groupby(['product_category_name_english','product_id'])['payment_value'].agg(['count']).reset_index().sort_values(by = 'count', ascending= False)\n",
    "\n",
    "products_sales.head(20)"
   ],
   "metadata": {
    "collapsed": false,
    "ExecuteTime": {
     "end_time": "2024-02-13T06:05:15.550962Z",
     "start_time": "2024-02-13T06:05:13.308752Z"
    }
   }
  },
  {
   "cell_type": "markdown",
   "source": [
    "### Order Status Analysis"
   ],
   "metadata": {
    "collapsed": false
   }
  },
  {
   "cell_type": "code",
   "execution_count": 26,
   "outputs": [
    {
     "data": {
      "text/plain": "<Figure size 1080x720 with 1 Axes>",
      "image/png": "[encoded data removed]"
     },
     "metadata": {},
     "output_type": "display_data"
    }
   ],
   "source": [
    "# Check delivery status\n",
    "order_status = customers_order.groupby(['order_status'])['order_id'].agg(['count']).reset_index()\n",
    "labels = order_status['order_status'].unique()\n",
    "colors = sns.color_palette('pastel')[0:len(labels)]\n",
    "\n",
    "plt.figure(figsize = (15,10))\n",
    "plt.pie(order_status['count'], labels = labels, colors = colors)\n",
    "plt.show()"
   ],
   "metadata": {
    "collapsed": false,
    "ExecuteTime": {
     "end_time": "2024-02-13T06:05:31.151133Z",
     "start_time": "2024-02-13T06:05:29.448228Z"
    }
   }
  },
  {
   "cell_type": "code",
   "execution_count": 27,
   "outputs": [
    {
     "data": {
      "text/plain": "Index(['customer_id', 'customer_unique_id', 'customer_zip_code_prefix',\n       'customer_city', 'customer_state', 'geolocation_lat', 'geolocation_lng',\n       'geolocation_city', 'geolocation_state', 'order_id', 'order_status',\n       'order_purchase_timestamp', 'order_approved_at',\n       'order_delivered_carrier_date', 'order_delivered_customer_date',\n       'order_estimated_delivery_date', 'order_item_id', 'product_id',\n       'seller_id', 'shipping_limit_date', 'price', 'freight_value',\n       'payment_sequential', 'payment_type', 'payment_installments',\n       'payment_value', 'review_id', 'review_score', 'review_comment_title',\n       'review_comment_message', 'review_creation_date',\n       'review_answer_timestamp', 'product_category_name',\n       'product_name_lenght', 'product_description_lenght',\n       'product_photos_qty', 'product_weight_g', 'product_length_cm',\n       'product_height_cm', 'product_width_cm',\n       'product_category_name_english', 'delivery_against_estimated',\n       'order_purchase_year', 'order_purchase_month', 'order_purchase_day',\n       'order_purchase_dayofweek', 'order_purchase_hr'],\n      dtype='object')"
     },
     "execution_count": 27,
     "metadata": {},
     "output_type": "execute_result"
    }
   ],
   "source": [
    "customers_order.columns"
   ],
   "metadata": {
    "collapsed": false,
    "ExecuteTime": {
     "end_time": "2024-02-13T06:06:14.037717Z",
     "start_time": "2024-02-13T06:06:13.941602Z"
    }
   }
  },
  {
   "cell_type": "code",
   "execution_count": 29,
   "outputs": [
    {
     "data": {
      "text/plain": "0     5.0\n1     5.0\n2     5.0\n3     5.0\n4     5.0\n5     5.0\n6     5.0\n7     5.0\n8     5.0\n9     5.0\n10    5.0\n11    5.0\n12    5.0\n13    5.0\n14    5.0\n15    5.0\n16    5.0\n17    5.0\n18    5.0\n19    5.0\nName: order_purchase_month, dtype: float64"
     },
     "execution_count": 29,
     "metadata": {},
     "output_type": "execute_result"
    }
   ],
   "source": [
    "customers_order['order_purchase_month'].head(20)"
   ],
   "metadata": {
    "collapsed": false,
    "ExecuteTime": {
     "end_time": "2024-02-13T06:08:25.330400Z",
     "start_time": "2024-02-13T06:08:25.325054Z"
    }
   }
  },
  {
   "cell_type": "code",
   "execution_count": 53,
   "outputs": [
    {
     "data": {
      "text/plain": "  order_status     count\n0     approved       658\n1     canceled     74908\n2    delivered  17315142\n3     invoiced     59837\n4   processing     57059\n5      shipped    150020\n6  unavailable      1241",
      "text/html": "<div>\n<style scoped>\n    .dataframe tbody tr th:only-of-type {\n        vertical-align: middle;\n    }\n\n    .dataframe tbody tr th {\n        vertical-align: top;\n    }\n\n    .dataframe thead th {\n        text-align: right;\n    }\n</style>\n<table border=\"1\" class=\"dataframe\">\n  <thead>\n    <tr style=\"text-align: right;\">\n      <th></th>\n      <th>order_status</th>\n      <th>count</th>\n    </tr>\n  </thead>\n  <tbody>\n    <tr>\n      <th>0</th>\n      <td>approved</td>\n      <td>658</td>\n    </tr>\n    <tr>\n      <th>1</th>\n      <td>canceled</td>\n      <td>74908</td>\n    </tr>\n    <tr>\n      <th>2</th>\n      <td>delivered</td>\n      <td>17315142</td>\n    </tr>\n    <tr>\n      <th>3</th>\n      <td>invoiced</td>\n      <td>59837</td>\n    </tr>\n    <tr>\n      <th>4</th>\n      <td>processing</td>\n      <td>57059</td>\n    </tr>\n    <tr>\n      <th>5</th>\n      <td>shipped</td>\n      <td>150020</td>\n    </tr>\n    <tr>\n      <th>6</th>\n      <td>unavailable</td>\n      <td>1241</td>\n    </tr>\n  </tbody>\n</table>\n</div>"
     },
     "execution_count": 53,
     "metadata": {},
     "output_type": "execute_result"
    }
   ],
   "source": [
    "# Extraction \n",
    "sales_delivered = customers_order[customers_order['order_status'] == 'delivered'].copy(deep = True)\n",
    "### Order Trend by Month ###\n",
    "#set theme for all charts:\n",
    "plt.style.use(\"seaborn-whitegrid\")\n",
    "sns.set_theme(style=\"whitegrid\", palette=\"pastel\")\n",
    "\n",
    "#define a function to format chart:\n",
    "def format_chart_trend(ax):\n",
    "    ax.title.set_size(22)\n",
    "    ax.xaxis.label.set_size(17)\n",
    "    ax.yaxis.label.set_size(17)\n",
    "    ax.xaxis.set_tick_params(labelsize=14)\n",
    "    ax.yaxis.set_tick_params(labelsize=14)\n",
    "\n",
    "#create df order_M to calculate no of delivered orders by month:    \n",
    "ord_M=sales_delivered.pivot_table(values = ['order_id', 'price']\n",
    "                              , index=['order_purchase_year','order_purchase_month','order_purchase_day']\n",
    "                              , aggfunc={'order_id':'nunique','price':'sum'})\n",
    "\n",
    "#sort data by timing (for purchase_MMYYY col):\n",
    "ord_M = ord_M.sort_index(ascending=[1,1,1])\n",
    "ord_M.reset_index(inplace = True)\n",
    "del ord_M['purchase_year']\n",
    "del ord_M['purchase_month']\n",
    "ord_M.set_index('purchase_MMYYYY', inplace=True)\n",
    "ord_M['revenue($R1000)']=ord_M['price']/1000\n",
    "del ord_M['price']\n",
    "\n",
    "#present data to line chart:\n",
    "width = .45\n",
    "fig = plt.figure()\n",
    "ax1 = ord_M['revenue($R1000)'].plot(kind='bar', figsize=(20,7), width = width)\n",
    "ax2 = ord_M['order_id'].plot(secondary_y=True, color='#007FD1')\n",
    "ax1.set(ylabel='revenue ($R1000)')\n",
    "ax1.set(title=\"Trend of Revenue ($R1000) & Orders by Month\", xlabel=\"purchased month\")\n",
    "ax1.title.set_size(18)\n",
    "ax1.xaxis.label.set_size(14)\n",
    "ax1.yaxis.label.set_size(14)\n",
    "ax1.xaxis.set_tick_params(labelsize=13)\n",
    "ax1.yaxis.set_tick_params(labelsize=13)\n",
    "ax2.yaxis.label.set_size(14)\n",
    "ax2.yaxis.set_tick_params(labelsize=13)\n",
    "ax2.set_ylabel('no of orders', rotation=-90, labelpad=20)\n",
    "fig.legend(loc='upper right', fontsize=14)\n",
    "\n",
    "#annotation of the peak point:\n",
    "from datetime import datetime\n",
    "peak = 'Peak of revenue & orders'\n",
    "ax2.annotate(peak, xy=(13, 7289+50),\n",
    "             xytext=(13, 7289 + 300),fontsize=15, color='red',\n",
    "             arrowprops=dict(facecolor='#FC5190',shrink=0.05),\n",
    "             horizontalalignment='left', verticalalignment='top')\n",
    "plt.savefig('Trend of Revenue ($R1000) & Orders by Month', dpi=400, bbox_inches='tight');\n",
    "\n"
   ],
   "metadata": {
    "collapsed": false,
    "ExecuteTime": {
     "end_time": "2024-02-13T04:34:20.234010Z",
     "start_time": "2024-02-13T04:34:20.210144Z"
    }
   }
  },
  {
   "cell_type": "code",
   "execution_count": 29,
   "outputs": [
    {
     "data": {
      "text/plain": "Index(['customer_id', 'customer_unique_id', 'customer_zip_code_prefix',\n       'customer_city', 'customer_state', 'geolocation_lat', 'geolocation_lng',\n       'geolocation_city', 'geolocation_state', 'order_id', 'order_status',\n       'order_purchase_timestamp', 'order_approved_at',\n       'order_delivered_carrier_date', 'order_delivered_customer_date',\n       'order_estimated_delivery_date', 'order_item_id', 'product_id',\n       'seller_id', 'shipping_limit_date', 'price', 'freight_value',\n       'payment_sequential', 'payment_type', 'payment_installments',\n       'payment_value', 'review_id', 'review_score', 'review_comment_title',\n       'review_comment_message', 'review_creation_date',\n       'review_answer_timestamp', 'product_category_name',\n       'product_name_lenght', 'product_description_lenght',\n       'product_photos_qty', 'product_weight_g', 'product_length_cm',\n       'product_height_cm', 'product_width_cm',\n       'product_category_name_english', 'delivery_against_estimated',\n       'order_purchase_year', 'order_purchase_month', 'order_purchase_day',\n       'order_purchase_dayofweek', 'order_purchase_hr'],\n      dtype='object')"
     },
     "execution_count": 29,
     "metadata": {},
     "output_type": "execute_result"
    }
   ],
   "source": [
    "customers_order.columns"
   ],
   "metadata": {
    "collapsed": false,
    "ExecuteTime": {
     "end_time": "2024-02-13T04:57:25.669837Z",
     "start_time": "2024-02-13T04:57:25.631232Z"
    }
   }
  },
  {
   "cell_type": "code",
   "execution_count": null,
   "outputs": [],
   "source": [],
   "metadata": {
    "collapsed": false
   }
  },
  {
   "cell_type": "code",
   "execution_count": null,
   "outputs": [],
   "source": [],
   "metadata": {
    "collapsed": false
   }
  },
  {
   "cell_type": "code",
   "execution_count": null,
   "outputs": [],
   "source": [],
   "metadata": {
    "collapsed": false
   }
  },
  {
   "cell_type": "code",
   "execution_count": null,
   "outputs": [],
   "source": [],
   "metadata": {
    "collapsed": false
   }
  },
  {
   "cell_type": "code",
   "execution_count": null,
   "outputs": [],
   "source": [],
   "metadata": {
    "collapsed": false
   }
  },
  {
   "cell_type": "code",
   "execution_count": null,
   "outputs": [],
   "source": [],
   "metadata": {
    "collapsed": false
   }
  },
  {
   "cell_type": "code",
   "execution_count": null,
   "outputs": [],
   "source": [],
   "metadata": {
    "collapsed": false
   }
  },
  {
   "cell_type": "code",
   "execution_count": null,
   "outputs": [],
   "source": [],
   "metadata": {
    "collapsed": false
   }
  },
  {
   "cell_type": "code",
   "execution_count": null,
   "outputs": [],
   "source": [],
   "metadata": {
    "collapsed": false
   }
  },
  {
   "cell_type": "code",
   "execution_count": null,
   "outputs": [],
   "source": [],
   "metadata": {
    "collapsed": false
   }
  },
  {
   "cell_type": "code",
   "execution_count": null,
   "outputs": [],
   "source": [],
   "metadata": {
    "collapsed": false
   }
  },
  {
   "cell_type": "code",
   "execution_count": null,
   "outputs": [],
   "source": [],
   "metadata": {
    "collapsed": false
   }
  },
  {
   "cell_type": "code",
   "execution_count": null,
   "outputs": [],
   "source": [],
   "metadata": {
    "collapsed": false
   }
  },
  {
   "cell_type": "code",
   "execution_count": null,
   "outputs": [],
   "source": [],
   "metadata": {
    "collapsed": false
   }
  },
  {
   "cell_type": "code",
   "execution_count": null,
   "outputs": [],
   "source": [],
   "metadata": {
    "collapsed": false
   }
  }
 ],
 "metadata": {
  "kernelspec": {
   "display_name": "Python 3",
   "language": "python",
   "name": "python3"
  },
  "language_info": {
   "codemirror_mode": {
    "name": "ipython",
    "version": 2
   },
   "file_extension": ".py",
   "mimetype": "text/x-python",
   "name": "python",
   "nbconvert_exporter": "python",
   "pygments_lexer": "ipython2",
   "version": "2.7.6"
  }
 },
 "nbformat": 4,
 "nbformat_minor": 0
}
