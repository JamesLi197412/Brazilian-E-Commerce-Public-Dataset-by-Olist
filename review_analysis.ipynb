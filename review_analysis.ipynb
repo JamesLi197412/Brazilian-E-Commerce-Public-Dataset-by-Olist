{
 "cells": [
  {
   "cell_type": "code",
   "execution_count": 1,
   "id": "initial_id",
   "metadata": {
    "collapsed": true,
    "ExecuteTime": {
     "end_time": "2024-02-10T06:26:52.244813Z",
     "start_time": "2024-02-10T06:26:52.240008Z"
    }
   },
   "outputs": [],
   "source": [
    "import pandas as pd\n",
    "from sklearn.base import BaseEstimator\n",
    "\n",
    "from data_process import data_process"
   ]
  },
  {
   "cell_type": "code",
   "execution_count": null,
   "outputs": [],
   "source": [
    "# reference: https://github.com/CaptainE/RNN-LSTM-in-numpy/blob/master/RNN_LSTM_from_scratch.ipynb\n"
   ],
   "metadata": {
    "collapsed": false
   },
   "id": "2634276e49057d57"
  },
  {
   "cell_type": "code",
   "execution_count": 2,
   "outputs": [],
   "source": [
    "# Access to df\n",
    "df = data_process()"
   ],
   "metadata": {
    "collapsed": false,
    "ExecuteTime": {
     "end_time": "2024-02-10T06:28:32.671009Z",
     "start_time": "2024-02-10T06:26:57.297349Z"
    }
   },
   "id": "9431d7652cb05408"
  },
  {
   "cell_type": "code",
   "execution_count": 3,
   "outputs": [
    {
     "name": "stdout",
     "output_type": "stream",
     "text": [
      "(17658865, 44)\n"
     ]
    }
   ],
   "source": [
    "print(df.shape)"
   ],
   "metadata": {
    "collapsed": false,
    "ExecuteTime": {
     "end_time": "2024-02-10T06:28:45.126926Z",
     "start_time": "2024-02-10T06:28:45.121424Z"
    }
   },
   "id": "1ecf8df2cc1c9af3"
  },
  {
   "cell_type": "code",
   "execution_count": 4,
   "outputs": [
    {
     "data": {
      "text/plain": "                        customer_id                customer_unique_id  \\\n0  06b8999e2fba1a1fbc88172c00ba8bc7  861eff4711a542e4b93843c6dd7febb0   \n1  06b8999e2fba1a1fbc88172c00ba8bc7  861eff4711a542e4b93843c6dd7febb0   \n2  06b8999e2fba1a1fbc88172c00ba8bc7  861eff4711a542e4b93843c6dd7febb0   \n3  06b8999e2fba1a1fbc88172c00ba8bc7  861eff4711a542e4b93843c6dd7febb0   \n4  06b8999e2fba1a1fbc88172c00ba8bc7  861eff4711a542e4b93843c6dd7febb0   \n\n   customer_zip_code_prefix customer_city customer_state  geolocation_lat  \\\n0                     14409        franca             SP       -20.509897   \n1                     14409        franca             SP       -20.497396   \n2                     14409        franca             SP       -20.510459   \n3                     14409        franca             SP       -20.480940   \n4                     14409        franca             SP       -20.515413   \n\n   geolocation_lng geolocation_city geolocation_state  \\\n0       -47.397866           franca                SP   \n1       -47.399241           franca                SP   \n2       -47.399553           franca                SP   \n3       -47.394161           franca                SP   \n4       -47.398194           franca                SP   \n\n                           order_id  ... product_description_lenght  \\\n0  00e7ee1b050b8499577073aeb2a297a1  ...                     1141.0   \n1  00e7ee1b050b8499577073aeb2a297a1  ...                     1141.0   \n2  00e7ee1b050b8499577073aeb2a297a1  ...                     1141.0   \n3  00e7ee1b050b8499577073aeb2a297a1  ...                     1141.0   \n4  00e7ee1b050b8499577073aeb2a297a1  ...                     1141.0   \n\n  product_photos_qty product_weight_g product_length_cm product_height_cm  \\\n0                1.0           8683.0              54.0              64.0   \n1                1.0           8683.0              54.0              64.0   \n2                1.0           8683.0              54.0              64.0   \n3                1.0           8683.0              54.0              64.0   \n4                1.0           8683.0              54.0              64.0   \n\n  product_width_cm  seller_zip_code_prefix      seller_city seller_state  \\\n0             31.0                  8577.0  itaquaquecetuba           SP   \n1             31.0                  8577.0  itaquaquecetuba           SP   \n2             31.0                  8577.0  itaquaquecetuba           SP   \n3             31.0                  8577.0  itaquaquecetuba           SP   \n4             31.0                  8577.0  itaquaquecetuba           SP   \n\n  product_category_name_english  \n0              office_furniture  \n1              office_furniture  \n2              office_furniture  \n3              office_furniture  \n4              office_furniture  \n\n[5 rows x 44 columns]",
      "text/html": "<div>\n<style scoped>\n    .dataframe tbody tr th:only-of-type {\n        vertical-align: middle;\n    }\n\n    .dataframe tbody tr th {\n        vertical-align: top;\n    }\n\n    .dataframe thead th {\n        text-align: right;\n    }\n</style>\n<table border=\"1\" class=\"dataframe\">\n  <thead>\n    <tr style=\"text-align: right;\">\n      <th></th>\n      <th>customer_id</th>\n      <th>customer_unique_id</th>\n      <th>customer_zip_code_prefix</th>\n      <th>customer_city</th>\n      <th>customer_state</th>\n      <th>geolocation_lat</th>\n      <th>geolocation_lng</th>\n      <th>geolocation_city</th>\n      <th>geolocation_state</th>\n      <th>order_id</th>\n      <th>...</th>\n      <th>product_description_lenght</th>\n      <th>product_photos_qty</th>\n      <th>product_weight_g</th>\n      <th>product_length_cm</th>\n      <th>product_height_cm</th>\n      <th>product_width_cm</th>\n      <th>seller_zip_code_prefix</th>\n      <th>seller_city</th>\n      <th>seller_state</th>\n      <th>product_category_name_english</th>\n    </tr>\n  </thead>\n  <tbody>\n    <tr>\n      <th>0</th>\n      <td>06b8999e2fba1a1fbc88172c00ba8bc7</td>\n      <td>861eff4711a542e4b93843c6dd7febb0</td>\n      <td>14409</td>\n      <td>franca</td>\n      <td>SP</td>\n      <td>-20.509897</td>\n      <td>-47.397866</td>\n      <td>franca</td>\n      <td>SP</td>\n      <td>00e7ee1b050b8499577073aeb2a297a1</td>\n      <td>...</td>\n      <td>1141.0</td>\n      <td>1.0</td>\n      <td>8683.0</td>\n      <td>54.0</td>\n      <td>64.0</td>\n      <td>31.0</td>\n      <td>8577.0</td>\n      <td>itaquaquecetuba</td>\n      <td>SP</td>\n      <td>office_furniture</td>\n    </tr>\n    <tr>\n      <th>1</th>\n      <td>06b8999e2fba1a1fbc88172c00ba8bc7</td>\n      <td>861eff4711a542e4b93843c6dd7febb0</td>\n      <td>14409</td>\n      <td>franca</td>\n      <td>SP</td>\n      <td>-20.497396</td>\n      <td>-47.399241</td>\n      <td>franca</td>\n      <td>SP</td>\n      <td>00e7ee1b050b8499577073aeb2a297a1</td>\n      <td>...</td>\n      <td>1141.0</td>\n      <td>1.0</td>\n      <td>8683.0</td>\n      <td>54.0</td>\n      <td>64.0</td>\n      <td>31.0</td>\n      <td>8577.0</td>\n      <td>itaquaquecetuba</td>\n      <td>SP</td>\n      <td>office_furniture</td>\n    </tr>\n    <tr>\n      <th>2</th>\n      <td>06b8999e2fba1a1fbc88172c00ba8bc7</td>\n      <td>861eff4711a542e4b93843c6dd7febb0</td>\n      <td>14409</td>\n      <td>franca</td>\n      <td>SP</td>\n      <td>-20.510459</td>\n      <td>-47.399553</td>\n      <td>franca</td>\n      <td>SP</td>\n      <td>00e7ee1b050b8499577073aeb2a297a1</td>\n      <td>...</td>\n      <td>1141.0</td>\n      <td>1.0</td>\n      <td>8683.0</td>\n      <td>54.0</td>\n      <td>64.0</td>\n      <td>31.0</td>\n      <td>8577.0</td>\n      <td>itaquaquecetuba</td>\n      <td>SP</td>\n      <td>office_furniture</td>\n    </tr>\n    <tr>\n      <th>3</th>\n      <td>06b8999e2fba1a1fbc88172c00ba8bc7</td>\n      <td>861eff4711a542e4b93843c6dd7febb0</td>\n      <td>14409</td>\n      <td>franca</td>\n      <td>SP</td>\n      <td>-20.480940</td>\n      <td>-47.394161</td>\n      <td>franca</td>\n      <td>SP</td>\n      <td>00e7ee1b050b8499577073aeb2a297a1</td>\n      <td>...</td>\n      <td>1141.0</td>\n      <td>1.0</td>\n      <td>8683.0</td>\n      <td>54.0</td>\n      <td>64.0</td>\n      <td>31.0</td>\n      <td>8577.0</td>\n      <td>itaquaquecetuba</td>\n      <td>SP</td>\n      <td>office_furniture</td>\n    </tr>\n    <tr>\n      <th>4</th>\n      <td>06b8999e2fba1a1fbc88172c00ba8bc7</td>\n      <td>861eff4711a542e4b93843c6dd7febb0</td>\n      <td>14409</td>\n      <td>franca</td>\n      <td>SP</td>\n      <td>-20.515413</td>\n      <td>-47.398194</td>\n      <td>franca</td>\n      <td>SP</td>\n      <td>00e7ee1b050b8499577073aeb2a297a1</td>\n      <td>...</td>\n      <td>1141.0</td>\n      <td>1.0</td>\n      <td>8683.0</td>\n      <td>54.0</td>\n      <td>64.0</td>\n      <td>31.0</td>\n      <td>8577.0</td>\n      <td>itaquaquecetuba</td>\n      <td>SP</td>\n      <td>office_furniture</td>\n    </tr>\n  </tbody>\n</table>\n<p>5 rows × 44 columns</p>\n</div>"
     },
     "execution_count": 4,
     "metadata": {},
     "output_type": "execute_result"
    }
   ],
   "source": [
    "# Start Sentiment Analysis  (on reviews)\n",
    "df.head()"
   ],
   "metadata": {
    "collapsed": false,
    "ExecuteTime": {
     "end_time": "2024-02-10T06:29:03.829923Z",
     "start_time": "2024-02-10T06:29:03.791665Z"
    }
   },
   "id": "70e01e6874615a06"
  },
  {
   "cell_type": "code",
   "execution_count": 5,
   "outputs": [
    {
     "data": {
      "text/plain": "Index(['customer_id', 'customer_unique_id', 'customer_zip_code_prefix',\n       'customer_city', 'customer_state', 'geolocation_lat', 'geolocation_lng',\n       'geolocation_city', 'geolocation_state', 'order_id', 'order_status',\n       'order_purchase_timestamp', 'order_approved_at',\n       'order_delivered_carrier_date', 'order_delivered_customer_date',\n       'order_estimated_delivery_date', 'order_item_id', 'product_id',\n       'seller_id', 'shipping_limit_date', 'price', 'freight_value',\n       'payment_sequential', 'payment_type', 'payment_installments',\n       'payment_value', 'review_id', 'review_score', 'review_comment_title',\n       'review_comment_message', 'review_creation_date',\n       'review_answer_timestamp', 'product_category_name',\n       'product_name_lenght', 'product_description_lenght',\n       'product_photos_qty', 'product_weight_g', 'product_length_cm',\n       'product_height_cm', 'product_width_cm', 'seller_zip_code_prefix',\n       'seller_city', 'seller_state', 'product_category_name_english'],\n      dtype='object')"
     },
     "execution_count": 5,
     "metadata": {},
     "output_type": "execute_result"
    }
   ],
   "source": [
    "df.columns"
   ],
   "metadata": {
    "collapsed": false,
    "ExecuteTime": {
     "end_time": "2024-02-10T06:32:24.164481Z",
     "start_time": "2024-02-10T06:32:24.158931Z"
    }
   },
   "id": "6a95d667f60e0976"
  },
  {
   "cell_type": "code",
   "execution_count": 10,
   "outputs": [
    {
     "name": "stdout",
     "output_type": "stream",
     "text": [
      "Dataset shape: (7277068, 4)\n"
     ]
    }
   ],
   "source": [
    "df_review = df.loc[:,['review_id','review_score','review_comment_title','review_comment_message']]\n",
    "# remove null data on certain column\n",
    "df_review = df_review.dropna(subset = ['review_comment_message'])\n",
    "df_review.columns = ['id','score','comment_title','comment']\n",
    "\n",
    "print(f'Dataset shape: {df_review.shape}')"
   ],
   "metadata": {
    "collapsed": false,
    "ExecuteTime": {
     "end_time": "2024-02-10T06:50:56.075553Z",
     "start_time": "2024-02-10T06:50:53.909269Z"
    }
   },
   "id": "f8474953121f3999"
  },
  {
   "cell_type": "code",
   "execution_count": 1,
   "outputs": [],
   "source": [
    "# Option 1: Convert all portuguese into English and conduct processing\n",
    "from deep_translator import GoogleTranslator\n",
    "def translate_text(text):\n",
    "    translated = GoogleTranslator(source='auto', target='en').translate(text)\n",
    "    return translated\n",
    "\n",
    "# Option 2: Process text in portuguese\n",
    "\n"
   ],
   "metadata": {
    "collapsed": false,
    "ExecuteTime": {
     "end_time": "2024-02-12T14:33:24.210090Z",
     "start_time": "2024-02-12T14:33:23.986748Z"
    }
   },
   "id": "69a6d24683190dfa"
  },
  {
   "cell_type": "markdown",
   "source": [],
   "metadata": {
    "collapsed": false
   },
   "id": "ecbce1038fef009c"
  },
  {
   "cell_type": "code",
   "execution_count": null,
   "outputs": [],
   "source": [
    "# Pipelines & Custom Transformers in scikit-learn\n",
    "# Reference : https://towardsdatascience.com/pipelines-custom-transformers-in-scikit-learn-the-step-by-step-guide-with-python-code-4a7d9b068156\n",
    "class ExperimentalTransformers(BaseEstimator, TransformerMixin):\n",
    "    # Constructor, called when pipeline is initialized\n",
    "    def __init__(self, feature_name, language='en'):\n",
    "        print('\\n')\n",
    "    \n",
    "    # Called when we fit the pipeline\n",
    "    def fit(self,X,y = None):\n",
    "        print('\\n fit() was called')\n",
    "    \n",
    "    # Called when we use fit or transform on the pipeline\n",
    "    def transform(self,X, y = None):\n",
    "        print('\\n transform() was called')\n",
    "        X_new = X.copy()\n",
    "        return X_new"
   ],
   "metadata": {
    "collapsed": false
   },
   "id": "632423513c586d8"
  },
  {
   "cell_type": "code",
   "execution_count": null,
   "outputs": [],
   "source": [
    "print('Text Processing Pipeline started')"
   ],
   "metadata": {
    "collapsed": false
   },
   "id": "f12537069d59f213"
  },
  {
   "cell_type": "code",
   "execution_count": null,
   "outputs": [],
   "source": [
    "#Pre-Prcoessing and Bag of Word Vectorization using Count Vectorizer\n",
    "from sklearn.feature_extraction.text import CountVectorizer\n",
    "from nltk.corpus import stopwords\n",
    "from nltk.tokenize import RegexpTokenizer\n",
    "stopwords_pt = stopwords.word(\"portuguese\")\n",
    "\n",
    "import re\n",
    "def remove_stopwords(text,stopwords_pt):\n",
    "    '''\n",
    "        Remove stopwords from reviews\n",
    "    :param texto: \n",
    "    :return: \n",
    "    '''\n",
    "    text = text.lower()\n",
    "\n",
    "    words = text.split()\n",
    "    filtered_words = [word for word in words if word.lower() not in stopwords_pt]\n",
    "\n",
    "    text_clean = (\" \".join(filtered_words))\n",
    "   \n",
    "\n",
    "    return text_clean\n",
    "\n",
    "df_review['review'] = df_review['review'].apply(remove_stopwords)"
   ],
   "metadata": {
    "collapsed": false
   },
   "id": "8dd5430e4705a730"
  },
  {
   "cell_type": "code",
   "execution_count": null,
   "outputs": [],
   "source": [
    "df_review.head()"
   ],
   "metadata": {
    "collapsed": false
   },
   "id": "b2219a4d6e6bfb72"
  },
  {
   "cell_type": "markdown",
   "source": [
    "### Feature Extraction"
   ],
   "metadata": {
    "collapsed": false
   },
   "id": "291398c215add67b"
  },
  {
   "cell_type": "code",
   "execution_count": null,
   "outputs": [],
   "source": [
    "from sklearn.feature_extraction.text import CountVectorizer\n",
    "vectorizer = CountVectorizer(binary = True, max_features= 5000)\n",
    "texts = df_review['review']\n",
    "\n",
    "x_bow = vectorizer.fit_transform(texts)\n",
    "print(x_bow.shape, type(x_bow))"
   ],
   "metadata": {
    "collapsed": false
   },
   "id": "bdc0620924458503"
  },
  {
   "cell_type": "markdown",
   "source": [
    "#### TF -- IDF"
   ],
   "metadata": {
    "collapsed": false
   },
   "id": "b7e61100b8582627"
  },
  {
   "cell_type": "code",
   "execution_count": null,
   "outputs": [],
   "source": [
    "from sklearn.feature_extraction.text import TfidfVectorizer\n",
    "tfidf_vectorizer = TfidfVectorizer(max_features = 5000)\n",
    "x_tfidf = tfidf_vectorizer.fit_transform(texto)"
   ],
   "metadata": {
    "collapsed": false
   },
   "id": "5af93c0e6bf3b519"
  },
  {
   "cell_type": "markdown",
   "source": [
    "## Models"
   ],
   "metadata": {
    "collapsed": false
   },
   "id": "42ff3386e62d5c29"
  },
  {
   "cell_type": "code",
   "execution_count": null,
   "outputs": [],
   "source": [
    "from sklearn.model_selection import train_test_split\n",
    "X1_train, X1_test, y1_train, y1_test = train_test_split(x_bow, df_review['label'],\n",
    "                                                        test_size=0.3, random_state = 10)\n",
    "\n",
    "X2_train, X2_test, y2_train, y2_test = train_test_split(x_tfidf, df_review['label'],\n",
    "                                                        test_size=0.3, random_state = 10)\n"
   ],
   "metadata": {
    "collapsed": false
   },
   "id": "27410b931d9d3520"
  },
  {
   "cell_type": "code",
   "execution_count": null,
   "outputs": [],
   "source": [
    "from sklearn.metrics import accuracy_score, confusion_matrix, f1_score, roc_auc_score\n",
    "import matplotlib.pyplot as plt\n",
    "import seaborn as sns\n",
    "def matching_criteria(y_true, y_pred):\n",
    "    print(\"Accuracy: \", accuracy_score(y_true, y_pred))\n",
    "    print(\"\\nROC, AUC:\", roc_auc_score(y_true, y_pred))\n",
    "    print(\"\\nF1-Score:\", f1_score(y_true, y_pred, average='weighted'))\n",
    "    print(\"\\nIts Corresponding Confusion Matrix:\")\n",
    "    sns.heatmap(confusion_matrix(y_true, y_pred), annot=True)\n",
    "    plt.show()"
   ],
   "metadata": {
    "collapsed": false
   },
   "id": "527bac485b64f56c"
  },
  {
   "cell_type": "code",
   "execution_count": null,
   "outputs": [],
   "source": [
    "\n",
    "from sklearn.ensemble import RandomForestClassifier, AdaBoostClassifier, GradientBoostingClassifier\n",
    "from sklearn.naive_bayes import GaussianNB\n",
    "from sklearn.linear_model import LogisticRegression\n",
    "from sklearn.tree import DecisionTreeClassifier\n",
    "from sklearn.svm import SVC\n",
    "from sklearn.model_selection import cross_val_score, StratifiedKFold, RandomizedSearchCV\n",
    "from sklearn.metrics import accuracy_score, roc_auc_score, mean_squared_error\n",
    "\n",
    "def model_outcome(X_train,y_train, X_test, y_test):\n",
    "    models = []\n",
    "    models.append(('Logistic Regression', LogisticRegression()))\n",
    "    models.append(('Decision Trees', DecisionTreeClassifier()))\n",
    "    models.append(('Naive Bayes', GaussianNB()))\n",
    "    models.append(('SVM', SVC()))\n",
    "    models.append(('Random Forest', RandomForestClassifier()))\n",
    "\n",
    "    result = pd.DataFrame(columns = ['Model','Accuracy for Training','Accuracy for Testing','Std'])\n",
    "    for index,model in enumerate(models):\n",
    "        kfold = StratifiedKFold(n_splits = 5)\n",
    "        cross_val_result = cross_val_score(model[1], X_train,y_train, cv = kfold)\n",
    "\n",
    "        # training the model\n",
    "        model[1].fit(X_train,y_train)\n",
    "        predictions = model[1].predict(X_test)\n",
    "        test_accuracy = accuracy_score(y_test, predictions)\n",
    "\n",
    "        result.loc[index,'Model'] = model[0]\n",
    "        result.loc[index,'Accuracy for Training'] = cross_val_result.mean()\n",
    "        result.loc[index,'Accuracy for Testing'] = test_accuracy\n",
    "        result.loc[index,'Std'] = cross_val_result.std()\n",
    "\n",
    "\n",
    "    return result\n",
    "model_result = model_outcome(X_train,y_train, X_test, y_test)"
   ],
   "metadata": {
    "collapsed": false
   },
   "id": "e47f8f5277ca9d39"
  }
 ],
 "metadata": {
  "kernelspec": {
   "display_name": "Python 3",
   "language": "python",
   "name": "python3"
  },
  "language_info": {
   "codemirror_mode": {
    "name": "ipython",
    "version": 2
   },
   "file_extension": ".py",
   "mimetype": "text/x-python",
   "name": "python",
   "nbconvert_exporter": "python",
   "pygments_lexer": "ipython2",
   "version": "2.7.6"
  }
 },
 "nbformat": 4,
 "nbformat_minor": 5
}
